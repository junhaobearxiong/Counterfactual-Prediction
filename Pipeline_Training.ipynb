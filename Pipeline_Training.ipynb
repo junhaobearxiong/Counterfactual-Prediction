{
 "cells": [
  {
   "cell_type": "code",
   "execution_count": 1,
   "metadata": {},
   "outputs": [],
   "source": [
    "import numpy as np\n",
    "from EM import EM\n",
    "from plot import plot\n",
    "import matplotlib.pyplot as plt"
   ]
  },
  {
   "cell_type": "code",
   "execution_count": 2,
   "metadata": {},
   "outputs": [],
   "source": [
    "# EM Setting\n",
    "num_past_effects = 3\n",
    "training_pct = .8\n",
    "single_effect = False"
   ]
  },
  {
   "cell_type": "code",
   "execution_count": 3,
   "metadata": {},
   "outputs": [],
   "source": [
    "data = np.load('../Data/inr_preprocessed_data.npz')"
   ]
  },
  {
   "cell_type": "code",
   "execution_count": 22,
   "metadata": {},
   "outputs": [
    {
     "name": "stderr",
     "output_type": "stream",
     "text": [
      "/home/bear/Documents/Counterfactual-Prediction/EM.py:456: RuntimeWarning: invalid value encountered in sqrt\n",
      "  np.sqrt(self.sigma_pred[n, index]+self.sigma_2))\n"
     ]
    },
    {
     "name": "stdout",
     "output_type": "stream",
     "text": [
      "max iterations: 20 reached\n",
      "CPU times: user 1min 21s, sys: 36 ms, total: 1min 21s\n",
      "Wall time: 1min 21s\n"
     ]
    }
   ],
   "source": [
    "%%time\n",
    "em = EM(data['y_mtx'], data['X_mtx'], data['c_mtx'], num_past_effects, 0, train_pct=training_pct, single_effect=single_effect)\n",
    "em.run_EM(20)"
   ]
  },
  {
   "cell_type": "code",
   "execution_count": 23,
   "metadata": {},
   "outputs": [
    {
     "data": {
      "text/plain": [
       "1.1820494900835885"
      ]
     },
     "execution_count": 23,
     "metadata": {},
     "output_type": "execute_result"
    }
   ],
   "source": [
    "em.get_MSE()"
   ]
  },
  {
   "cell_type": "code",
   "execution_count": 24,
   "metadata": {},
   "outputs": [
    {
     "name": "stdout",
     "output_type": "stream",
     "text": [
      "Coefficient for nsaid: [-0.01343042  0.06188978 -0.0206052 ]\n",
      "Coefficient for transfusion_plasma: [-0.86879404 -0.10335074 -0.09654291]\n",
      "Coefficient for transfusion_platelet: [-0.51971407 -0.25911799 -0.26322033]\n",
      "Coefficient for anticoagulant: [-0.7737384 -0.9251602 -0.8082308]\n",
      "Coefficient for aspirin: [-0.04910664 -0.04401215  0.07716922]\n",
      "Coefficient for chronic kidney failure: -0.26205698527767574\n",
      "Coefficient for sickle cell: -0.6897419487402043\n",
      "Coefficient for age: -0.031631826948945146\n"
     ]
    }
   ],
   "source": [
    "treatment_types = ['nsaid', 'transfusion_plasma', 'transfusion_platelet', 'anticoagulant', 'aspirin']\n",
    "for i, treatment in enumerate(treatment_types):\n",
    "    print('Coefficient for {}: {}'.format(treatment, em.A[:, i]))\n",
    "static_types = ['chronic kidney failure', 'sickle cell', 'age']\n",
    "for j, static in enumerate(static_types):\n",
    "    print('Coefficient for {}: {}'.format(static, em.b[j]))"
   ]
  },
  {
   "cell_type": "code",
   "execution_count": 25,
   "metadata": {
    "scrolled": false
   },
   "outputs": [],
   "source": [
    "random_patients = np.random.randint(0, em.y.shape[0], 0)\n",
    "for i in random_patients:\n",
    "    plot(em, i, time_unit=18)"
   ]
  },
  {
   "cell_type": "code",
   "execution_count": 26,
   "metadata": {},
   "outputs": [
    {
     "data": {
      "image/png": "[encoded data removed]",
      "text/plain": [
       "<Figure size 432x288 with 1 Axes>"
      ]
     },
     "metadata": {},
     "output_type": "display_data"
    }
   ],
   "source": [
    "plt.plot([i for i in range(1, len(em.obs_log_lik))], em.obs_log_lik[1:])\n",
    "plt.xlabel('Iterations')\n",
    "plt.ylabel('Observed data log likelihood')\n",
    "plt.title('EM log likelihood')\n",
    "plt.show()"
   ]
  },
  {
   "cell_type": "code",
   "execution_count": 27,
   "metadata": {},
   "outputs": [
    {
     "data": {
      "text/plain": [
       "[-60778.179789624526,\n",
       " -26748.52435789301,\n",
       " -26544.016870065017,\n",
       " -25767.85416505135,\n",
       " -24856.88275972586,\n",
       " -23978.05241023926,\n",
       " -23196.842204409284,\n",
       " -22531.263593569445,\n",
       " -21981.03079964908,\n",
       " -21546.891632550534,\n",
       " -21248.427333312025,\n",
       " -21151.24127416959,\n",
       " -21383.738786127207,\n",
       " -21506.096752673686,\n",
       " -21462.896497848527,\n",
       " -21450.146175103117,\n",
       " -21446.770072118197,\n",
       " -21448.023744983937,\n",
       " -21452.861187961116,\n",
       " nan]"
      ]
     },
     "execution_count": 27,
     "metadata": {},
     "output_type": "execute_result"
    }
   ],
   "source": [
    "em.obs_log_lik"
   ]
  },
  {
   "cell_type": "code",
   "execution_count": null,
   "metadata": {},
   "outputs": [],
   "source": []
  }
 ],
 "metadata": {
  "kernelspec": {
   "display_name": "Python 3",
   "language": "python",
   "name": "python3"
  },
  "language_info": {
   "codemirror_mode": {
    "name": "ipython",
    "version": 3
   },
   "file_extension": ".py",
   "mimetype": "text/x-python",
   "name": "python",
   "nbconvert_exporter": "python",
   "pygments_lexer": "ipython3",
   "version": "3.6.5"
  }
 },
 "nbformat": 4,
 "nbformat_minor": 2
}
