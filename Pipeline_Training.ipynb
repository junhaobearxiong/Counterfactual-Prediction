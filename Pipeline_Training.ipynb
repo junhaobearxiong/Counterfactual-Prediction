{
 "cells": [
  {
   "cell_type": "code",
   "execution_count": 1,
   "metadata": {},
   "outputs": [],
   "source": [
    "import numpy as np\n",
    "from EM import EM\n",
    "from plot import plot\n",
    "import matplotlib.pyplot as plt\n",
    "import pickle"
   ]
  },
  {
   "cell_type": "code",
   "execution_count": 2,
   "metadata": {},
   "outputs": [],
   "source": [
    "signal_context = {}"
   ]
  },
  {
   "cell_type": "code",
   "execution_count": 3,
   "metadata": {},
   "outputs": [],
   "source": [
    "signal_name = 'creatinine'\n",
    "\n",
    "treatment_names = {}\n",
    "treatment_names['dialysis'] = ['dialysis'] \n",
    "treatment_names['nephrotoxic_drugs'] = ['acetaminophen_dose','celecoxib_dose','diclofenac_dose','ibuprofen_dose','indomethacin_dose',\n",
    "'ketorolac_dose','meloxicam_dose','naproxen_dose']\n",
    "treatment_names['dronedarone'] = ['dronedarone_dose']\n",
    "treatment_names['diuretic'] = ['eplerenone_dose', 'amiloride_dose', 'hydrochlorothiazide_dose',\n",
    "'spironolactone_dose', 'triamterene_dose', 'chlorothiazide_dose', 'indapamide_dose', 'torsemide_dose', \n",
    "'acetazolamide_dose', 'mannitol_dose']\n",
    "treatment_names['ace_i'] = ['lisinopril_dose',\n",
    " 'ramipril_dose',\n",
    " 'benazepril_dose',\n",
    " 'enalaprilat_dose',\n",
    " 'captopril_dose',\n",
    " 'perindopril_dose',\n",
    " 'trandolapril_dose']\n",
    "treatment_names['arb'] = ['valsartan_dose',\n",
    " 'telmisartan_dose',\n",
    " 'irbesartan_dose',\n",
    " 'losartan_dose',\n",
    " 'candesartan_dose']\n",
    "\n",
    "#treatment_names['search'] = ['losartan']\n",
    "\n",
    "chronic_keywords = ['chronic_kidney', 'kidney_cancer', 'renal', 'esrd', 'sickle_cell']\n",
    "\n",
    "demographic_names = ['gender', 'admit_weight']\n",
    "signal_context[signal_name] = (treatment_names, chronic_keywords, demographic_names)"
   ]
  },
  {
   "cell_type": "code",
   "execution_count": 4,
   "metadata": {},
   "outputs": [],
   "source": [
    "signal_name = 'inr'\n",
    "\n",
    "treatment_names = {}\n",
    "treatment_names['nsaid'] = ['acetaminophen_dose','celecoxib_dose','diclofenac_dose','ibuprofen_dose','indomethacin_dose',\n",
    "'ketorolac_dose','meloxicam_dose','naproxen_dose', 'aspirin_dose']\n",
    "treatment_names['anticoagulant'] = ['warfarin_dose','heparin_dose','dabigatran_dose','edoxaban_dose','rivaroxaban_dose',\n",
    "'apixaban_dose','enoxaparin_dose','dalteparin_dose','fondaparinux_dose']\n",
    "treatment_names['transfusion_platelets'] = ['transfuse_platelets']\n",
    "\n",
    "chronic_keywords = ['liver_disease', 'sickle_cell']\n",
    "\n",
    "demographic_names = []\n",
    "\n",
    "signal_context[signal_name] = (treatment_names, chronic_keywords, demographic_names)"
   ]
  },
  {
   "cell_type": "code",
   "execution_count": 5,
   "metadata": {},
   "outputs": [],
   "source": [
    "signal_name = 'platelets'\n",
    "treatment_names = {}\n",
    "treatment_names['platelets_transfusion'] = ['transfuse_platelets']\n",
    "treatment_names['ditp'] = ['ibuprofen_dose',\n",
    " 'acetaminophen_dose',\n",
    " 'ampicillin_dose',\n",
    " 'heparin_dose',\n",
    " 'vancomycin_dose',\n",
    " 'piperacillin_tazobac_dose',\n",
    " 'naproxen_dose']\n",
    "\n",
    "chronic_keywords = ['liver', 'sickle_cell']\n",
    "demographic_names = []\n",
    "signal_context[signal_name] = (treatment_names, chronic_keywords, demographic_names)"
   ]
  },
  {
   "cell_type": "code",
   "execution_count": 6,
   "metadata": {},
   "outputs": [],
   "source": [
    "signal_name = 'lactate'\n",
    "treatment_names = {}\n",
    "treatment_names['ivf'] = ['crystalloid_fluid', 'crystalloid_fluid_order']\n",
    "treatment_names['antibiotics'] = ['vancomycin_dose',\n",
    "'piperacillin_tazobac_dose',\n",
    "'ceftriaxone_dose',\n",
    "'meropenem_dose',\n",
    "'cefotaxime_dose', 'gentamicin_dose', 'ceftazidime_dose', 'amikacin_dose',\n",
    "'amphotericin_b_ambisome_dose', 'amphotericin_b_fungizone_dose']\n",
    "treatment_names['drugs_elevate_lactate'] = ['acetaminophen_dose',\n",
    " 'epinephrine_dose',\n",
    " 'propofol_dose',\n",
    " 'theophylline_dose',\n",
    " 'betaxolol_dose',\n",
    " 'metformin_dose','albuterol_dose', 'salmeterol_dose']\n",
    "\n",
    "#treatment_names['search'] = ['cocaine']\n",
    "\n",
    "chronic_keywords = ['chronic_kidney', 'kidney_cancer', 'renal', 'esrd', 'diabete', 'liver']\n",
    "demographic_names = []\n",
    "signal_context[signal_name] = (treatment_names, chronic_keywords, demographic_names)"
   ]
  },
  {
   "cell_type": "code",
   "execution_count": 7,
   "metadata": {},
   "outputs": [],
   "source": [
    "signal_name = 'bun'\n",
    "treatment_names = {}\n",
    "treatment_names['dialysis'] = ['dialysis'] \n",
    "treatment_names['diuretic'] = ['eplerenone_dose', 'amiloride_dose', 'hydrochlorothiazide_dose',\n",
    "'spironolactone_dose', 'triamterene_dose', 'chlorothiazide_dose', 'indapamide_dose', 'torsemide_dose', \n",
    "'acetazolamide_dose', 'mannitol_dose']\n",
    "treatment_names['drugs_increase'] = ['vancomycin_dose',\n",
    " 'furosemide_dose',\n",
    " 'carbamazepine_dose',\n",
    " 'rifampin_dose',\n",
    " 'hydrochlorothiazide_dose',\n",
    " 'spironolactone_dose',\n",
    " 'methotrexate_dose',\n",
    " 'chlorothiazide_dose',\n",
    " 'methyclothiazide_dose',\n",
    " 'amphotericin_b_ambisome_dose',\n",
    " 'amphotericin_b_fungizone_dose',\n",
    " 'cefazolin_dose',\n",
    " 'ceftriaxone_dose',\n",
    " 'ceftazidime_dose',\n",
    " 'cefuroxime_dose',\n",
    " 'cefotaxime_dose']\n",
    "\n",
    "chronic_keywords = ['chronic_kidney', 'kidney_cancer', 'renal', 'esrd', 'heart_failure', 'liver']\n",
    "\n",
    "demographic_names = []\n",
    "signal_context[signal_name] = (treatment_names, chronic_keywords, demographic_names)"
   ]
  },
  {
   "cell_type": "code",
   "execution_count": 8,
   "metadata": {},
   "outputs": [],
   "source": [
    "# EM Setting\n",
    "training_pct = .8\n",
    "single_effect = False"
   ]
  },
  {
   "cell_type": "code",
   "execution_count": null,
   "metadata": {},
   "outputs": [
    {
     "name": "stdout",
     "output_type": "stream",
     "text": [
      "iteration 1\n",
      "iteration 2\n",
      "iteration 3\n",
      "iteration 4\n",
      "iteration 5\n",
      "iteration 6\n",
      "iteration 7\n",
      "iteration 8\n",
      "iteration 9\n",
      "iteration 10\n",
      "iteration 11\n",
      "iteration 12\n",
      "iteration 13\n",
      "iteration 14\n"
     ]
    }
   ],
   "source": [
    "%%time\n",
    "all_signals = ['creatinine', 'bun', 'lactate', 'platelets', 'inr']\n",
    "past_effects = [2, 2, 2, 2, 3]\n",
    "all_params = {}\n",
    "\n",
    "for s, signal_name in enumerate(all_signals):\n",
    "    num_past_effects = past_effects[s]\n",
    "    treatment_names, chronic_keywords, demographic_names = signal_context[signal_name]\n",
    "    data = np.load('../Data/'+signal_name+'_preprocessed_data.npz')\n",
    "    \n",
    "    num_iter = 5 # number of iterations to average over coefficients\n",
    "    # store coefficients averaged over multiple runs of EM\n",
    "    A = np.zeros((num_iter, num_past_effects, len(treatment_names.keys())))\n",
    "    b = np.zeros((num_iter, len(chronic_keywords) + len(demographic_names)))\n",
    "    transition_std = np.zeros(num_iter)\n",
    "    observation_std = np.zeros(num_iter)\n",
    "    initial_state_std = np.zeros(num_iter)\n",
    "    initial_state_mean = np.zeros(num_iter)\n",
    "\n",
    "    for i in range(num_iter):\n",
    "        em = EM(data['y_mtx'], data['X_mtx'], data['c_mtx'], num_past_effects, K=0, train_pct=training_pct, X_prev_given=True,\n",
    "            X_prev = data['X_prev_mtx'], single_effect=single_effect)\n",
    "        em.run_EM(2000)\n",
    "        A[i, :, :] = em.A\n",
    "        b[i, :] = em.b\n",
    "        initial_state_mean[i] =  em.init_z\n",
    "        initial_state_std[i] = np.sqrt(em.sigma_0)\n",
    "        transition_std[i] = np.sqrt(em.sigma_1)\n",
    "        observation_std[i] = np.sqrt(em.sigma_2)\n",
    "        print('Finish run {} for {}'.format(i+1, signal_name))\n",
    "        \n",
    "    all_params[signal_name] = [A, b, initial_state_mean, initial_state_std, transition_std, observation_std]\n",
    "\n",
    "pickle.dump(all_params, open('../Data/est_params.pkl', 'wb'))"
   ]
  },
  {
   "cell_type": "code",
   "execution_count": null,
   "metadata": {},
   "outputs": [],
   "source": [
    "# = pickle.load(open('../Data/est_params.pkl', 'rb'))"
   ]
  },
  {
   "cell_type": "code",
   "execution_count": null,
   "metadata": {},
   "outputs": [],
   "source": [
    "print('Coeffients averaged over {} runs'.format(num_iter))\n",
    "for i, treatment in enumerate(treatment_names.keys()):\n",
    "    print('Coefficient for {}: {}'.format(treatment, np.round(np.average(A, axis=0)[:, i], 4)))\n",
    "static_types = chronic_keywords + demographic_names\n",
    "for j, static in enumerate(static_types):\n",
    "    print('Coefficient for {}: {}'.format(static, np.round(np.average(b, axis=0)[j], 4)))\n",
    "print('initial state mean: {}'.format(np.round(np.average(initial_state_mean), 4)))\n",
    "print('initial state std: {}'.format(np.round(np.average(initial_state_std), 4)))\n",
    "print('transition noise (std): {}'.format(np.round(np.average(transition_std), 4)))\n",
    "print('observation noise (std): {}'.format(np.round(np.average(observation_std), 4)))"
   ]
  },
  {
   "cell_type": "code",
   "execution_count": null,
   "metadata": {},
   "outputs": [],
   "source": [
    "print('Coeffients std')\n",
    "for i, treatment in enumerate(treatment_names.keys()):\n",
    "    print('Coefficient for {}: {}'.format(treatment, np.round(np.std(A, axis=0)[:, i], 4)))\n",
    "static_types = chronic_keywords + demographic_names\n",
    "for j, static in enumerate(static_types):\n",
    "    print('Coefficient for {}: {}'.format(static, np.round(np.std(b, axis=0)[j], 4)))\n",
    "print('initial state mean: {}'.format(np.round(np.std(initial_state_mean), 4)))\n",
    "print('initial state std: {}'.format(np.round(np.std(initial_state_std), 4)))\n",
    "print('transition noise (std): {}'.format(np.round(np.std(transition_std), 4)))\n",
    "print('observation noise (std): {}'.format(np.round(np.std(observation_std), 4)))"
   ]
  },
  {
   "cell_type": "code",
   "execution_count": null,
   "metadata": {},
   "outputs": [],
   "source": [
    "plt.plot([i for i in range(1, len(em.obs_log_lik))], em.obs_log_lik[1:])\n",
    "plt.xlabel('Iterations')\n",
    "plt.ylabel('Observed data log likelihood')\n",
    "plt.title('EM log likelihood')\n",
    "plt.show()"
   ]
  },
  {
   "cell_type": "code",
   "execution_count": null,
   "metadata": {},
   "outputs": [],
   "source": [
    "plt.plot([i for i in range(len(em.mse))], em.mse)\n",
    "plt.xlabel('Iterations')\n",
    "plt.ylabel('MSE')\n",
    "plt.title('Prediction MSE')\n",
    "plt.show()"
   ]
  },
  {
   "cell_type": "code",
   "execution_count": null,
   "metadata": {},
   "outputs": [],
   "source": [
    "patient_index = 0\n",
    "y_mtx = data['y_mtx'][patient_index, :]\n",
    "X_mtx = data['X_mtx'][patient_index, :, :]\n",
    "c_mtx = data['c_mtx'][patient_index, :]\n",
    "X_prev_mtx = data['X_prev_mtx'][patient_index, :, :]\n",
    "y_mtx = y_mtx[np.newaxis, :]\n",
    "X_mtx = X_mtx[np.newaxis, :, :]\n",
    "c_mtx = c_mtx[np.newaxis, :]\n",
    "X_prev_mtx = X_prev_mtx[np.newaxis, :, :]"
   ]
  },
  {
   "cell_type": "code",
   "execution_count": null,
   "metadata": {},
   "outputs": [],
   "source": [
    "converge = np.array(em.sos)\n",
    "initial = np.array(a)"
   ]
  },
  {
   "cell_type": "code",
   "execution_count": null,
   "metadata": {},
   "outputs": [],
   "source": [
    "diff = converge - initial"
   ]
  },
  {
   "cell_type": "code",
   "execution_count": null,
   "metadata": {},
   "outputs": [],
   "source": [
    "np.argsort(diff)[-30:]"
   ]
  },
  {
   "cell_type": "code",
   "execution_count": null,
   "metadata": {
    "scrolled": false
   },
   "outputs": [],
   "source": [
    "random_patients = [34] #np.random.randint(0, em.y.shape[0], 50)\n",
    "for i in random_patients:\n",
    "    plot(em, i, 12, signal_name, treatment_types=list(treatment_names.keys()))"
   ]
  },
  {
   "cell_type": "markdown",
   "metadata": {},
   "source": [
    "### Analysis\n",
    "Changes\n",
    "* Only select patients with at least 4 training observations (total of 1821)\n",
    "\n",
    "On real data\n",
    "* Issues:\n",
    "    * treatments coefficients are negative while they should be positive\n",
    "        * changing initialization doesn't seem to help as model converges in bad local min, and most directions still don't change\n",
    "    * observation noise is bigger than transition noise\n",
    "    * run time is long, each iteration takes 4s, M step takes 2.5s, loglik takes 1s\n",
    "* Reasons:\n",
    "    * The increasing effects of treatments are not pronouced in the data (see Source Data Analysis)\n",
    "        * it makes sense that nsaid and aspirin shows small number close to zero since their effects are 50-50.\n",
    "        * transfusion platelet should be more negative than others, also makes sense.\n",
    "        * the first number for plasma is a very negative number, but should be close to zero\n",
    "        * anticoagulant are more negative than platelet, but should be more similar\n",
    "    * bad noise estimation is expected, specifically underestimated initial state variance and overestimated observational noise \n",
    "    \n",
    "On simulation\n",
    "* Issues\n",
    "    * b seems to be harder to identify correctly compared to A (sensitive to initialization)\n",
    "    * estimated sigma 0 and sigma 2 are very different from the true value (not sensitive to initialization)\n",
    "        * underestimate sigma 0, overestimate sigma 2\n",
    "* Reasons\n",
    "   "
   ]
  },
  {
   "cell_type": "code",
   "execution_count": null,
   "metadata": {},
   "outputs": [],
   "source": []
  }
 ],
 "metadata": {
  "kernelspec": {
   "display_name": "Python 3",
   "language": "python",
   "name": "python3"
  },
  "language_info": {
   "codemirror_mode": {
    "name": "ipython",
    "version": 3
   },
   "file_extension": ".py",
   "mimetype": "text/x-python",
   "name": "python",
   "nbconvert_exporter": "python",
   "pygments_lexer": "ipython3",
   "version": "3.6.5"
  }
 },
 "nbformat": 4,
 "nbformat_minor": 2
}
