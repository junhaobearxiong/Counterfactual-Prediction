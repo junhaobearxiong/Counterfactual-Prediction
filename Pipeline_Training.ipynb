{
 "cells": [
  {
   "cell_type": "code",
   "execution_count": 1,
   "metadata": {},
   "outputs": [],
   "source": [
    "import numpy as np\n",
    "from EM import EM\n",
    "from plot import plot\n",
    "import matplotlib.pyplot as plt"
   ]
  },
  {
   "cell_type": "code",
   "execution_count": 2,
   "metadata": {},
   "outputs": [],
   "source": [
    "# EM Setting\n",
    "num_past_effects = 3\n",
    "training_pct = .8\n",
    "single_effect = False"
   ]
  },
  {
   "cell_type": "code",
   "execution_count": 3,
   "metadata": {},
   "outputs": [],
   "source": [
    "data = np.load('../Data/inr_preprocessed_data.npz')"
   ]
  },
  {
   "cell_type": "code",
   "execution_count": 4,
   "metadata": {},
   "outputs": [
    {
     "name": "stderr",
     "output_type": "stream",
     "text": [
      "/home/bear/Documents/Counterfactual-Prediction/EM.py:469: RuntimeWarning: invalid value encountered in sqrt\n",
      "  np.sqrt(self.sigma_pred[n, index]+self.sigma_2))\n"
     ]
    },
    {
     "name": "stdout",
     "output_type": "stream",
     "text": [
      "max iterations: 50 reached\n",
      "CPU times: user 3min 21s, sys: 29 ms, total: 3min 21s\n",
      "Wall time: 3min 21s\n"
     ]
    }
   ],
   "source": [
    "%%time\n",
    "em = EM(data['y_mtx'], data['X_mtx'], data['c_mtx'], num_past_effects, K=0, train_pct=training_pct, X_prev_given=True,\n",
    "        X_prev = data['X_prev_mtx'], single_effect=single_effect)\n",
    "em.run_EM(50)"
   ]
  },
  {
   "cell_type": "code",
   "execution_count": 5,
   "metadata": {},
   "outputs": [
    {
     "data": {
      "text/plain": [
       "0.7540341786070488"
      ]
     },
     "execution_count": 5,
     "metadata": {},
     "output_type": "execute_result"
    }
   ],
   "source": [
    "em.get_MSE()"
   ]
  },
  {
   "cell_type": "code",
   "execution_count": 6,
   "metadata": {},
   "outputs": [
    {
     "name": "stdout",
     "output_type": "stream",
     "text": [
      "Coefficient for nsaid: [-0.04591345  0.00616547 -0.04615003]\n",
      "Coefficient for transfusion_plasma: [-0.59419729  0.00337044 -0.02034137]\n",
      "Coefficient for transfusion_platelet: [-0.38383555 -0.14650816 -0.2715472 ]\n",
      "Coefficient for anticoagulant: [-0.65531307 -0.72449646 -0.50174012]\n",
      "Coefficient for aspirin: [-0.08470063 -0.10461858 -0.02295429]\n",
      "Coefficient for chronic kidney failure: -0.3225907140756116\n",
      "Coefficient for sickle cell: -0.6797774446496704\n",
      "Coefficient for age: -0.02518164892325425\n"
     ]
    }
   ],
   "source": [
    "treatment_types = ['nsaid', 'transfusion_plasma', 'transfusion_platelet', 'anticoagulant', 'aspirin']\n",
    "for i, treatment in enumerate(treatment_types):\n",
    "    print('Coefficient for {}: {}'.format(treatment, em.A[:, i]))\n",
    "static_types = ['chronic kidney failure', 'sickle cell', 'age']\n",
    "for j, static in enumerate(static_types):\n",
    "    print('Coefficient for {}: {}'.format(static, em.b[j]))"
   ]
  },
  {
   "cell_type": "code",
   "execution_count": 7,
   "metadata": {
    "scrolled": false
   },
   "outputs": [],
   "source": [
    "random_patients = np.random.randint(0, em.y.shape[0], 0)\n",
    "for i in random_patients:\n",
    "    plot(em, i, time_unit=18)"
   ]
  },
  {
   "cell_type": "code",
   "execution_count": 8,
   "metadata": {},
   "outputs": [
    {
     "data": {
      "image/png": "[encoded data removed]",
      "text/plain": [
       "<Figure size 432x288 with 1 Axes>"
      ]
     },
     "metadata": {},
     "output_type": "display_data"
    }
   ],
   "source": [
    "plt.plot([i for i in range(1, len(em.obs_log_lik))], em.obs_log_lik[1:])\n",
    "plt.xlabel('Iterations')\n",
    "plt.ylabel('Observed data log likelihood')\n",
    "plt.title('EM log likelihood')\n",
    "plt.show()"
   ]
  },
  {
   "cell_type": "code",
   "execution_count": 9,
   "metadata": {},
   "outputs": [
    {
     "data": {
      "text/plain": [
       "[-44170.06600005979,\n",
       " -33569.78749039252,\n",
       " -32650.949290578348,\n",
       " -31233.10047299146,\n",
       " -29675.90338804582,\n",
       " -28142.397581379446,\n",
       " -26713.317885421995,\n",
       " -25424.043485560727,\n",
       " -24284.039764166675,\n",
       " -23289.446002009612,\n",
       " -22432.040775205216,\n",
       " -21707.328404183758,\n",
       " -21127.871345697316,\n",
       " -20764.022036473252,\n",
       " nan,\n",
       " -20912.72887338744,\n",
       " -20383.440941525845,\n",
       " -20250.340028985524,\n",
       " -20213.329425732627,\n",
       " -20214.20534503777,\n",
       " -20240.207223294612,\n",
       " -20287.52934208312,\n",
       " -20351.31414552053,\n",
       " -20423.925606803045,\n",
       " -20496.654617504308,\n",
       " -20562.11543487604,\n",
       " -20615.67281641974,\n",
       " -20655.546882914816,\n",
       " -20682.09884490717,\n",
       " -20696.92503500671,\n",
       " -20702.124871537144,\n",
       " -20699.838918225698,\n",
       " -20692.01275043914,\n",
       " -20680.30699517778,\n",
       " -20666.086600688253,\n",
       " -20650.445899380305,\n",
       " -20634.245478418146,\n",
       " -20618.149404305583,\n",
       " -20602.658323747615,\n",
       " -20588.137398852738,\n",
       " -20574.83948933551,\n",
       " -20562.92444820765,\n",
       " -20552.475401868563,\n",
       " -20543.512725925248,\n",
       " -20536.00623942786,\n",
       " -20529.885977022634,\n",
       " -20525.051774973785,\n",
       " -20521.381819331647,\n",
       " -20518.740243586428,\n",
       " -20516.983820811784]"
      ]
     },
     "execution_count": 9,
     "metadata": {},
     "output_type": "execute_result"
    }
   ],
   "source": [
    "em.obs_log_lik"
   ]
  },
  {
   "cell_type": "code",
   "execution_count": null,
   "metadata": {},
   "outputs": [],
   "source": []
  }
 ],
 "metadata": {
  "kernelspec": {
   "display_name": "Python 3",
   "language": "python",
   "name": "python3"
  },
  "language_info": {
   "codemirror_mode": {
    "name": "ipython",
    "version": 3
   },
   "file_extension": ".py",
   "mimetype": "text/x-python",
   "name": "python",
   "nbconvert_exporter": "python",
   "pygments_lexer": "ipython3",
   "version": "3.6.5"
  }
 },
 "nbformat": 4,
 "nbformat_minor": 2
}
