{
 "cells": [
  {
   "cell_type": "code",
   "execution_count": 1,
   "metadata": {},
   "outputs": [],
   "source": [
    "import numpy as np\n",
    "from EM import EM\n",
    "from plot import plot\n",
    "import matplotlib.pyplot as plt"
   ]
  },
  {
   "cell_type": "code",
   "execution_count": 2,
   "metadata": {},
   "outputs": [],
   "source": [
    "# EM Setting\n",
    "num_past_effects = 3\n",
    "training_pct = .8\n",
    "single_effect = False"
   ]
  },
  {
   "cell_type": "code",
   "execution_count": 3,
   "metadata": {},
   "outputs": [],
   "source": [
    "data = np.load('../Data/inr_preprocessed_data.npz')"
   ]
  },
  {
   "cell_type": "code",
   "execution_count": 4,
   "metadata": {},
   "outputs": [
    {
     "name": "stderr",
     "output_type": "stream",
     "text": [
      "/home/bear/Documents/Counterfactual-Prediction/EM.py:469: RuntimeWarning: invalid value encountered in sqrt\n",
      "  np.sqrt(self.sigma_pred[n, index]+self.sigma_2))\n"
     ]
    },
    {
     "name": "stdout",
     "output_type": "stream",
     "text": [
      "max iterations: 20 reached\n",
      "CPU times: user 1min 21s, sys: 8.29 ms, total: 1min 21s\n",
      "Wall time: 1min 21s\n"
     ]
    }
   ],
   "source": [
    "%%time\n",
    "em = EM(data['y_mtx'], data['X_mtx'], data['c_mtx'], num_past_effects, K=0, train_pct=training_pct, X_prev_given=True,\n",
    "        X_prev = data['X_prev_mtx'], single_effect=single_effect)\n",
    "em.run_EM(20)"
   ]
  },
  {
   "cell_type": "code",
   "execution_count": 5,
   "metadata": {},
   "outputs": [
    {
     "data": {
      "text/plain": [
       "0.8992036772994666"
      ]
     },
     "execution_count": 5,
     "metadata": {},
     "output_type": "execute_result"
    }
   ],
   "source": [
    "em.get_MSE()"
   ]
  },
  {
   "cell_type": "code",
   "execution_count": 6,
   "metadata": {},
   "outputs": [
    {
     "name": "stdout",
     "output_type": "stream",
     "text": [
      "Coefficient for nsaid: [-0.13322634 -0.12391392 -0.08919592]\n",
      "Coefficient for transfusion_plasma: [-0.88524994 -0.08347947 -0.01094854]\n",
      "Coefficient for transfusion_platelet: [-0.57606201 -0.20609025 -0.29091497]\n",
      "Coefficient for anticoagulant: [-0.92497705 -0.94416475 -0.66603521]\n",
      "Coefficient for aspirin: [-0.2494914  -0.10602337  0.11839083]\n",
      "Coefficient for chronic kidney failure: -0.6016789316135485\n",
      "Coefficient for sickle cell: -1.1546626762649492\n",
      "Coefficient for age: -0.04571895443567536\n"
     ]
    }
   ],
   "source": [
    "treatment_types = ['nsaid', 'transfusion_plasma', 'transfusion_platelet', 'anticoagulant', 'aspirin']\n",
    "for i, treatment in enumerate(treatment_types):\n",
    "    print('Coefficient for {}: {}'.format(treatment, em.A[:, i]))\n",
    "static_types = ['chronic kidney failure', 'sickle cell', 'age']\n",
    "for j, static in enumerate(static_types):\n",
    "    print('Coefficient for {}: {}'.format(static, em.b[j]))"
   ]
  },
  {
   "cell_type": "code",
   "execution_count": 7,
   "metadata": {
    "scrolled": false
   },
   "outputs": [],
   "source": [
    "random_patients = np.random.randint(0, em.y.shape[0], 0)\n",
    "for i in random_patients:\n",
    "    plot(em, i, time_unit=18)"
   ]
  },
  {
   "cell_type": "code",
   "execution_count": 8,
   "metadata": {},
   "outputs": [
    {
     "data": {
      "image/png": "[encoded data removed]",
      "text/plain": [
       "<Figure size 432x288 with 1 Axes>"
      ]
     },
     "metadata": {},
     "output_type": "display_data"
    }
   ],
   "source": [
    "plt.plot([i for i in range(1, len(em.obs_log_lik))], em.obs_log_lik[1:])\n",
    "plt.xlabel('Iterations')\n",
    "plt.ylabel('Observed data log likelihood')\n",
    "plt.title('EM log likelihood')\n",
    "plt.show()"
   ]
  },
  {
   "cell_type": "code",
   "execution_count": 9,
   "metadata": {},
   "outputs": [
    {
     "data": {
      "text/plain": [
       "[-61759.93169615652,\n",
       " -31344.004455687016,\n",
       " -30672.39399653447,\n",
       " -29601.006235004344,\n",
       " -28402.582690380987,\n",
       " -27225.216185131467,\n",
       " -26139.153627921318,\n",
       " -25169.716618709877,\n",
       " -24319.25208670889,\n",
       " -23581.898224652734,\n",
       " -22954.578868389584,\n",
       " -22449.55990597836,\n",
       " -22121.6608774863,\n",
       " -22161.95556197586,\n",
       " nan,\n",
       " -26557.159724898687,\n",
       " -24354.281382649562,\n",
       " -23308.308002785674,\n",
       " -22755.10903669045,\n",
       " -22478.838453326713]"
      ]
     },
     "execution_count": 9,
     "metadata": {},
     "output_type": "execute_result"
    }
   ],
   "source": [
    "em.obs_log_lik"
   ]
  },
  {
   "cell_type": "code",
   "execution_count": null,
   "metadata": {},
   "outputs": [],
   "source": []
  }
 ],
 "metadata": {
  "kernelspec": {
   "display_name": "Python 3",
   "language": "python",
   "name": "python3"
  },
  "language_info": {
   "codemirror_mode": {
    "name": "ipython",
    "version": 3
   },
   "file_extension": ".py",
   "mimetype": "text/x-python",
   "name": "python",
   "nbconvert_exporter": "python",
   "pygments_lexer": "ipython3",
   "version": "3.6.5"
  }
 },
 "nbformat": 4,
 "nbformat_minor": 2
}
