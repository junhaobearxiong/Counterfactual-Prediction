{
 "cells": [
  {
   "cell_type": "code",
   "execution_count": 1,
   "metadata": {},
   "outputs": [],
   "source": [
    "import numpy as np\n",
    "from EM import EM\n",
    "import matplotlib.pyplot as plt"
   ]
  },
  {
   "cell_type": "code",
   "execution_count": 2,
   "metadata": {},
   "outputs": [],
   "source": [
    "# EM Setting\n",
    "num_past_effects = 3\n",
    "training_pct = .8\n",
    "single_effect = False"
   ]
  },
  {
   "cell_type": "code",
   "execution_count": 3,
   "metadata": {},
   "outputs": [],
   "source": [
    "data = np.load('../Data/inr_preprocessed_data.npz')"
   ]
  },
  {
   "cell_type": "code",
   "execution_count": 4,
   "metadata": {},
   "outputs": [],
   "source": [
    "em = EM(data['y_mtx'], data['X_mtx'], data['c_mtx'], num_past_effects, 0, train_pct=training_pct, single_effect=single_effect)"
   ]
  },
  {
   "cell_type": "code",
   "execution_count": 5,
   "metadata": {},
   "outputs": [
    {
     "name": "stdout",
     "output_type": "stream",
     "text": [
      "max iterations: 500 reached\n",
      "CPU times: user 25min 42s, sys: 52 ms, total: 25min 42s\n",
      "Wall time: 25min 42s\n"
     ]
    }
   ],
   "source": [
    "%%time\n",
    "em.run_EM(500)"
   ]
  },
  {
   "cell_type": "code",
   "execution_count": 6,
   "metadata": {},
   "outputs": [
    {
     "data": {
      "text/plain": [
       "0.8121897276622073"
      ]
     },
     "execution_count": 6,
     "metadata": {},
     "output_type": "execute_result"
    }
   ],
   "source": [
    "em.get_MSE()"
   ]
  },
  {
   "cell_type": "code",
   "execution_count": 7,
   "metadata": {},
   "outputs": [
    {
     "name": "stdout",
     "output_type": "stream",
     "text": [
      "Coefficient for nsaid: [ 0.00600964  0.00651543 -0.01199475]\n",
      "Coefficient for transfusion_plasma: [-0.66193686 -0.13195887 -0.04531077]\n",
      "Coefficient for transfusion_platelet: [-0.37919572 -0.19929601 -0.2266998 ]\n",
      "Coefficient for anticoagulant: [-0.40140725 -0.64470841 -0.43347218]\n",
      "Coefficient for aspirin: [-0.11392445 -0.10655846 -0.05950061]\n",
      "Coefficient for chronic kidney failure: -1.2649978549058194\n",
      "Coefficient for sickle cell: -1.6586764431097347\n",
      "Coefficient for age: -0.08547143644971099\n"
     ]
    }
   ],
   "source": [
    "treatment_types = ['nsaid', 'transfusion_plasma', 'transfusion_platelet', 'anticoagulant', 'aspirin']\n",
    "for i, treatment in enumerate(treatment_types):\n",
    "    print('Coefficient for {}: {}'.format(treatment, em.A[:, i]))\n",
    "static_types = ['chronic kidney failure', 'sickle cell', 'age']\n",
    "for j, static in enumerate(static_types):\n",
    "    print('Coefficient for {}: {}'.format(static, em.b[j]))"
   ]
  },
  {
   "cell_type": "code",
   "execution_count": 8,
   "metadata": {},
   "outputs": [],
   "source": [
    "random_patients = np.random.randint(0, em.y.shape[0], 0)\n",
    "for i in random_patients:\n",
    "    plot(em, i, bin_size=bin_size)"
   ]
  },
  {
   "cell_type": "code",
   "execution_count": 11,
   "metadata": {},
   "outputs": [
    {
     "data": {
      "image/png": "[encoded data removed]",
      "text/plain": [
       "<Figure size 432x288 with 1 Axes>"
      ]
     },
     "metadata": {},
     "output_type": "display_data"
    }
   ],
   "source": [
    "plt.plot([i for i in range(1, len(em.log_lik))], em.log_lik[1:])\n",
    "plt.xlabel('Iterations')\n",
    "plt.ylabel('Observed data log likelihood')\n",
    "plt.title('EM log likelihood')\n",
    "plt.show()"
   ]
  },
  {
   "cell_type": "code",
   "execution_count": 1,
   "metadata": {},
   "outputs": [
    {
     "ename": "NameError",
     "evalue": "name 'em' is not defined",
     "output_type": "error",
     "traceback": [
      "\u001b[0;31m---------------------------------------------------------------------------\u001b[0m",
      "\u001b[0;31mNameError\u001b[0m                                 Traceback (most recent call last)",
      "\u001b[0;32m<ipython-input-1-d20de10459f3>\u001b[0m in \u001b[0;36m<module>\u001b[0;34m()\u001b[0m\n\u001b[0;32m----> 1\u001b[0;31m \u001b[0mem\u001b[0m\u001b[0;34m.\u001b[0m\u001b[0mlog_lik\u001b[0m\u001b[0;34m\u001b[0m\u001b[0m\n\u001b[0m",
      "\u001b[0;31mNameError\u001b[0m: name 'em' is not defined"
     ]
    }
   ],
   "source": [
    "em.log_lik"
   ]
  },
  {
   "cell_type": "code",
   "execution_count": null,
   "metadata": {},
   "outputs": [],
   "source": []
  }
 ],
 "metadata": {
  "kernelspec": {
   "display_name": "Python 3",
   "language": "python",
   "name": "python3"
  },
  "language_info": {
   "codemirror_mode": {
    "name": "ipython",
    "version": 3
   },
   "file_extension": ".py",
   "mimetype": "text/x-python",
   "name": "python",
   "nbconvert_exporter": "python",
   "pygments_lexer": "ipython3",
   "version": "3.6.5"
  }
 },
 "nbformat": 4,
 "nbformat_minor": 2
}
