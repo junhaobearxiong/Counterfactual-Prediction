{
 "cells": [
  {
   "cell_type": "code",
   "execution_count": 1,
   "metadata": {},
   "outputs": [],
   "source": [
    "import pickle\n",
    "import numpy as np\n",
    "import matplotlib.pyplot as plt"
   ]
  },
  {
   "cell_type": "code",
   "execution_count": 2,
   "metadata": {},
   "outputs": [],
   "source": [
    "data = pickle.load(open('../Data/unimputed_inr_patient_data.pkl', 'rb'), encoding='latin1')"
   ]
  },
  {
   "cell_type": "code",
   "execution_count": 3,
   "metadata": {},
   "outputs": [
    {
     "data": {
      "text/plain": [
       "{'nsaid_times': [],\n",
       " 'transfusion_times': [array([], dtype=float64), array([], dtype=float64)],\n",
       " 'obs_times': array([120.]),\n",
       " 'event_time': 650.0,\n",
       " 'sepsis': 0,\n",
       " 'chronic_names': ['liver_disease', 'sickle_cell'],\n",
       " 'demographic': array([32.]),\n",
       " 'anticoagulant_times': [],\n",
       " 'marker_name': 'inr',\n",
       " 'aspirin_times': [],\n",
       " 'chronic': array([0., 0.]),\n",
       " 'transfusion_names': ['transfuse_plasma', 'transfuse_platelets'],\n",
       " 'obs_y': array([0.9]),\n",
       " 'nsaid_names': ['acetaminophen_dose',\n",
       "  'celecoxib_dose',\n",
       "  'diclofenac_dose',\n",
       "  'ibuprofen_dose',\n",
       "  'indomethacin_dose',\n",
       "  'ketorolac_dose',\n",
       "  'meloxicam_dose',\n",
       "  'naproxen_dose'],\n",
       " 'excess_alcohol': 0.0,\n",
       " 'inr_orgdf': 0,\n",
       " 'anticoagulant_names': ['warfarin_dose',\n",
       "  'heparin_dose',\n",
       "  'dabigatran_dose',\n",
       "  'edoxaban_dose',\n",
       "  'rivaroxaban_dose',\n",
       "  'apixaban_dose',\n",
       "  'enoxaparin_dose',\n",
       "  'dalteparin_dose',\n",
       "  'fondaparinux_dose'],\n",
       " 'id': 8,\n",
       " 'demographic_names': ['age']}"
      ]
     },
     "execution_count": 3,
     "metadata": {},
     "output_type": "execute_result"
    }
   ],
   "source": [
    "data[0]"
   ]
  },
  {
   "cell_type": "markdown",
   "metadata": {},
   "source": [
    "### Some notes on the data\n",
    "* 4 types of treatments: nsaid (8), transfusion (2), anticoagulant (9), aspirin (1)\n",
    "* 2 types of chronic conditions: liver disease, sickle cell\n",
    "* 1 demographic information: age (integer)\n",
    "* 2 other informations: excess alcohol (binary), sepsis (binary)  "
   ]
  },
  {
   "cell_type": "markdown",
   "metadata": {},
   "source": [
    "### Things to determine\n",
    "* Cutoff point for number of observations\n",
    "* How to determine the time interval? Since we can deal with missing value relatively well, we want to make the interval as fine grain as possible to maximize data usage. Average interval between observations and treatments are all around 1000. 95% of intervals for obs and aspirin are larger than 900-1000; 95% of intervals of anticoagulant and nsaid are larger than 400-500. \n",
    "* After specifying the interval, what if there are multiple values in that interval? Take average?\n",
    "* A small number of patients have received treatments befort the first observation. Should we consider the first observation as the starting point for each time series and simply disrecard those treatments and let the initial state value capture their effects?"
   ]
  },
  {
   "cell_type": "code",
   "execution_count": 4,
   "metadata": {},
   "outputs": [
    {
     "name": "stdout",
     "output_type": "stream",
     "text": [
      "Patients with obs times >= 5: 2524.0\n",
      "Patients with obs times >= 10: 651.0\n",
      "Patients with obs times >= 15: 212.0\n",
      "Patients with obs times >= 20: 95.0\n"
     ]
    },
    {
     "data": {
      "image/png": "[encoded data removed]",
      "text/plain": [
       "<Figure size 432x288 with 1 Axes>"
      ]
     },
     "metadata": {},
     "output_type": "display_data"
    }
   ],
   "source": [
    "data_5 = []\n",
    "data_7 = []\n",
    "data_10 = []\n",
    "num_obs = []\n",
    "for d in data:\n",
    "    num = d['obs_times'].shape[0]\n",
    "    num_obs.append(num)\n",
    "    if num >= 5:\n",
    "        data_5.append(d)\n",
    "    if num >= 7:\n",
    "        data_7.append(d)\n",
    "    if num >= 10:\n",
    "        data_10.append(d)\n",
    "\n",
    "max_num_obs = max(num_obs)\n",
    "num_obs_hist = plt.hist(num_obs, bins = max_num_obs, range=(1, max_num_obs))[0]\n",
    "\n",
    "print('Patients with obs times >= 5: {}'.format(np.sum(num_obs_hist[4:])))\n",
    "print('Patients with obs times >= 10: {}'.format(np.sum(num_obs_hist[9:])))\n",
    "print('Patients with obs times >= 15: {}'.format(np.sum(num_obs_hist[14:])))\n",
    "print('Patients with obs times >= 20: {}'.format(np.sum(num_obs_hist[19:])))"
   ]
  },
  {
   "cell_type": "code",
   "execution_count": 5,
   "metadata": {},
   "outputs": [],
   "source": [
    "data = data_5"
   ]
  },
  {
   "cell_type": "markdown",
   "metadata": {},
   "source": [
    "### Observational time"
   ]
  },
  {
   "cell_type": "code",
   "execution_count": 6,
   "metadata": {},
   "outputs": [],
   "source": [
    "def time_span(data, name):\n",
    "    time_span = []\n",
    "    for d in data:\n",
    "        time_span.append(d['obs_times'][-1] - d['obs_times'][0])\n",
    "    return time_span \n",
    "        \n",
    "def avg_interval(data, name):\n",
    "    avg_interval = []\n",
    "    for d in data:\n",
    "        if type(d[name+'_times']) is list and len(d[name+'_times']) < 2:\n",
    "            continue\n",
    "        diff = np.subtract(d[name+'_times'], np.roll(d[name+'_times'], shift=1))\n",
    "        diff = np.delete(diff, 0)\n",
    "        avg_interval.append(np.average(diff))\n",
    "    return avg_interval\n",
    "    \n",
    "def avg_times_of(data, name):\n",
    "    num = []\n",
    "    for d in data:\n",
    "        num.append(d[name + '_times'].shape[0])\n",
    "    print('avg number of ' + name + ': {}'.format(np.average(num)))"
   ]
  },
  {
   "cell_type": "code",
   "execution_count": 7,
   "metadata": {},
   "outputs": [
    {
     "name": "stdout",
     "output_type": "stream",
     "text": [
      "avg overall time span of obs: 11501.120839936608\n",
      "avg interval between obs: 1496.3954056598004\n",
      "avg number of obs: 8.707606973058637\n"
     ]
    }
   ],
   "source": [
    "print('avg overall time span of obs: {}'.format(np.mean(time_span(data, 'obs'))))\n",
    "print('avg interval between obs: {}'.format(np.mean(avg_interval(data, 'obs'))))\n",
    "avg_times_of(data, 'obs')"
   ]
  },
  {
   "cell_type": "code",
   "execution_count": 8,
   "metadata": {},
   "outputs": [
    {
     "name": "stdout",
     "output_type": "stream",
     "text": [
      "95% has avg interval between obs larger than: 909.5339285714285\n"
     ]
    }
   ],
   "source": [
    "print('95% has avg interval between obs larger than: {}'.format(np.percentile(avg_interval(data, 'obs'), 5)))"
   ]
  },
  {
   "cell_type": "markdown",
   "metadata": {},
   "source": [
    "### INR values"
   ]
  },
  {
   "cell_type": "code",
   "execution_count": 9,
   "metadata": {},
   "outputs": [
    {
     "data": {
      "text/plain": [
       "(array([6400., 5685., 4069., 2781., 1157.,  766.,  417.,  205.,  143.,\n",
       "          81.,   72.,   34.,   31.,   43.,   23.,   29.,   10.,   13.,\n",
       "           9.,   10.]),\n",
       " array([ 0.8 ,  1.36,  1.92,  2.48,  3.04,  3.6 ,  4.16,  4.72,  5.28,\n",
       "         5.84,  6.4 ,  6.96,  7.52,  8.08,  8.64,  9.2 ,  9.76, 10.32,\n",
       "        10.88, 11.44, 12.  ]),\n",
       " <a list of 20 Patch objects>)"
      ]
     },
     "execution_count": 9,
     "metadata": {},
     "output_type": "execute_result"
    },
    {
     "data": {
      "image/png": "[encoded data removed]",
      "text/plain": [
       "<Figure size 432x288 with 1 Axes>"
      ]
     },
     "metadata": {},
     "output_type": "display_data"
    }
   ],
   "source": [
    "inr = []\n",
    "for d in data:\n",
    "    inr.append(d['obs_y'])\n",
    "inr_arr = np.concatenate(inr)\n",
    "inr_hist = plt.hist(inr_arr, bins = 20)\n",
    "inr_hist"
   ]
  },
  {
   "cell_type": "markdown",
   "metadata": {},
   "source": [
    "### Age"
   ]
  },
  {
   "cell_type": "code",
   "execution_count": 10,
   "metadata": {},
   "outputs": [
    {
     "data": {
      "text/plain": [
       "(array([ 22.,  63.,  72., 118., 228., 286., 436., 521., 563., 215.]),\n",
       " array([17. , 25.1, 33.2, 41.3, 49.4, 57.5, 65.6, 73.7, 81.8, 89.9, 98. ]),\n",
       " <a list of 10 Patch objects>)"
      ]
     },
     "execution_count": 10,
     "metadata": {},
     "output_type": "execute_result"
    },
    {
     "data": {
      "image/png": "[encoded data removed]",
      "text/plain": [
       "<Figure size 432x288 with 1 Axes>"
      ]
     },
     "metadata": {},
     "output_type": "display_data"
    }
   ],
   "source": [
    "age = []\n",
    "for d in data:\n",
    "    age.append(d['demographic'])\n",
    "age_arr = np.concatenate(age)\n",
    "age_hist = plt.hist(age_arr, bins = 10)\n",
    "age_hist"
   ]
  },
  {
   "cell_type": "markdown",
   "metadata": {},
   "source": [
    "### Chronic"
   ]
  },
  {
   "cell_type": "code",
   "execution_count": 11,
   "metadata": {},
   "outputs": [
    {
     "name": "stdout",
     "output_type": "stream",
     "text": [
      "No liver disease: 2318; with liver disease: 206\n",
      "No sickle cell: 2510; with sickle cell: 14\n"
     ]
    }
   ],
   "source": [
    "liver = np.zeros(len(data))\n",
    "sickle = np.zeros(len(data))\n",
    "for i, d in enumerate(data):\n",
    "    liver[i] = d['chronic'][0]\n",
    "    sickle[i] = d['chronic'][1]\n",
    "liver_num = np.unique(liver, return_counts=True)[1]\n",
    "sickle_num = np.unique(sickle, return_counts=True)[1]\n",
    "print('No liver disease: {}; with liver disease: {}'.format(liver_num[0], liver_num[1]))\n",
    "print('No sickle cell: {}; with sickle cell: {}'.format(sickle_num[0], sickle_num[1]))"
   ]
  },
  {
   "cell_type": "code",
   "execution_count": 12,
   "metadata": {},
   "outputs": [],
   "source": [
    "inr_liver_disease = []\n",
    "inr_no_liver_disease = []\n",
    "for i in np.where(liver == 0)[0]:\n",
    "    inr_no_liver_disease.append(data[i]['obs_y'])\n",
    "for i in np.where(liver == 1)[0]:\n",
    "    inr_liver_disease.append(data[i]['obs_y'])\n",
    "inr_liver_disease = np.concatenate(inr_liver_disease)\n",
    "inr_no_liver_disease = np.concatenate(inr_no_liver_disease)"
   ]
  },
  {
   "cell_type": "code",
   "execution_count": 13,
   "metadata": {},
   "outputs": [
    {
     "data": {
      "text/plain": [
       "<matplotlib.legend.Legend at 0x7f37dcb3c630>"
      ]
     },
     "execution_count": 13,
     "metadata": {},
     "output_type": "execute_result"
    },
    {
     "data": {
      "image/png": "[encoded data removed]",
      "text/plain": [
       "<Figure size 432x288 with 1 Axes>"
      ]
     },
     "metadata": {},
     "output_type": "display_data"
    }
   ],
   "source": [
    "plt.hist([inr_liver_disease, inr_no_liver_disease], bins=40, density=True, label=['With liver disease', 'Without liver disease'])\n",
    "plt.legend()"
   ]
  },
  {
   "cell_type": "code",
   "execution_count": 14,
   "metadata": {},
   "outputs": [],
   "source": [
    "inr_sickle = []\n",
    "inr_no_sickle = []\n",
    "for i in np.where(sickle == 0)[0]:\n",
    "    inr_no_sickle.append(data[i]['obs_y'])\n",
    "for i in np.where(sickle == 1)[0]:\n",
    "    inr_sickle.append(data[i]['obs_y'])\n",
    "inr_sickle = np.concatenate(inr_sickle)\n",
    "inr_no_sickle = np.concatenate(inr_no_sickle)"
   ]
  },
  {
   "cell_type": "code",
   "execution_count": 15,
   "metadata": {},
   "outputs": [
    {
     "data": {
      "text/plain": [
       "<matplotlib.legend.Legend at 0x7f37dcb3cf28>"
      ]
     },
     "execution_count": 15,
     "metadata": {},
     "output_type": "execute_result"
    },
    {
     "data": {
      "image/png": "[encoded data removed]",
      "text/plain": [
       "<Figure size 432x288 with 1 Axes>"
      ]
     },
     "metadata": {},
     "output_type": "display_data"
    }
   ],
   "source": [
    "plt.hist([inr_sickle, inr_no_sickle], bins=40, density=True, label=['With sickle cell', 'Without sickle cell'])\n",
    "plt.legend()"
   ]
  },
  {
   "cell_type": "markdown",
   "metadata": {},
   "source": [
    "### Treatments"
   ]
  },
  {
   "cell_type": "code",
   "execution_count": 16,
   "metadata": {},
   "outputs": [],
   "source": [
    "def num_treatment(treatment_name):\n",
    "    num_t = []\n",
    "    for d in data:\n",
    "        num_t.append(len(d[treatment_name + '_times']))\n",
    "\n",
    "    num_t = np.array(num_t)\n",
    "    print('Number of times ' + treatment_name +  ' is given')\n",
    "    unique = np.unique(num_t, return_counts=True)\n",
    "    print('Unique values : {}'.format(unique[0]))\n",
    "    print('Counts for unique values : {}'.format(unique[1]))"
   ]
  },
  {
   "cell_type": "code",
   "execution_count": 17,
   "metadata": {},
   "outputs": [
    {
     "name": "stdout",
     "output_type": "stream",
     "text": [
      "Number of times nsaid is given\n",
      "Unique values : [  0   1   2   3   4   5   6   7   8   9  10  11  12  13  14  15  16  17\n",
      "  18  19  20  21  22  23  24  25  26  27  28  29  30  31  32  33  37  41\n",
      "  47  48  68  72  74 109 131]\n",
      "Counts for unique values : [1310  323  190  146  108   75   49   68   46   31   16   15   24   18\n",
      "   12   13   14    9    6    6    4    3    6    5    2    1    2    2\n",
      "    4    1    3    1    1    1    1    1    1    1    1    1    1    1\n",
      "    1]\n",
      "Number of times anticoagulant is given\n",
      "Unique values : [  0   1   2   3   4   5   6   7   8   9  10  11  12  13  14  15  16  17\n",
      "  18  19  20  21  22  23  24  25  26  27  28  29  30  31  32  33  34  35\n",
      "  36  37  38  39  40  41  42  43  44  45  46  48  49  50  51  52  53  54\n",
      "  56  57  59  61  63  65  68  70  72  73  74  75  78  79  81  83  85  89\n",
      " 103 105 110 116 122 143 163 166 224 227]\n",
      "Counts for unique values : [170  63 115 175 199 177 149 126  79  88  98  60  89  71  73  74  80  67\n",
      "  53  57  41  37  49  29  20  26  11  26  18  15  11  11  22   9  12   9\n",
      "  10   6   3   5   4   8   5   3   1   1   4   3   7   3   2   5   4   1\n",
      "   1   5   2   3   1   1   2   1   1   2   2   1   1   1   2   1   1   1\n",
      "   1   1   1   1   1   2   1   1   1   1]\n",
      "Number of times aspirin is given\n",
      "Unique values : [ 0  1  2  3  4  5  6  7  8  9 10 11 12 13 14 15 16 17 18 19 20 21 23 25\n",
      " 26 27 28 29 30 34 37 38 44 47 53 62 63 74 91]\n",
      "Counts for unique values : [1750   95   34   47   95   95   91   76   55   31   35   31   18    9\n",
      "   11    8    8    2    3    1    2    4    2    3    1    1    2    3\n",
      "    1    1    1    1    1    1    1    1    1    1    1]\n"
     ]
    }
   ],
   "source": [
    "num_treatment('nsaid')\n",
    "num_treatment('anticoagulant')\n",
    "num_treatment('aspirin')"
   ]
  },
  {
   "cell_type": "code",
   "execution_count": 18,
   "metadata": {},
   "outputs": [
    {
     "name": "stdout",
     "output_type": "stream",
     "text": [
      "avg interval between nsaid: 2136.203516816744\n",
      "avg interval between anticoagulant: 1136.4531503337819\n",
      "avg interval between aspirin: 1613.144137578135\n"
     ]
    }
   ],
   "source": [
    "print('avg interval between nsaid: {}'.format(np.mean(avg_interval(data, 'nsaid'))))\n",
    "print('avg interval between anticoagulant: {}'.format(np.mean(avg_interval(data, 'anticoagulant'))))\n",
    "print('avg interval between aspirin: {}'.format(np.mean(avg_interval(data, 'aspirin'))))"
   ]
  },
  {
   "cell_type": "code",
   "execution_count": 19,
   "metadata": {},
   "outputs": [
    {
     "name": "stdout",
     "output_type": "stream",
     "text": [
      "95% has avg interval between nsaid larger than: 408.0\n",
      "95% has avg interval between anticoagulant larger than: 446.525\n",
      "95% has avg interval between aspirin larger than: 1237.1136363636363\n"
     ]
    }
   ],
   "source": [
    "print('95% has avg interval between nsaid larger than: {}'.format(np.percentile(avg_interval(data, 'nsaid'), 5)))\n",
    "print('95% has avg interval between anticoagulant larger than: {}'.format(np.percentile(avg_interval(data, 'anticoagulant'), 5)))\n",
    "print('95% has avg interval between aspirin larger than: {}'.format(np.percentile(avg_interval(data, 'aspirin'), 5)))"
   ]
  },
  {
   "cell_type": "code",
   "execution_count": 20,
   "metadata": {},
   "outputs": [],
   "source": [
    "treatments = ['nsaid', 'anticoagulant', 'aspirin']\n",
    "\n",
    "def num_treatments_before_first_obs(name):\n",
    "    num_t = []\n",
    "    for d in data:\n",
    "        first_obs = d['obs_times'][0]\n",
    "        num_t.append(np.where(np.array(d[name+'_times']) < first_obs)[0].shape[0])\n",
    "    num_t = np.array(num_t)\n",
    "    return np.unique(num_t, return_counts=True)"
   ]
  },
  {
   "cell_type": "code",
   "execution_count": 21,
   "metadata": {},
   "outputs": [
    {
     "data": {
      "text/plain": [
       "(array([ 0,  1,  2,  3,  4,  5,  6,  7,  8,  9, 10, 11, 12, 13, 14, 15, 16,\n",
       "        17, 18, 21, 22, 23, 24, 46]),\n",
       " array([2196,  121,  114,   29,   14,    7,    5,    6,    6,    3,    2,\n",
       "           1,    3,    2,    2,    1,    3,    1,    2,    1,    1,    2,\n",
       "           1,    1]))"
      ]
     },
     "execution_count": 21,
     "metadata": {},
     "output_type": "execute_result"
    }
   ],
   "source": [
    "num_treatments_before_first_obs('anticoagulant')"
   ]
  },
  {
   "cell_type": "code",
   "execution_count": 22,
   "metadata": {},
   "outputs": [
    {
     "data": {
      "text/plain": [
       "2"
      ]
     },
     "execution_count": 22,
     "metadata": {},
     "output_type": "execute_result"
    }
   ],
   "source": [
    "a = np.array([1, 2, 3, 4])\n",
    "np.where(a < 3)[0].shape[0]"
   ]
  },
  {
   "cell_type": "markdown",
   "metadata": {},
   "source": [
    "### Sepsis"
   ]
  },
  {
   "cell_type": "code",
   "execution_count": 23,
   "metadata": {},
   "outputs": [
    {
     "name": "stdout",
     "output_type": "stream",
     "text": [
      "Sepsis: 1720\n",
      "No Sepsis: 804\n"
     ]
    }
   ],
   "source": [
    "sepsis = []\n",
    "for d in data:\n",
    "    sepsis.append(d['sepsis'])\n",
    "sepsis = np.array(sepsis)\n",
    "sepsis_unique = np.unique(sepsis, return_counts=True)\n",
    "print('Sepsis: {}'.format(sepsis_unique[1][0]))\n",
    "print('No Sepsis: {}'.format(sepsis_unique[1][1]))"
   ]
  },
  {
   "cell_type": "code",
   "execution_count": 32,
   "metadata": {},
   "outputs": [],
   "source": [
    "def plot(n):\n",
    "    times = data[n]['obs_times']\n",
    "    inr = data[n]['obs_y']\n",
    "    fig = plt.figure()\n",
    "    plt.plot(times, inr, '.', label = 'observed inr')\n",
    "    names = ['nsaid', 'anticoagulant', 'aspirin']\n",
    "    colors = ['r', 'g', 'c']\n",
    "    for i, name in enumerate(names):\n",
    "        treatment = data[n][name + '_times']\n",
    "        for t in treatment:\n",
    "            plt.axvline(x=t, linestyle=':', color=colors[i])\n",
    "    tf = np.concatenate(data[n]['transfusion_times'])\n",
    "    for t in tf:\n",
    "        plt.axvline(x=t, linestyle=':', color='y')\n",
    "    plt.legend()\n",
    "    fig.set_figheight(8)\n",
    "    fig.set_figwidth(15)\n",
    "    plt.show()"
   ]
  },
  {
   "cell_type": "code",
   "execution_count": 50,
   "metadata": {},
   "outputs": [
    {
     "data": {
      "image/png": "[encoded data removed]",
      "text/plain": [
       "<Figure size 1080x576 with 1 Axes>"
      ]
     },
     "metadata": {},
     "output_type": "display_data"
    }
   ],
   "source": [
    "i = 500\n",
    "plot(i)"
   ]
  },
  {
   "cell_type": "code",
   "execution_count": 51,
   "metadata": {},
   "outputs": [
    {
     "data": {
      "text/plain": [
       "array([ 1189.,  9080., 10466., 11839., 13578.])"
      ]
     },
     "execution_count": 51,
     "metadata": {},
     "output_type": "execute_result"
    }
   ],
   "source": [
    "data[i]['obs_times']"
   ]
  },
  {
   "cell_type": "code",
   "execution_count": 52,
   "metadata": {},
   "outputs": [
    {
     "data": {
      "text/plain": [
       "array([1.1, 1.1, 1.4, 1.7, 2.6])"
      ]
     },
     "execution_count": 52,
     "metadata": {},
     "output_type": "execute_result"
    }
   ],
   "source": [
    "data[i]['obs_y']"
   ]
  },
  {
   "cell_type": "code",
   "execution_count": 53,
   "metadata": {},
   "outputs": [
    {
     "data": {
      "text/plain": [
       "[1456.0,\n",
       " 2660.0,\n",
       " 3215.0,\n",
       " 3684.0,\n",
       " 4106.0,\n",
       " 4652.0,\n",
       " 5199.0,\n",
       " 5573.0,\n",
       " 6449.0,\n",
       " 7036.0,\n",
       " 7762.0,\n",
       " 8107.0,\n",
       " 8233.0,\n",
       " 9019.0,\n",
       " 9517.0,\n",
       " 9708.0,\n",
       " 10161.0,\n",
       " 11159.0,\n",
       " 11327.0,\n",
       " 12035.0,\n",
       " 12614.0,\n",
       " 12811.0,\n",
       " 13539.0,\n",
       " 14088.0]"
      ]
     },
     "execution_count": 53,
     "metadata": {},
     "output_type": "execute_result"
    }
   ],
   "source": [
    "data[i]['anticoagulant_times']"
   ]
  },
  {
   "cell_type": "code",
   "execution_count": 58,
   "metadata": {},
   "outputs": [
    {
     "data": {
      "text/plain": [
       "array([84.])"
      ]
     },
     "execution_count": 58,
     "metadata": {},
     "output_type": "execute_result"
    }
   ],
   "source": [
    "data[i]['demographic']"
   ]
  }
 ],
 "metadata": {
  "kernelspec": {
   "display_name": "Python 3",
   "language": "python",
   "name": "python3"
  },
  "language_info": {
   "codemirror_mode": {
    "name": "ipython",
    "version": 3
   },
   "file_extension": ".py",
   "mimetype": "text/x-python",
   "name": "python",
   "nbconvert_exporter": "python",
   "pygments_lexer": "ipython3",
   "version": "3.6.5"
  }
 },
 "nbformat": 4,
 "nbformat_minor": 2
}
