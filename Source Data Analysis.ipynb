{
 "cells": [
  {
   "cell_type": "code",
   "execution_count": 1,
   "metadata": {},
   "outputs": [],
   "source": [
    "import pickle\n",
    "import numpy as np\n",
    "import matplotlib.pyplot as plt\n",
    "from preprocess import preprocess"
   ]
  },
  {
   "cell_type": "code",
   "execution_count": 2,
   "metadata": {},
   "outputs": [],
   "source": [
    "data = pickle.load(open('../Data/unimputed_inr_patient_data.pkl', 'rb'), encoding='latin1')"
   ]
  },
  {
   "cell_type": "code",
   "execution_count": 3,
   "metadata": {},
   "outputs": [
    {
     "data": {
      "text/plain": [
       "{'nsaid_times': [],\n",
       " 'transfusion_times': [array([], dtype=float64), array([], dtype=float64)],\n",
       " 'obs_times': array([120.]),\n",
       " 'event_time': 650.0,\n",
       " 'sepsis': 0,\n",
       " 'chronic_names': ['liver_disease', 'sickle_cell'],\n",
       " 'demographic': array([32.]),\n",
       " 'anticoagulant_times': [],\n",
       " 'marker_name': 'inr',\n",
       " 'aspirin_times': [],\n",
       " 'chronic': array([0., 0.]),\n",
       " 'transfusion_names': ['transfuse_plasma', 'transfuse_platelets'],\n",
       " 'obs_y': array([0.9]),\n",
       " 'nsaid_names': ['acetaminophen_dose',\n",
       "  'celecoxib_dose',\n",
       "  'diclofenac_dose',\n",
       "  'ibuprofen_dose',\n",
       "  'indomethacin_dose',\n",
       "  'ketorolac_dose',\n",
       "  'meloxicam_dose',\n",
       "  'naproxen_dose'],\n",
       " 'excess_alcohol': 0.0,\n",
       " 'inr_orgdf': 0,\n",
       " 'anticoagulant_names': ['warfarin_dose',\n",
       "  'heparin_dose',\n",
       "  'dabigatran_dose',\n",
       "  'edoxaban_dose',\n",
       "  'rivaroxaban_dose',\n",
       "  'apixaban_dose',\n",
       "  'enoxaparin_dose',\n",
       "  'dalteparin_dose',\n",
       "  'fondaparinux_dose'],\n",
       " 'id': 8,\n",
       " 'demographic_names': ['age']}"
      ]
     },
     "execution_count": 3,
     "metadata": {},
     "output_type": "execute_result"
    }
   ],
   "source": [
    "data[0]"
   ]
  },
  {
   "cell_type": "markdown",
   "metadata": {},
   "source": [
    "### Some notes on the data\n",
    "* 4 types of treatments: nsaid (8), transfusion (2), anticoagulant (9), aspirin (1)\n",
    "* 2 types of chronic conditions: liver disease, sickle cell\n",
    "* 1 demographic information: age (integer)\n",
    "* 2 other informations: excess alcohol (binary), sepsis (binary)  "
   ]
  },
  {
   "cell_type": "markdown",
   "metadata": {},
   "source": [
    "### Things to determine\n",
    "* Cutoff point for number of observations\n",
    "* How to determine the time interval? Since we can deal with missing value relatively well, we want to make the interval as fine grain as possible to maximize data usage. Average interval between observations and treatments are all around 1000. 95% of intervals for obs and aspirin are larger than 900-1000; 95% of intervals of anticoagulant and nsaid are larger than 400-500. \n",
    "* After specifying the interval, what if there are multiple values in that interval? Take average?\n",
    "* A small number of patients have received treatments befort the first observation. Should we consider the first observation as the starting point for each time series and simply disrecard those treatments and let the initial state value capture their effects?"
   ]
  },
  {
   "cell_type": "code",
   "execution_count": 4,
   "metadata": {},
   "outputs": [
    {
     "name": "stdout",
     "output_type": "stream",
     "text": [
      "Patients with obs times >= 5: 2524.0\n",
      "Patients with obs times >= 10: 651.0\n",
      "Patients with obs times >= 15: 212.0\n",
      "Patients with obs times >= 20: 95.0\n"
     ]
    },
    {
     "data": {
      "image/png": "[encoded data removed]",
      "text/plain": [
       "<Figure size 432x288 with 1 Axes>"
      ]
     },
     "metadata": {},
     "output_type": "display_data"
    }
   ],
   "source": [
    "data_5 = []\n",
    "data_7 = []\n",
    "data_10 = []\n",
    "num_obs = []\n",
    "for d in data:\n",
    "    num = d['obs_times'].shape[0]\n",
    "    num_obs.append(num)\n",
    "    if num >= 5:\n",
    "        data_5.append(d)\n",
    "    if num >= 7:\n",
    "        data_7.append(d)\n",
    "    if num >= 10:\n",
    "        data_10.append(d)\n",
    "\n",
    "max_num_obs = max(num_obs)\n",
    "num_obs_hist = plt.hist(num_obs, bins = max_num_obs, range=(1, max_num_obs))[0]\n",
    "\n",
    "print('Patients with obs times >= 5: {}'.format(np.sum(num_obs_hist[4:])))\n",
    "print('Patients with obs times >= 10: {}'.format(np.sum(num_obs_hist[9:])))\n",
    "print('Patients with obs times >= 15: {}'.format(np.sum(num_obs_hist[14:])))\n",
    "print('Patients with obs times >= 20: {}'.format(np.sum(num_obs_hist[19:])))"
   ]
  },
  {
   "cell_type": "markdown",
   "metadata": {},
   "source": [
    "### Observational time"
   ]
  },
  {
   "cell_type": "code",
   "execution_count": 5,
   "metadata": {},
   "outputs": [],
   "source": [
    "def time_span(data, name):\n",
    "    time_span = []\n",
    "    for d in data:\n",
    "        time_span.append(d['obs_times'][-1] - d['obs_times'][0])\n",
    "    return time_span \n",
    "        \n",
    "def avg_interval(data, name):\n",
    "    avg_interval = []\n",
    "    for d in data:\n",
    "        if type(d[name+'_times']) is list and len(d[name+'_times']) < 2:\n",
    "            continue\n",
    "        diff = np.subtract(d[name+'_times'], np.roll(d[name+'_times'], shift=1))\n",
    "        diff = np.delete(diff, 0)\n",
    "        avg_interval.append(np.average(diff))\n",
    "    return avg_interval\n",
    "    \n",
    "def avg_times_of(data, name):\n",
    "    num = []\n",
    "    for d in data:\n",
    "        num.append(d[name + '_times'].shape[0])\n",
    "    print('avg number of ' + name + ': {}'.format(np.average(num)))"
   ]
  },
  {
   "cell_type": "code",
   "execution_count": 6,
   "metadata": {},
   "outputs": [
    {
     "name": "stdout",
     "output_type": "stream",
     "text": [
      "avg overall time span of obs: 1367.66256540352\n"
     ]
    },
    {
     "name": "stderr",
     "output_type": "stream",
     "text": [
      "/home/bear/anaconda3/lib/python3.6/site-packages/numpy/lib/function_base.py:1128: RuntimeWarning: Mean of empty slice.\n",
      "  avg = a.mean(axis)\n",
      "/home/bear/anaconda3/lib/python3.6/site-packages/numpy/core/_methods.py:80: RuntimeWarning: invalid value encountered in double_scalars\n",
      "  ret = ret.dtype.type(ret / rcount)\n"
     ]
    },
    {
     "name": "stdout",
     "output_type": "stream",
     "text": [
      "avg interval between obs: nan\n",
      "avg number of obs: 1.831330267956239\n"
     ]
    }
   ],
   "source": [
    "print('avg overall time span of obs: {}'.format(np.mean(time_span(data, 'obs'))))\n",
    "print('avg interval between obs: {}'.format(np.mean(avg_interval(data, 'obs'))))\n",
    "avg_times_of(data, 'obs')"
   ]
  },
  {
   "cell_type": "code",
   "execution_count": 7,
   "metadata": {},
   "outputs": [
    {
     "name": "stderr",
     "output_type": "stream",
     "text": [
      "/home/bear/anaconda3/lib/python3.6/site-packages/numpy/lib/function_base.py:1128: RuntimeWarning: Mean of empty slice.\n",
      "  avg = a.mean(axis)\n",
      "/home/bear/anaconda3/lib/python3.6/site-packages/numpy/core/_methods.py:80: RuntimeWarning: invalid value encountered in double_scalars\n",
      "  ret = ret.dtype.type(ret / rcount)\n"
     ]
    },
    {
     "name": "stdout",
     "output_type": "stream",
     "text": [
      "95% has avg interval between obs larger than: nan\n"
     ]
    },
    {
     "name": "stderr",
     "output_type": "stream",
     "text": [
      "/home/bear/anaconda3/lib/python3.6/site-packages/numpy/lib/function_base.py:4291: RuntimeWarning: Invalid value encountered in percentile\n",
      "  interpolation=interpolation)\n"
     ]
    }
   ],
   "source": [
    "print('95% has avg interval between obs larger than: {}'.format(np.percentile(avg_interval(data, 'obs'), 5)))"
   ]
  },
  {
   "cell_type": "markdown",
   "metadata": {},
   "source": [
    "### INR values"
   ]
  },
  {
   "cell_type": "code",
   "execution_count": 8,
   "metadata": {},
   "outputs": [
    {
     "data": {
      "text/plain": [
       "(array([3.4808e+04, 8.6770e+03, 5.8440e+03, 4.0000e+03, 1.7050e+03,\n",
       "        1.0890e+03, 6.0200e+02, 2.9100e+02, 2.1300e+02, 1.1800e+02,\n",
       "        1.1000e+02, 5.2000e+01, 4.2000e+01, 5.7000e+01, 3.0000e+01,\n",
       "        4.7000e+01, 1.6000e+01, 1.6000e+01, 1.6000e+01, 1.8000e+01]),\n",
       " array([ 0.8 ,  1.36,  1.92,  2.48,  3.04,  3.6 ,  4.16,  4.72,  5.28,\n",
       "         5.84,  6.4 ,  6.96,  7.52,  8.08,  8.64,  9.2 ,  9.76, 10.32,\n",
       "        10.88, 11.44, 12.  ]),\n",
       " <a list of 20 Patch objects>)"
      ]
     },
     "execution_count": 8,
     "metadata": {},
     "output_type": "execute_result"
    },
    {
     "data": {
      "image/png": "[encoded data removed]",
      "text/plain": [
       "<Figure size 432x288 with 1 Axes>"
      ]
     },
     "metadata": {},
     "output_type": "display_data"
    }
   ],
   "source": [
    "inr = []\n",
    "for d in data:\n",
    "    inr.append(d['obs_y'])\n",
    "inr_arr = np.concatenate(inr)\n",
    "inr_hist = plt.hist(inr_arr, bins = 20)\n",
    "inr_hist"
   ]
  },
  {
   "cell_type": "markdown",
   "metadata": {},
   "source": [
    "### Age"
   ]
  },
  {
   "cell_type": "code",
   "execution_count": 9,
   "metadata": {},
   "outputs": [
    {
     "data": {
      "text/plain": [
       "(array([ 784., 1973., 2774., 3778., 4667., 5486., 5002., 4899., 2087.,\n",
       "          85.]),\n",
       " array([ 15. ,  24.2,  33.4,  42.6,  51.8,  61. ,  70.2,  79.4,  88.6,\n",
       "         97.8, 107. ]),\n",
       " <a list of 10 Patch objects>)"
      ]
     },
     "execution_count": 9,
     "metadata": {},
     "output_type": "execute_result"
    },
    {
     "data": {
      "image/png": "[encoded data removed]",
      "text/plain": [
       "<Figure size 432x288 with 1 Axes>"
      ]
     },
     "metadata": {},
     "output_type": "display_data"
    }
   ],
   "source": [
    "age = []\n",
    "for d in data:\n",
    "    age.append(d['demographic'])\n",
    "age_arr = np.concatenate(age)\n",
    "age_hist = plt.hist(age_arr, bins = 10)\n",
    "age_hist"
   ]
  },
  {
   "cell_type": "markdown",
   "metadata": {},
   "source": [
    "### Chronic"
   ]
  },
  {
   "cell_type": "code",
   "execution_count": 10,
   "metadata": {},
   "outputs": [
    {
     "name": "stdout",
     "output_type": "stream",
     "text": [
      "No liver disease: 30286; with liver disease: 1249\n",
      "No sickle cell: 31397; with sickle cell: 138\n"
     ]
    }
   ],
   "source": [
    "liver = np.zeros(len(data))\n",
    "sickle = np.zeros(len(data))\n",
    "for i, d in enumerate(data):\n",
    "    liver[i] = d['chronic'][0]\n",
    "    sickle[i] = d['chronic'][1]\n",
    "liver_num = np.unique(liver, return_counts=True)[1]\n",
    "sickle_num = np.unique(sickle, return_counts=True)[1]\n",
    "print('No liver disease: {}; with liver disease: {}'.format(liver_num[0], liver_num[1]))\n",
    "print('No sickle cell: {}; with sickle cell: {}'.format(sickle_num[0], sickle_num[1]))"
   ]
  },
  {
   "cell_type": "code",
   "execution_count": 11,
   "metadata": {},
   "outputs": [],
   "source": [
    "inr_liver_disease = []\n",
    "inr_no_liver_disease = []\n",
    "for i in np.where(liver == 0)[0]:\n",
    "    inr_no_liver_disease.append(data[i]['obs_y'])\n",
    "for i in np.where(liver == 1)[0]:\n",
    "    inr_liver_disease.append(data[i]['obs_y'])\n",
    "inr_liver_disease = np.concatenate(inr_liver_disease)\n",
    "inr_no_liver_disease = np.concatenate(inr_no_liver_disease)"
   ]
  },
  {
   "cell_type": "code",
   "execution_count": 12,
   "metadata": {},
   "outputs": [
    {
     "data": {
      "text/plain": [
       "<matplotlib.legend.Legend at 0x7fde7a101048>"
      ]
     },
     "execution_count": 12,
     "metadata": {},
     "output_type": "execute_result"
    },
    {
     "data": {
      "image/png": "[encoded data removed]",
      "text/plain": [
       "<Figure size 432x288 with 1 Axes>"
      ]
     },
     "metadata": {},
     "output_type": "display_data"
    }
   ],
   "source": [
    "plt.hist([inr_liver_disease, inr_no_liver_disease], bins=40, density=True, label=['With liver disease', 'Without liver disease'])\n",
    "plt.legend()"
   ]
  },
  {
   "cell_type": "code",
   "execution_count": 13,
   "metadata": {},
   "outputs": [],
   "source": [
    "inr_sickle = []\n",
    "inr_no_sickle = []\n",
    "for i in np.where(sickle == 0)[0]:\n",
    "    inr_no_sickle.append(data[i]['obs_y'])\n",
    "for i in np.where(sickle == 1)[0]:\n",
    "    inr_sickle.append(data[i]['obs_y'])\n",
    "inr_sickle = np.concatenate(inr_sickle)\n",
    "inr_no_sickle = np.concatenate(inr_no_sickle)"
   ]
  },
  {
   "cell_type": "code",
   "execution_count": 14,
   "metadata": {},
   "outputs": [
    {
     "data": {
      "text/plain": [
       "<matplotlib.legend.Legend at 0x7fde7a096ac8>"
      ]
     },
     "execution_count": 14,
     "metadata": {},
     "output_type": "execute_result"
    },
    {
     "data": {
      "image/png": "[encoded data removed]",
      "text/plain": [
       "<Figure size 432x288 with 1 Axes>"
      ]
     },
     "metadata": {},
     "output_type": "display_data"
    }
   ],
   "source": [
    "plt.hist([inr_sickle, inr_no_sickle], bins=40, density=True, label=['With sickle cell', 'Without sickle cell'])\n",
    "plt.legend()"
   ]
  },
  {
   "cell_type": "markdown",
   "metadata": {},
   "source": [
    "### Treatments"
   ]
  },
  {
   "cell_type": "code",
   "execution_count": 15,
   "metadata": {},
   "outputs": [],
   "source": [
    "def num_treatment(treatment_name):\n",
    "    num_t = []\n",
    "    for d in data:\n",
    "        num_t.append(len(d[treatment_name + '_times']))\n",
    "\n",
    "    num_t = np.array(num_t)\n",
    "    print('Number of times ' + treatment_name +  ' is given')\n",
    "    unique = np.unique(num_t, return_counts=True)\n",
    "    print('Unique values : {}'.format(unique[0]))\n",
    "    print('Counts for unique values : {}'.format(unique[1]))"
   ]
  },
  {
   "cell_type": "code",
   "execution_count": 16,
   "metadata": {},
   "outputs": [
    {
     "name": "stdout",
     "output_type": "stream",
     "text": [
      "Number of times nsaid is given\n",
      "Unique values : [  0   1   2   3   4   5   6   7   8   9  10  11  12  13  14  15  16  17\n",
      "  18  19  20  21  22  23  24  25  26  27  28  29  30  31  32  33  34  37\n",
      "  38  39  40  41  42  43  44  46  47  48  49  50  52  53  55  58  59  68\n",
      "  72  74  83  87 101 109 131 136 603]\n",
      "Counts for unique values : [21126  4330  1686  1010   673   495   362   325   256   201   145   123\n",
      "   105    91    59    77    64    56    52    33    28    20    32    22\n",
      "    26    13    12    11    10    14    11     8     9     1     1     4\n",
      "     2     3     5     4     1     1     2     2     1     2     1     2\n",
      "     2     1     1     1     1     2     1     1     1     2     1     1\n",
      "     1     1     1]\n",
      "Number of times anticoagulant is given\n",
      "Unique values : [  0   1   2   3   4   5   6   7   8   9  10  11  12  13  14  15  16  17\n",
      "  18  19  20  21  22  23  24  25  26  27  28  29  30  31  32  33  34  35\n",
      "  36  37  38  39  40  41  42  43  44  45  46  47  48  49  50  51  52  53\n",
      "  54  55  56  57  58  59  60  61  62  63  64  65  66  67  68  69  70  71\n",
      "  72  73  74  75  76  77  78  79  80  81  82  83  84  85  87  88  89  90\n",
      "  93  94  96  97 102 103 104 105 106 107 108 110 111 113 114 116 117 120\n",
      " 122 123 124 126 135 143 148 162 163 166 196 219 224 227 244 640]\n",
      "Counts for unique values : [15242  1955  2265  1759  1459  1096   993   785   697   557   554   361\n",
      "   419   332   320   272   250   190   186   164   137   121   128   113\n",
      "    89    83    71    81    64    49    50    37    46    33    40    30\n",
      "    29    32    23    31    20    18    19    20    18    12    13     8\n",
      "    13    14    15     8    17    11     6     3     5     8     3     7\n",
      "     3     3     7     6     3     6     1     4     5     8     4     4\n",
      "     5     5     5     3     1     1     5     2     4     7     1     3\n",
      "     2     2     1     5     3     3     2     2     1     1     1     2\n",
      "     1     1     1     2     1     2     1     1     2     1     2     1\n",
      "     1     1     1     1     1     2     1     1     1     1     1     1\n",
      "     1     1     1     1]\n",
      "Number of times aspirin is given\n",
      "Unique values : [  0   1   2   3   4   5   6   7   8   9  10  11  12  13  14  15  16  17\n",
      "  18  19  20  21  22  23  24  25  26  27  28  29  30  31  33  34  35  36\n",
      "  37  38  39  41  44  47  53  54  56  58  60  62  63  74  91 156 178]\n",
      "Counts for unique values : [23412  2461  1639  1192   804   507   392   287   207   126   117    68\n",
      "    63    40    37    25    25    14    13    11    10    11     8     8\n",
      "     5     4     3     2     3     7     3     2     1     4     1     1\n",
      "     1     2     1     1     3     1     2     1     1     1     1     1\n",
      "     1     1     2     1     1]\n"
     ]
    }
   ],
   "source": [
    "num_treatment('nsaid')\n",
    "num_treatment('anticoagulant')\n",
    "num_treatment('aspirin')"
   ]
  },
  {
   "cell_type": "code",
   "execution_count": 17,
   "metadata": {},
   "outputs": [
    {
     "name": "stdout",
     "output_type": "stream",
     "text": [
      "avg interval between nsaid: 1454.7105694425343\n",
      "avg interval between anticoagulant: 829.4843778023642\n",
      "avg interval between aspirin: 1382.2135186157657\n"
     ]
    }
   ],
   "source": [
    "print('avg interval between nsaid: {}'.format(np.mean(avg_interval(data, 'nsaid'))))\n",
    "print('avg interval between anticoagulant: {}'.format(np.mean(avg_interval(data, 'anticoagulant'))))\n",
    "print('avg interval between aspirin: {}'.format(np.mean(avg_interval(data, 'aspirin'))))"
   ]
  },
  {
   "cell_type": "code",
   "execution_count": 18,
   "metadata": {},
   "outputs": [
    {
     "name": "stdout",
     "output_type": "stream",
     "text": [
      "95% has avg interval between nsaid larger than: 270.3541666666667\n",
      "95% has avg interval between anticoagulant larger than: 347.3119047619047\n",
      "95% has avg interval between aspirin larger than: 739.0044117647059\n"
     ]
    }
   ],
   "source": [
    "print('95% has avg interval between nsaid larger than: {}'.format(np.percentile(avg_interval(data, 'nsaid'), 5)))\n",
    "print('95% has avg interval between anticoagulant larger than: {}'.format(np.percentile(avg_interval(data, 'anticoagulant'), 5)))\n",
    "print('95% has avg interval between aspirin larger than: {}'.format(np.percentile(avg_interval(data, 'aspirin'), 5)))"
   ]
  },
  {
   "cell_type": "code",
   "execution_count": 19,
   "metadata": {},
   "outputs": [],
   "source": [
    "treatments = ['nsaid', 'anticoagulant', 'aspirin']\n",
    "\n",
    "def num_treatments_before_first_obs(name):\n",
    "    num_t = []\n",
    "    for d in data:\n",
    "        first_obs = d['obs_times'][0]\n",
    "        num_t.append(np.where(np.array(d[name+'_times']) < first_obs)[0].shape[0])\n",
    "    num_t = np.array(num_t)\n",
    "    return np.unique(num_t, return_counts=True)"
   ]
  },
  {
   "cell_type": "code",
   "execution_count": 20,
   "metadata": {},
   "outputs": [
    {
     "data": {
      "text/plain": [
       "(array([  0,   1,   2,   3,   4,   5,   6,   7,   8,   9,  10,  11,  12,\n",
       "         13,  14,  15,  16,  17,  18,  19,  20,  21,  22,  23,  24,  25,\n",
       "         26,  27,  28,  29,  30,  31,  32,  33,  34,  36,  37,  38,  39,\n",
       "         40,  41,  42,  44,  46,  49,  50,  52,  53,  59,  64,  67,  68,\n",
       "        108]),\n",
       " array([28173,  1313,   887,   278,   188,   140,    82,    75,    69,\n",
       "           54,    24,    38,    29,    18,    24,    12,    12,     9,\n",
       "           17,     5,     7,     8,     6,    11,     5,     3,     3,\n",
       "            4,     3,     2,     1,     3,     3,     4,     2,     1,\n",
       "            1,     2,     4,     2,     1,     1,     1,     1,     1,\n",
       "            1,     1,     1,     1,     1,     1,     1,     1]))"
      ]
     },
     "execution_count": 20,
     "metadata": {},
     "output_type": "execute_result"
    }
   ],
   "source": [
    "num_treatments_before_first_obs('anticoagulant')"
   ]
  },
  {
   "cell_type": "code",
   "execution_count": 21,
   "metadata": {},
   "outputs": [
    {
     "data": {
      "text/plain": [
       "2"
      ]
     },
     "execution_count": 21,
     "metadata": {},
     "output_type": "execute_result"
    }
   ],
   "source": [
    "a = np.array([1, 2, 3, 4])\n",
    "np.where(a < 3)[0].shape[0]"
   ]
  },
  {
   "cell_type": "markdown",
   "metadata": {},
   "source": [
    "### Sepsis"
   ]
  },
  {
   "cell_type": "code",
   "execution_count": 22,
   "metadata": {},
   "outputs": [
    {
     "name": "stdout",
     "output_type": "stream",
     "text": [
      "Sepsis: 27692\n",
      "No Sepsis: 3843\n"
     ]
    }
   ],
   "source": [
    "sepsis = []\n",
    "for d in data:\n",
    "    sepsis.append(d['sepsis'])\n",
    "sepsis = np.array(sepsis)\n",
    "sepsis_unique = np.unique(sepsis, return_counts=True)\n",
    "print('Sepsis: {}'.format(sepsis_unique[1][0]))\n",
    "print('No Sepsis: {}'.format(sepsis_unique[1][1]))"
   ]
  },
  {
   "cell_type": "code",
   "execution_count": 23,
   "metadata": {},
   "outputs": [],
   "source": [
    "def plot(n):\n",
    "    times = data[n]['obs_times']\n",
    "    inr = data[n]['obs_y']\n",
    "    fig = plt.figure()\n",
    "    plt.plot(times, inr, '.', label = 'observed inr')\n",
    "    names = ['nsaid', 'anticoagulant', 'aspirin']\n",
    "    colors = ['r', 'g', 'c']\n",
    "    for i, name in enumerate(names):\n",
    "        treatment = data[n][name + '_times']\n",
    "        for t in treatment:\n",
    "            plt.axvline(x=t, linestyle=':', color=colors[i])\n",
    "    tf = np.concatenate(data[n]['transfusion_times'])\n",
    "    for t in tf:\n",
    "        plt.axvline(x=t, linestyle=':', color='y')\n",
    "    plt.legend()\n",
    "    fig.set_figheight(8)\n",
    "    fig.set_figwidth(15)\n",
    "    plt.show()"
   ]
  },
  {
   "cell_type": "markdown",
   "metadata": {},
   "source": [
    "## Analysis after Preprocessing"
   ]
  },
  {
   "cell_type": "code",
   "execution_count": 25,
   "metadata": {},
   "outputs": [],
   "source": [
    "bin_size = 60 * 18\n",
    "cutoff = 5"
   ]
  },
  {
   "cell_type": "code",
   "execution_count": 26,
   "metadata": {},
   "outputs": [],
   "source": [
    "y, X, c = preprocess(data, cutoff, bin_size, missing_pct=40)"
   ]
  },
  {
   "cell_type": "code",
   "execution_count": 27,
   "metadata": {},
   "outputs": [
    {
     "data": {
      "text/plain": [
       "(2214, 215)"
      ]
     },
     "execution_count": 27,
     "metadata": {},
     "output_type": "execute_result"
    }
   ],
   "source": [
    "y.shape"
   ]
  },
  {
   "cell_type": "code",
   "execution_count": 28,
   "metadata": {},
   "outputs": [
    {
     "name": "stdout",
     "output_type": "stream",
     "text": [
      "percentage of patients in the data with liver disease: 6.504065040650407\n",
      "percentage of patients in the data with sickle cell: 0.6323396567299007\n"
     ]
    }
   ],
   "source": [
    "print('percentage of patients in the data with liver disease: {}'.format\\\n",
    "      (np.nonzero(c[:, 0])[0].shape[0] / c.shape[0] * 100))\n",
    "print('percentage of patients in the data with sickle cell: {}'.format\\\n",
    "      (np.nonzero(c[:, 1])[0].shape[0] / c.shape[0] * 100))"
   ]
  },
  {
   "cell_type": "markdown",
   "metadata": {},
   "source": [
    "Here for each INR observation (say at time t, t is a time point after binning), look at whether there is any treatment given at time t-1 or t-2. If so, calculate the difference between the INR value at time t and the previous observed INR value. If the difference is negative, then we say a treatment has nonincreasing effect. We do this for each of the 4 treatments"
   ]
  },
  {
   "cell_type": "code",
   "execution_count": 31,
   "metadata": {},
   "outputs": [
    {
     "name": "stdout",
     "output_type": "stream",
     "text": [
      "Percentage of the nsaid given 0.75 days before with increasing effect on INR: 49.750340444847936\n",
      "Percentage of the nsaid given 1.5 days before with increasing effect on INR: 49.900099900099896\n",
      "Percentage of the nsaid with increasing effect on INR: 49.82164090368609\n",
      "Percentage of the transfusion_plasma given 0.75 days before with increasing effect on INR: 16.99604743083004\n",
      "Percentage of the transfusion_plasma given 1.5 days before with increasing effect on INR: 33.97129186602871\n",
      "Percentage of the transfusion_plasma with increasing effect on INR: 24.675324675324674\n",
      "Percentage of the transfusion_platelet given 0.75 days before with increasing effect on INR: 25.0\n",
      "Percentage of the transfusion_platelet given 1.5 days before with increasing effect on INR: 26.31578947368421\n",
      "Percentage of the transfusion_platelet with increasing effect on INR: 25.64102564102564\n",
      "Percentage of the anticoagulant given 0.75 days before with increasing effect on INR: 56.79888208104913\n",
      "Percentage of the anticoagulant given 1.5 days before with increasing effect on INR: 59.785202863961814\n",
      "Percentage of the anticoagulant with increasing effect on INR: 58.28518978456887\n",
      "Percentage of the aspirin given 0.75 days before with increasing effect on INR: 48.56206771022934\n",
      "Percentage of the aspirin given 1.5 days before with increasing effect on INR: 49.714285714285715\n",
      "Percentage of the aspirin with increasing effect on INR: 49.06127501547349\n"
     ]
    }
   ],
   "source": [
    "treatment_types = ['nsaid', 'transfusion_plasma', 'transfusion_platelet', 'anticoagulant', 'aspirin']\n",
    "num_past_time = 2 # number of time points in the past to check for effect \n",
    "for j in range(5):\n",
    "    total_treatment_effect = []\n",
    "    \n",
    "    for time in range(1, num_past_time+1):\n",
    "        single_effect = []\n",
    "            \n",
    "        for n in range(y.shape[0]):\n",
    "            treatment = np.nonzero(X[n, :, j])[0]\n",
    "            if treatment.shape[0] > 0:        \n",
    "                inr_index = np.where(np.invert(np.isnan(y[n, :])))[0]\n",
    "                prev_inr = np.nan\n",
    "                for i in inr_index:\n",
    "                    prev_day = i-time\n",
    "                    curr_inr = y[n, i]\n",
    "                    if prev_day in treatment:\n",
    "                        total_treatment_effect.append(curr_inr - prev_inr)\n",
    "                        single_effect.append(curr_inr - prev_inr)    \n",
    "                    prev_inr = curr_inr\n",
    "        pct = np.nan\n",
    "        if single_effect:\n",
    "            single_effect = np.array(single_effect)\n",
    "            pct_single_effect = np.where(single_effect > 0)[0].shape[0] / single_effect.shape[0] * 100\n",
    "            print('Percentage of the {} given {} days before with increasing effect on INR: {}'. \\\n",
    "                format(treatment_types[j], time*bin_size/60/24, pct_single_effect))\n",
    "                    \n",
    "    total_treatment_effect = np.array(total_treatment_effect)\n",
    "    pct_total_effect = np.where(total_treatment_effect > 0)[0].shape[0] / total_treatment_effect.shape[0] * 100\n",
    "    print('Percentage of the {} with increasing effect on INR: {}'.format(treatment_types[j], pct_total_effect))"
   ]
  },
  {
   "cell_type": "code",
   "execution_count": 32,
   "metadata": {},
   "outputs": [],
   "source": [
    "def find_common_elements(a, b):\n",
    "    count = 0\n",
    "    if a.shape[0] == 0 or b.shape[0] == 0:\n",
    "        return count\n",
    "    for ele in a:\n",
    "        if ele in b:\n",
    "            count += 1\n",
    "    return count"
   ]
  },
  {
   "cell_type": "code",
   "execution_count": 33,
   "metadata": {},
   "outputs": [
    {
     "name": "stdout",
     "output_type": "stream",
     "text": [
      "anticoagulant is administered 14.787570466107521% times with nsaid\n",
      "anticoagulant is administered 0.18561803932352536% times with plasma transfusion\n",
      "anticoagulant is administered 0.0% times with platelet transfusion\n",
      "anticoagulant is administered 17.60621476694624% times with aspirin\n"
     ]
    }
   ],
   "source": [
    "atc_total = 0\n",
    "with_ns = 0\n",
    "with_plasma_tf = 0\n",
    "with_platelet_tf = 0\n",
    "with_asp = 0\n",
    "for n in range(y.shape[0]):\n",
    "    atc = np.nonzero(X[n, :, 3])[0]\n",
    "    atc_total += atc.shape[0]\n",
    "    if atc.shape[0] > 0:\n",
    "        ns = np.nonzero(X[n, :, 0])[0]\n",
    "        plasma_tf = np.nonzero(X[n, :, 1])[0]\n",
    "        platelet_tf = np.nonzero(X[n, :, 2])[0]\n",
    "        asp = np.nonzero(X[n, :, 4])[0]\n",
    "        with_ns += find_common_elements(atc, ns)\n",
    "        with_plasma_tf += find_common_elements(atc, plasma_tf)\n",
    "        with_platelet_tf += find_common_elements(atc, platelet_tf)\n",
    "        with_asp += find_common_elements(atc, asp)\n",
    "print('anticoagulant is administered {}% times with nsaid'.format(with_ns / atc_total * 100))\n",
    "print('anticoagulant is administered {}% times with plasma transfusion'.format(with_plasma_tf / atc_total * 100))\n",
    "print('anticoagulant is administered {}% times with platelet transfusion'.format(with_platelet_tf / atc_total * 100))\n",
    "print('anticoagulant is administered {}% times with aspirin'.format(with_asp / atc_total * 100))"
   ]
  },
  {
   "cell_type": "markdown",
   "metadata": {},
   "source": [
    "### Effects of Variables on INR\n",
    "* In healthy people an INR of 1.1 or below is considered normal. An INR range of 2.0 to 3.0 is generally an effective therapeutic range for people taking warfarin for disorders such as atrial fibrillation or a blood clot in the leg or lung. In certain situations, such as having a mechanical heart valve, you might need a slightly higher INR.\n",
    "* If INR is too high, the blood is clotting too slow. https://www.mayoclinic.org/tests-procedures/prothrombin-time/about/pac-20384661\n",
    "* Effects of treatments\n",
    "    * Nsaid: Increase (when administered with warfarin) https://www.ncbi.nlm.nih.gov/pmc/articles/PMC2826747/\n",
    "    * Transfusion\n",
    "        * Plasma: Unclear https://www.ncbi.nlm.nih.gov/pubmed/16934060\n",
    "        * Platelets: (Should) Decrease (since it helps form blood clots)\n",
    "    * Anticoagulant: Increase\n",
    "        * Delay effect: \"Because warfarin has a long half-life, increases in the INR may not be noted for 24 to 36 hours after administration of the first dose, and maximum anticoagulant effect may not be achieved for 72 to 96 hours.\" https://www.aafp.org/afp/1999/0201/p635.html\n",
    "    * Aspirin: Increase https://www.ncbi.nlm.nih.gov/pmc/articles/PMC1492499/ https://bpac.org.nz/BT/2010/November/inr.aspx\n",
    "* Chronics\n",
    "    * Liver disease: Unclear\n",
    "        * \"Both procoagulants and anticoagulants that occur naturally in the body are produced by the liver, affecting your INR\" http://www.ptinr.com/en/home/warfarin-you/general-information/health-conditions/liver-liver-disease-and-warfarin.html\n",
    "    * Sickle cell: Decrease\n",
    "        * \"Sickle cell disorders, such as Hb SS and Hb SC, are associated with a hypercoagulable state that may contribute to the vaso-occlusive episodes observed in the disorders.\" https://www.ncbi.nlm.nih.gov/pubmed/11835343\n",
    "* Demographics\n",
    "    * Age: Decrease\n",
    "        * In patients aged 65 years or older, the mean INR at the time of a major bleeding event was significantly lower than that in patients younger than 65 years (INR 3.1 vs 4.2, respectively; p=0.01). For every 1-year increase in age, mean INR at the time of a major bleeding event decreased by 0.03 (p=0.02). https://www.ncbi.nlm.nih.gov/pubmed/15162894\n",
    "* Interaction\n",
    "    * Warfarin is likely to have interaction with other types of treatments\n",
    "        * \"Dose has an inverse relation with age\"\n",
    "        * \"Drug interactions need to be considered when warfarin therapy is initiated.\" https://www.aafp.org/afp/1999/0201/p635.html"
   ]
  }
 ],
 "metadata": {
  "kernelspec": {
   "display_name": "Python 3",
   "language": "python",
   "name": "python3"
  },
  "language_info": {
   "codemirror_mode": {
    "name": "ipython",
    "version": 3
   },
   "file_extension": ".py",
   "mimetype": "text/x-python",
   "name": "python",
   "nbconvert_exporter": "python",
   "pygments_lexer": "ipython3",
   "version": "3.6.5"
  }
 },
 "nbformat": 4,
 "nbformat_minor": 2
}
