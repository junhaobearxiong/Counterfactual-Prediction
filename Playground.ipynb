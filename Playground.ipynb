{
 "cells": [
  {
   "cell_type": "code",
   "execution_count": 1,
   "metadata": {},
   "outputs": [],
   "source": [
    "import pandas as pd\n",
    "import pickle\n",
    "import numpy as np\n",
    "from datetime import datetime, timedelta\n",
    "from EM import EM\n",
    "import matplotlib.pyplot as plt\n",
    "from plot import plot"
   ]
  },
  {
   "cell_type": "code",
   "execution_count": 2,
   "metadata": {},
   "outputs": [],
   "source": [
    "data = np.load('../Data/test_preprocessed_data.npz')"
   ]
  },
  {
   "cell_type": "code",
   "execution_count": 3,
   "metadata": {},
   "outputs": [],
   "source": [
    "# EM Setting\n",
    "training_pct = .8\n",
    "single_effect = False\n",
    "num_past_effects = 2"
   ]
  },
  {
   "cell_type": "code",
   "execution_count": 9,
   "metadata": {},
   "outputs": [
    {
     "name": "stdout",
     "output_type": "stream",
     "text": [
      "iteration 1\n",
      "iteration 2\n",
      "iteration 3\n",
      "iteration 4\n",
      "iteration 5\n",
      "iteration 6\n",
      "iteration 7\n",
      "7 iterations before loglik converges\n"
     ]
    },
    {
     "data": {
      "text/plain": [
       "7"
      ]
     },
     "execution_count": 9,
     "metadata": {},
     "output_type": "execute_result"
    }
   ],
   "source": [
    "em = EM(data['y_mtx'], data['X_mtx'], data['c_mtx'], num_past_effects, K=0, train_pct=training_pct, X_prev_given=True,\n",
    "            X_prev = data['X_prev_mtx'], single_effect=single_effect)\n",
    "em.run_EM(10)"
   ]
  },
  {
   "cell_type": "code",
   "execution_count": 10,
   "metadata": {},
   "outputs": [
    {
     "data": {
      "text/plain": [
       "True"
      ]
     },
     "execution_count": 10,
     "metadata": {},
     "output_type": "execute_result"
    }
   ],
   "source": [
    "all([em.obs_log_lik[j] <= em.obs_log_lik[j+1] for j in range(len(em.obs_log_lik)-1)])"
   ]
  },
  {
   "cell_type": "code",
   "execution_count": 11,
   "metadata": {},
   "outputs": [
    {
     "data": {
      "image/png": "[encoded data removed]",
      "text/plain": [
       "<Figure size 432x288 with 1 Axes>"
      ]
     },
     "metadata": {},
     "output_type": "display_data"
    }
   ],
   "source": [
    "plt.plot([i for i in range(1, len(em.obs_log_lik))], em.obs_log_lik[1:])\n",
    "plt.xlabel('Iterations')\n",
    "plt.ylabel('Observed data log likelihood')\n",
    "plt.title('EM log likelihood')\n",
    "plt.show()"
   ]
  },
  {
   "cell_type": "code",
   "execution_count": 7,
   "metadata": {},
   "outputs": [
    {
     "ename": "NameError",
     "evalue": "name 'hah' is not defined",
     "output_type": "error",
     "traceback": [
      "\u001b[0;31m---------------------------------------------------------------------------\u001b[0m",
      "\u001b[0;31mNameError\u001b[0m                                 Traceback (most recent call last)",
      "\u001b[0;32m<ipython-input-7-2a4e16c9fd21>\u001b[0m in \u001b[0;36m<module>\u001b[0;34m()\u001b[0m\n\u001b[0;32m----> 1\u001b[0;31m \u001b[0mhah\u001b[0m\u001b[0;34m\u001b[0m\u001b[0m\n\u001b[0m",
      "\u001b[0;31mNameError\u001b[0m: name 'hah' is not defined"
     ]
    }
   ],
   "source": [
    "hah"
   ]
  },
  {
   "cell_type": "code",
   "execution_count": null,
   "metadata": {},
   "outputs": [],
   "source": [
    "cdm_t = pd.read_pickle('../Data/cdm_t.pkl')\n",
    "cdm_s = pd.read_pickle('../Data/cdm_s.pkl')"
   ]
  },
  {
   "cell_type": "code",
   "execution_count": null,
   "metadata": {},
   "outputs": [],
   "source": [
    "signal_context = {}"
   ]
  },
  {
   "cell_type": "code",
   "execution_count": null,
   "metadata": {},
   "outputs": [],
   "source": [
    "signal_name = 'platelets'\n",
    "treatment_names = {}\n",
    "treatment_names['platelets_transfusion'] = ['transfuse_platelets']\n",
    "treatment_names['ditp'] = ['ibuprofen_dose',\n",
    " 'acetaminophen_dose',\n",
    " 'ampicillin_dose',\n",
    " 'heparin_dose',\n",
    " 'vancomycin_dose',\n",
    " 'piperacillin_tazobac_dose',\n",
    " 'naproxen_dose']\n",
    "\n",
    "chronic_keywords = ['liver', 'sickle_cell']\n",
    "demographic_names = []\n",
    "signal_context[signal_name] = (treatment_names, chronic_keywords, demographic_names)"
   ]
  },
  {
   "cell_type": "code",
   "execution_count": null,
   "metadata": {},
   "outputs": [],
   "source": [
    "signal_name = 'creatinine'\n",
    "\n",
    "treatment_names = {}\n",
    "treatment_names['dialysis'] = ['dialysis'] \n",
    "treatment_names['nephrotoxic_drugs'] = ['acetaminophen_dose','celecoxib_dose','diclofenac_dose','ibuprofen_dose','indomethacin_dose',\n",
    "'ketorolac_dose','meloxicam_dose','naproxen_dose']\n",
    "treatment_names['dronedarone'] = ['dronedarone_dose']\n",
    "treatment_names['diuretic'] = ['eplerenone_dose', 'amiloride_dose', 'hydrochlorothiazide_dose',\n",
    "'spironolactone_dose', 'triamterene_dose', 'chlorothiazide_dose', 'indapamide_dose', 'torsemide_dose', \n",
    "'acetazolamide_dose', 'mannitol_dose']\n",
    "treatment_names['ace_i'] = ['lisinopril_dose',\n",
    " 'ramipril_dose',\n",
    " 'benazepril_dose',\n",
    " 'enalaprilat_dose',\n",
    " 'captopril_dose',\n",
    " 'perindopril_dose',\n",
    " 'trandolapril_dose']\n",
    "treatment_names['arb'] = ['valsartan_dose',\n",
    " 'telmisartan_dose',\n",
    " 'irbesartan_dose',\n",
    " 'losartan_dose',\n",
    " 'candesartan_dose']\n",
    "\n",
    "#treatment_names['search'] = ['losartan']\n",
    "\n",
    "chronic_keywords = ['chronic_kidney', 'kidney_cancer', 'renal', 'esrd', 'sickle_cell']\n",
    "\n",
    "demographic_names = ['gender', 'admit_weight']\n",
    "signal_context[signal_name] = (treatment_names, chronic_keywords, demographic_names)"
   ]
  },
  {
   "cell_type": "code",
   "execution_count": null,
   "metadata": {},
   "outputs": [],
   "source": [
    "signal_name = 'creatinine'\n",
    "treatment_names, chronic_keywords, demographic_names = signal_context[signal_name]"
   ]
  },
  {
   "cell_type": "code",
   "execution_count": null,
   "metadata": {},
   "outputs": [],
   "source": [
    "# chronic_names: \n",
    "# key: keywords of the relevant chronic conditions specified in chronic_keywords\n",
    "# value: list of all the features in cdm_s that contain that keyword\n",
    "# fill in chronic name dict by finding all the relevant fields available in cdm_s for each chronic keyword\n",
    "chronic_names = {}\n",
    "all_chronic = cdm_s.loc[:, 'fid'].unique()\n",
    "for name in chronic_keywords:\n",
    "    chronic_names[name] = [s for s in all_chronic if name in s]"
   ]
  },
  {
   "cell_type": "code",
   "execution_count": null,
   "metadata": {},
   "outputs": [],
   "source": [
    "# put all the treatment names into a list to get the corresponding columns\n",
    "treatment_list = []\n",
    "for name in treatment_names.values():\n",
    "    treatment_list.append(name)\n",
    "# flatten the list\n",
    "treatment_list = [item for sublist in treatment_list for item in sublist]"
   ]
  },
  {
   "cell_type": "code",
   "execution_count": null,
   "metadata": {},
   "outputs": [],
   "source": [
    "# df_t is part of the original dataframe that has all the ids who have measurements for the signal we are interested \n",
    "# in\n",
    "signal = cdm_t.loc[cdm_t.loc[:, 'fid'] == signal_name, 'value']\n",
    "ids = np.unique(cdm_t.loc[signal.index, 'enc_id'])\n",
    "df_t = cdm_t.loc[cdm_t.loc[:, 'enc_id'].isin(ids), :]"
   ]
  },
  {
   "cell_type": "code",
   "execution_count": null,
   "metadata": {},
   "outputs": [],
   "source": [
    "# df_t is now part of the dataframe that contains only the rows with fid being either the signal or the treatments\n",
    "df_t = df_t.loc[df_t.loc[:, 'fid'].isin(treatment_list + [signal_name]), :]"
   ]
  },
  {
   "cell_type": "code",
   "execution_count": null,
   "metadata": {},
   "outputs": [],
   "source": [
    "# convert tsp field to python datetime object\n",
    "df_t.loc[:, 'tsp'] = df_t.loc[:, 'tsp'].apply(lambda x: datetime.strptime(x, '%Y-%m-%d %H:%M:%S+%f'))\n",
    "#df_t.loc[:, 'tsp'] = df_t.groupby('enc_id')['tsp'].apply(lambda x: x - x.iloc[0])"
   ]
  },
  {
   "cell_type": "code",
   "execution_count": null,
   "metadata": {},
   "outputs": [],
   "source": [
    "df_t = df_t.loc[df_t.loc[:, 'fid'].isin(['transfuse_platelets', 'platelets']), :]"
   ]
  },
  {
   "cell_type": "code",
   "execution_count": null,
   "metadata": {},
   "outputs": [],
   "source": [
    "ids = np.unique(df_t.loc[df_t['fid']=='transfuse_platelets', 'enc_id'])\n",
    "df_t = df_t.loc[df_t['enc_id'].isin(ids), :]"
   ]
  },
  {
   "cell_type": "code",
   "execution_count": null,
   "metadata": {},
   "outputs": [],
   "source": [
    "index_after_binned = np.array([ 9019, 14243, 21493, 21810, 22846, 24172, 26041, 26535, 39820,\n",
    "       39880, 40278, 41259, 41391, 41580, 45535, 46232, 47871, 48933,\n",
    "       52675, 56764, 61342, 61734, 62080, 63689, 65467, 65948, 72028,\n",
    "       72107, 73527, 75414, 75484, 77601, 79029, 80172, 88435, 88566,\n",
    "       89834, 98771])\n",
    "df_t = df_t.loc[df_t['enc_id'].isin(index_after_binned)]"
   ]
  },
  {
   "cell_type": "code",
   "execution_count": null,
   "metadata": {},
   "outputs": [],
   "source": [
    "df_t"
   ]
  },
  {
   "cell_type": "code",
   "execution_count": null,
   "metadata": {},
   "outputs": [],
   "source": [
    "def plot_group(gp):\n",
    "    print(gp['enc_id'].iloc[0])\n",
    "    obs = gp.loc[gp['fid']=='platelets', 'value']\n",
    "    obs_time = gp.loc[obs.index, 'tsp'].values\n",
    "    treat_time = gp.loc[gp['fid']=='transfuse_platelets', 'tsp'].values\n",
    "    obs = obs.apply(lambda x: float(x)).values\n",
    "    fig = plt.figure()\n",
    "    plt.plot(obs_time, obs, '.')\n",
    "    for t in treat_time:\n",
    "        plt.axvline(x=t, linestyle=':')\n",
    "    fig.set_figheight(6)\n",
    "    fig.set_figwidth(10)\n",
    "    plt.show()"
   ]
  },
  {
   "cell_type": "code",
   "execution_count": null,
   "metadata": {
    "scrolled": false
   },
   "outputs": [],
   "source": [
    "gp = df_t.groupby('enc_id').apply(lambda x: plot_group(x))"
   ]
  },
  {
   "cell_type": "code",
   "execution_count": null,
   "metadata": {},
   "outputs": [],
   "source": []
  }
 ],
 "metadata": {
  "kernelspec": {
   "display_name": "Python 3",
   "language": "python",
   "name": "python3"
  },
  "language_info": {
   "codemirror_mode": {
    "name": "ipython",
    "version": 3
   },
   "file_extension": ".py",
   "mimetype": "text/x-python",
   "name": "python",
   "nbconvert_exporter": "python",
   "pygments_lexer": "ipython3",
   "version": "3.6.5"
  }
 },
 "nbformat": 4,
 "nbformat_minor": 2
}
