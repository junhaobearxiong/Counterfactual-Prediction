{
 "cells": [
  {
   "cell_type": "code",
   "execution_count": 74,
   "metadata": {},
   "outputs": [],
   "source": [
    "import numpy as np\n",
    "import pandas as pd\n",
    "import scipy\n",
    "import scipy.stats\n",
    "import math\n",
    "import random\n",
    "import matplotlib.pyplot as plt\n",
    "import pickle"
   ]
  },
  {
   "cell_type": "markdown",
   "metadata": {},
   "source": [
    "### Data Generation"
   ]
  },
  {
   "cell_type": "code",
   "execution_count": 75,
   "metadata": {},
   "outputs": [],
   "source": [
    "class Model:\n",
    "    def __init__(self, time_length):\n",
    "        self.T = time_length\n",
    "        self.num_treatments = 1\n",
    "        self.X = np.zeros((self.T, self.num_treatments))\n",
    "        self.A = np.array([[-.5], [-.2]]) # the coefficients a_j's stored in a matrix\n",
    "        self.b = .4\n",
    "        self.c = 1\n",
    "        self.noise_0 = .01\n",
    "        self.noise_1 = .01\n",
    "        self.noise_2 = .5\n",
    "        self.init_z = 6\n",
    "        self.z = np.zeros(time_length)\n",
    "        self.y = np.zeros(time_length)\n",
    "        self.pi = np.zeros(time_length)\n",
    "        \n",
    "    def set_X(self):\n",
    "        for t in range(self.T):\n",
    "            self.X[t, :] = np.random.randint(2, size = self.num_treatments)\n",
    "    \n",
    "    def transition(self, prev):\n",
    "        z = np.random.normal(prev, model.noise_1, 1)\n",
    "        return z\n",
    "\n",
    "    def emission(self, z, t):\n",
    "        treatment_effect = 0\n",
    "        for j in range(np.shape(self.A)[0]):\n",
    "            if t-1 >= j:\n",
    "                treatment_effect += np.dot(self.A[j, :], self.X[t-1-j, :])\n",
    "        pi = treatment_effect + np.dot(self.b, self.c) # total added effect\n",
    "        mean = z + pi\n",
    "        y = np.random.normal(mean, self.noise_2, 1)\n",
    "        return y, pi\n",
    "    \n",
    "    def run_simulation(self):\n",
    "        self.set_X()\n",
    "        self.z[0] = self.init_z\n",
    "        self.y[0], self.pi[0] = self.emission(self.z[0], 0)\n",
    "        for t in range(1, self.T):\n",
    "            self.z[t] = self.transition(self.z[t-1])\n",
    "            self.y[t], self.pi[t] = self.emission(self.z[t], t)\n",
    "    \n",
    "    def plot_trajectory(self):\n",
    "        times = list(range(self.T))\n",
    "        plt.plot(times, self.y, label = 'observed')\n",
    "        plt.plot(times, self.z, label = 'counterfactual')\n",
    "        for t in np.nonzero(self.X)[0]:\n",
    "            plt.axvline(x=t, color='g', linestyle='--')\n",
    "        plt.xlabel('time (hr)')\n",
    "        plt.ylabel('INR')\n",
    "        plt.title('Simulated trajectory')\n",
    "        plt.legend()\n",
    "        plt.show()"
   ]
  },
  {
   "cell_type": "code",
   "execution_count": 76,
   "metadata": {},
   "outputs": [
    {
     "data": {
      "image/png": "[encoded data removed]",
      "text/plain": [
       "<matplotlib.figure.Figure at 0x119ca78d0>"
      ]
     },
     "metadata": {},
     "output_type": "display_data"
    }
   ],
   "source": [
    "model = Model(10)\n",
    "model.run_simulation()\n",
    "model.plot_trajectory()"
   ]
  },
  {
   "cell_type": "markdown",
   "metadata": {},
   "source": [
    "### E step"
   ]
  },
  {
   "cell_type": "code",
   "execution_count": 106,
   "metadata": {},
   "outputs": [],
   "source": [
    "class EM:\n",
    "    def __init__(self, y, X, c, N, M, K, J):\n",
    "        # Store observed sequence, treatments, chronic conditions\n",
    "        self.y = y\n",
    "        self.X = X # treatment matrix\n",
    "        self.c = c # chronic conditions\n",
    "        \n",
    "        # Fixed model parameters\n",
    "        self.T = np.shape(y)[0] # length of the observed sequence\n",
    "        self.N = N # number of treatments\n",
    "        self.M = M # number of chronic conditions\n",
    "        self.K = K # number of interaction terms modeled\n",
    "        self.J = J # number of past treatment effects to be considered\n",
    "        \n",
    "        # Model Parameters to be estimated\n",
    "        self.A = np.zeros((N, J)) # coefficients a_j's\n",
    "        self.b = np.zeros(M)\n",
    "        self.d = np.zeros(K)\n",
    "        self.sigma_1 = 0\n",
    "        self.sigma_2 = 0\n",
    "        self.sigma_0 = 0 # initial state variance\n",
    "        self.init_z = 0 # initial state mean\n",
    "        \n",
    "        # Intermediate values to stored\n",
    "        self.mu_filter = np.zeros(self.T) # mu_t|t\n",
    "        self.sigma_filter = np.zeros(self.T) # sigma^2_t|t\n",
    "        self.kgain = np.zeros(self.T) # K_t, kalman gain\n",
    "        self.jgain = np.zeros(self.T) # J_t, backward kalman gain \n",
    "        self.mu_smooth = np.zeros(self.T) # mu_t|T\n",
    "        self.sigma_smooth = np.zeros(self.T) # sigma^2_t|T\n",
    "        self.mu_square_smooth = np.zeros(self.T) # E[z_t^2|{y}]\n",
    "        self.mu_ahead_smooth = np.zeros(self.T) # E[z_t * z_{t-1}|{y}]\n",
    "        self.sigma_ahead_smooth = np.zeros(self.T)\n",
    "        self.Q_const = 0 # store computations for Q function \n",
    "    \n",
    "    def set_params(self):                \n",
    "        self.A = model.A\n",
    "        self.b = model.b\n",
    "        self.sigma_0 = model.noise_0\n",
    "        self.sigma_1 = model.noise_1\n",
    "        self.sigma_2 = model.noise_2\n",
    "        self.init_z = model.init_z\n",
    "    \n",
    "    # compute the added effect, denoted pi_t, at time t given the current parameter values \n",
    "    def added_effect(self, t):\n",
    "        treatment_effect = 0\n",
    "        for j in range(np.shape(self.A)[0]):\n",
    "            if t-1 >= j:\n",
    "                treatment_effect = treatment_effect + np.dot(self.A[j, :], self.X[t-1-j, :])\n",
    "        pi = treatment_effect + np.dot(self.b, self.c) # total added effect\n",
    "        return pi\n",
    "    \n",
    "    # reduce the terms Q_function needs to unpack by computing some terms first\n",
    "    # note that after E step, all except for the last term of Q function are constant\n",
    "    def compute_Q_const(self):\n",
    "        # compute terms involving logs\n",
    "        log_term = -self.T * np.log(2*np.pi) - np.log(self.sigma_0)/2 - (self.T-1)/2 * np.log(self.sigma_1) \\\n",
    "         - self.T * self.sigma_2 / 2\n",
    "        # compute the first term with expected value\n",
    "        first_E = -1/(2*self.sigma_0)*(self.mu_smooth[0]-2*self.init_z*self.mu_smooth[0]+self.init_z^2)\n",
    "        # compute the second term with expected value\n",
    "        sqaure_term = np.roll(self.mu_square_smooth, -1)-2*self.mu_ahead_smooth+self.mu_square_smooth\n",
    "        # delete the last value since mu_ahead_smooth has one less term\n",
    "        square_term = np.delete(square_term, np.shape(square_term)[0]-1)\n",
    "        second_E = -1/(2*self.sigma_1)*np.sum(square_term)\n",
    "        self.Q_const = log_term + first_E + second_E\n",
    "        \n",
    "    def Q_function(self):\n",
    "        \n",
    "    \n",
    "    # kalman filter update step\n",
    "    def kfilter(self, t):\n",
    "        self.kgain[t+1] = (self.sigma_0 + t * self.sigma_1) / (self.sigma_0 + t * self.sigma_1 + self.sigma_2)\n",
    "        mu_pred = self.mu_filter[t] \n",
    "        self.mu_filter[t+1] = mu_pred + self.kgain[t+1] * (self.y[t+1] - mu_pred - self.added_effect(t+1))\n",
    "        sigma_pred = self.sigma_filter[t] + self.sigma_1\n",
    "        self.sigma_filter[t+1] = (1 - self.kgain[t+1]) * sigma_pred\n",
    "    \n",
    "    # kalman filter for each time point, message passing forward\n",
    "    def forward(self):\n",
    "        self.mu_filter[0] = self.init_z\n",
    "        self.sigma_filter[0] = self.sigma_0\n",
    "        for t in range(self.T-1):\n",
    "            self.kfilter(t)\n",
    "    \n",
    "    # kalman smoother update step\n",
    "    def ksmoother(self, t):\n",
    "        sigma_pred = self.sigma_filter[t] + self.sigma_1 # sigma^2_t+1|t\n",
    "        self.jgain[t] = self.sigma_filter[t] / sigma_pred\n",
    "        self.mu_smooth[t] = self.mu_filter[t] + self.jgain[t] * (self.mu_smooth[t+1] - self.mu_filter[t])\n",
    "        self.sigma_smooth[t] = self.sigma_filter[t] + np.square(self.jgain[t]) * (self.sigma_smooth[t+1] - sigma_pred)\n",
    "        self.mu_square_smooth[t] = self.sigma_smooth[t] + np.square(self.mu_smooth[t])\n",
    "    \n",
    "    def backward(self):\n",
    "        self.mu_smooth[self.T-1] = self.mu_filter[self.T-1]\n",
    "        self.mu_square_smooth[self.T-1] = self.sigma_smooth[self.T-1] + np.square(self.mu_smooth[self.T-1])\n",
    "        for t in range(self.T-2, -1, -1):\n",
    "            self.ksmoother(t)     \n",
    "    \n",
    "    # backward recursion to compute sigma^2_{t, t-1}|T, which is necessary to compute mu_ahead_smooth\n",
    "    def backward_sigma_ahead(self, t):\n",
    "        if t == self.T-2:\n",
    "            self.sigma_ahead_smooth[t] = (1 - self.kgain[t]) * self.sigma_smooth[t]\n",
    "            return self.sigma_ahead_smooth[t]\n",
    "        else:\n",
    "            sigma_ahead = self.backward_sigma_ahead(t+1)\n",
    "            self.sigma_ahead_smooth[t] = self.sigma_smooth[t] * self.jgain[t-1] + \\\n",
    "                self.jgain[t] * (sigma_ahead - self.sigma_smooth[t]) * self.jgain[t-1]\n",
    "            return self.sigma_ahead_smooth[t]\n",
    "    \n",
    "    def calc_mu_ahead_smooth(self):\n",
    "        for t in range(self.T-1):\n",
    "            self.mu_ahead_smooth[t] = self.sigma_ahead_smooth[t] + self.mu_smooth[t] * self.mu_smooth[t+1]\n",
    "    \n",
    "    def E_step(self):\n",
    "        self.set_params()\n",
    "        self.forward()\n",
    "        self.backward()\n",
    "        self.backward_sigma_ahead(0)\n",
    "        self.calc_mu_ahead_smooth()\n",
    "        \n",
    "    def plot(self):\n",
    "        times = list(range(len(self.y)))\n",
    "        plt.plot(times, self.y, label = 'observed values')\n",
    "        plt.plot(times, model.z, label = 'true values')\n",
    "        plt.plot(times, self.mu_filter, label = 'filtered values')\n",
    "        plt.plot(times, self.mu_smooth, label = 'smoothened values')\n",
    "        plt.xlabel('time (hr)')\n",
    "        plt.ylabel('INR')\n",
    "        plt.title('Kalman Filter Results')\n",
    "        plt.legend()\n",
    "        plt.show()"
   ]
  },
  {
   "cell_type": "code",
   "execution_count": 107,
   "metadata": {},
   "outputs": [
    {
     "data": {
      "image/png": "[encoded data removed]",
      "text/plain": [
       "<matplotlib.figure.Figure at 0x119f25d68>"
      ]
     },
     "metadata": {},
     "output_type": "display_data"
    }
   ],
   "source": [
    "em = EM(model.y, model.X, model.c, 1, 1, 0, 2)\n",
    "em.E_step()\n",
    "em.plot()"
   ]
  },
  {
   "cell_type": "code",
   "execution_count": 111,
   "metadata": {},
   "outputs": [],
   "source": [
    "a = em.mu_square_smooth"
   ]
  },
  {
   "cell_type": "code",
   "execution_count": 112,
   "metadata": {},
   "outputs": [],
   "source": [
    "b = em.mu_smooth"
   ]
  },
  {
   "cell_type": "code",
   "execution_count": 113,
   "metadata": {},
   "outputs": [],
   "source": [
    "c = em.mu_ahead_smooth"
   ]
  },
  {
   "cell_type": "code",
   "execution_count": 117,
   "metadata": {},
   "outputs": [],
   "source": [
    "d = np.roll(a, -1)"
   ]
  },
  {
   "cell_type": "code",
   "execution_count": 118,
   "metadata": {},
   "outputs": [
    {
     "data": {
      "text/plain": [
       "array([36.06297406, 36.12348196, 36.22879742, 36.25863216, 36.38250654,\n",
       "       36.4609287 , 36.30975914, 36.03821873, 35.98503459, 35.76112308])"
      ]
     },
     "execution_count": 118,
     "metadata": {},
     "output_type": "execute_result"
    }
   ],
   "source": [
    "a"
   ]
  },
  {
   "cell_type": "code",
   "execution_count": 119,
   "metadata": {},
   "outputs": [
    {
     "data": {
      "text/plain": [
       "array([36.12348196, 36.22879742, 36.25863216, 36.38250654, 36.4609287 ,\n",
       "       36.30975914, 36.03821873, 35.98503459, 35.76112308, 36.06297406])"
      ]
     },
     "execution_count": 119,
     "metadata": {},
     "output_type": "execute_result"
    }
   ],
   "source": [
    "d"
   ]
  },
  {
   "cell_type": "code",
   "execution_count": 124,
   "metadata": {},
   "outputs": [],
   "source": [
    "x = a + d - 2*c"
   ]
  },
  {
   "cell_type": "code",
   "execution_count": 125,
   "metadata": {},
   "outputs": [
    {
     "data": {
      "text/plain": [
       "array([ 2.37529477e-02,  2.42294068e-02,  2.57779993e-02,  2.69217963e-02,\n",
       "        2.64226675e-02,  2.39326351e-02,  1.87723066e-02,  8.85172916e-03,\n",
       "       -5.81031715e-03,  7.18240971e+01])"
      ]
     },
     "execution_count": 125,
     "metadata": {},
     "output_type": "execute_result"
    }
   ],
   "source": [
    "x"
   ]
  },
  {
   "cell_type": "code",
   "execution_count": 123,
   "metadata": {},
   "outputs": [
    {
     "data": {
      "text/plain": [
       "array([ 0.02375295,  0.02422941,  0.025778  ,  0.0269218 ,  0.02642267,\n",
       "        0.02393264,  0.01877231,  0.00885173, -0.00581032])"
      ]
     },
     "execution_count": 123,
     "metadata": {},
     "output_type": "execute_result"
    }
   ],
   "source": [
    "np.delete(x, x.shape[0]-1)"
   ]
  },
  {
   "cell_type": "code",
   "execution_count": null,
   "metadata": {},
   "outputs": [],
   "source": []
  }
 ],
 "metadata": {
  "kernelspec": {
   "display_name": "Python 3",
   "language": "python",
   "name": "python3"
  },
  "language_info": {
   "codemirror_mode": {
    "name": "ipython",
    "version": 3
   },
   "file_extension": ".py",
   "mimetype": "text/x-python",
   "name": "python",
   "nbconvert_exporter": "python",
   "pygments_lexer": "ipython3",
   "version": "3.6.4"
  }
 },
 "nbformat": 4,
 "nbformat_minor": 2
}
