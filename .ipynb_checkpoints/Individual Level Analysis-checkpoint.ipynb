{
 "cells": [
  {
   "cell_type": "markdown",
   "metadata": {},
   "source": [
    "### Effects of Variables on INR\n",
    "* In healthy people an INR of 1.1 or below is considered normal. An INR range of 2.0 to 3.0 is generally an effective therapeutic range for people taking warfarin for disorders such as atrial fibrillation or a blood clot in the leg or lung. In certain situations, such as having a mechanical heart valve, you might need a slightly higher INR.\n",
    "* If INR is too high, the blood is clotting too slow. https://www.mayoclinic.org/tests-procedures/prothrombin-time/about/pac-20384661\n",
    "* Effects of treatments\n",
    "    * Nsaid: Increase (when administered with warfarin) https://www.ncbi.nlm.nih.gov/pmc/articles/PMC2826747/\n",
    "    * Transfusion\n",
    "        * Plasma: Unclear https://www.ncbi.nlm.nih.gov/pubmed/16934060\n",
    "        * Platelets: (Should) Decrease (since it helps form blood clots)\n",
    "    * Anticoagulant: Increase\n",
    "        * Delay effect: \"Because warfarin has a long half-life, increases in the INR may not be noted for 24 to 36 hours after administration of the first dose, and maximum anticoagulant effect may not be achieved for 72 to 96 hours.\" https://www.aafp.org/afp/1999/0201/p635.html\n",
    "    * Aspirin: Increase https://www.ncbi.nlm.nih.gov/pmc/articles/PMC1492499/ https://bpac.org.nz/BT/2010/November/inr.aspx\n",
    "* Chronics\n",
    "    * Liver disease: Unclear\n",
    "        * \"Both procoagulants and anticoagulants that occur naturally in the body are produced by the liver, affecting your INR\" http://www.ptinr.com/en/home/warfarin-you/general-information/health-conditions/liver-liver-disease-and-warfarin.html\n",
    "    * Sickle cell: Decrease\n",
    "        * \"Sickle cell disorders, such as Hb SS and Hb SC, are associated with a hypercoagulable state that may contribute to the vaso-occlusive episodes observed in the disorders.\" https://www.ncbi.nlm.nih.gov/pubmed/11835343\n",
    "* Interaction\n",
    "    * Warfarin is likely to have interaction with other types of treatments\n",
    "        * \"Dose has an inverse relation with age\"\n",
    "        * \"Drug interactions need to be considered when warfarin therapy is initiated.\" https://www.aafp.org/afp/1999/0201/p635.html\n"
   ]
  },
  {
   "cell_type": "code",
   "execution_count": 1,
   "metadata": {},
   "outputs": [],
   "source": [
    "import pickle\n",
    "import numpy as np\n",
    "import scipy.stats\n",
    "from preprocess import preprocess\n",
    "from EM import EM\n",
    "from plot import plot"
   ]
  },
  {
   "cell_type": "code",
   "execution_count": 2,
   "metadata": {},
   "outputs": [],
   "source": [
    "bin_size = 60 * 18\n",
    "cutoff = 10"
   ]
  },
  {
   "cell_type": "code",
   "execution_count": 3,
   "metadata": {},
   "outputs": [],
   "source": [
    "data = pickle.load(open('../Data/unimputed_inr_patient_data.pkl', 'rb'), encoding='latin1')"
   ]
  },
  {
   "cell_type": "code",
   "execution_count": 4,
   "metadata": {},
   "outputs": [],
   "source": [
    "y_pop, X_pop, c_pop = preprocess(data, cutoff, bin_size, missing_pct=20)"
   ]
  },
  {
   "cell_type": "code",
   "execution_count": 5,
   "metadata": {},
   "outputs": [
    {
     "data": {
      "text/plain": [
       "(107, 215)"
      ]
     },
     "execution_count": 5,
     "metadata": {},
     "output_type": "execute_result"
    }
   ],
   "source": [
    "y_pop.shape"
   ]
  },
  {
   "cell_type": "markdown",
   "metadata": {},
   "source": [
    "### Results\n",
    "\n",
    "* Cutoff 10, bin size 18, single effects(J=3), binary treatments, training_pct=.8, missing_pct=40, c=0\n",
    "    * Pop: 0.8736229994959492; ind: 1.0661727806095787\n",
    "* Cutoff 10, bin size 18, single effects(J=3), binary treatments, training_pct=.8, missing_pct=30, c=0\n",
    "    * **Ind: 0.9905086506674388**\n",
    "* Cutoff 5, bin size 18, multi effects(J=3), binary treatments, training_pct=.8, missing_pct=40\n",
    "    * c=0: **Pop: 0.6068250959347828**\n",
    "    * c!=0: Pop: 0.6673705701867897\n",
    "* The best setting but with 1 iteration of EM\n",
    "    * Ind: 0.7769050746610977"
   ]
  },
  {
   "cell_type": "markdown",
   "metadata": {},
   "source": [
    "Coefficients learned with best population level results\n",
    "* Coefficient for nsaid: [0.31291354 0.11150224 0.02927106]\n",
    "* Coefficient for transfusion_plasma: [0.21646024 0.12142273 0.07316288]\n",
    "* Coefficient for transfusion_platelet: [-0.24024057 -0.41378184 -0.28599656]\n",
    "* Coefficient for anticoagulant: [-0.04605939  0.15568198  0.06412978]\n",
    "* Coefficient for aspirin: [0.25202486 0.1102651  0.03499285]"
   ]
  },
  {
   "cell_type": "markdown",
   "metadata": {},
   "source": [
    "Coefficients (jointly) learned with best population level results\n",
    "* Coefficient for nsaid: [ 0.09144572  0.01808053 -0.00736706]\n",
    "* Coefficient for transfusion_plasma: [-0.29370552 -0.15658492 -0.12820925]\n",
    "* Coefficient for transfusion_platelet: [-0.32318352 -0.44511952 -0.43787362]\n",
    "* Coefficient for anticoagulant: [-0.46557922  0.00142221 -0.02525039]\n",
    "* Coefficient for aspirin: [-0.04017403 -0.04024049 -0.00733096]\n",
    "* Coefficient for chronic kidney failure: 0.27480724324859296\n",
    "* Coefficient for sickle cell: 0.238516267304465\n",
    "* Coefficient for age: 0.01752724784756275"
   ]
  },
  {
   "cell_type": "markdown",
   "metadata": {},
   "source": [
    "### Results Analysis\n",
    "* Single vs. multi effects\n",
    "    * When using single effect, prediction trajectory of individual level model appears flatter, perhaps contributing to a lower mse\n",
    "* In EM for individual level model, the lowest MSE appears in different iterations for different individuals, but most often it appears after the first iteration. The total MSE increases with more iterations starting from iteration 1 (?!) \n",
    "    * This also happens sometimes in the simulation when run with only one sample. The plot seems to suggest that more iterations sometimes lead to spikes in prediction that doesn't correspond to the actual trajectory (the coefficients don't match up either), thus increasing MSE\n",
    "    * This happens more drastically when we have more missingness (in the simulation)\n",
    "    * Could simply because the model is learning bad coefficients, so as iterations continues it just gets worse. since with more missingness, we have less equations in the linear system so the solution is worse (?) \n",
    "* For population level, the MSE after the first iteration is also pretty close to the best MSE. In the run that produces the result, MSE rises after iterations begin then starts decreasing pretty soon\n",
    "    * But at least in the simulation, MSE generally decreases with iterations or fluctuates around the lowest value"
   ]
  },
  {
   "cell_type": "code",
   "execution_count": 8,
   "metadata": {},
   "outputs": [],
   "source": [
    "def get_data(patient):\n",
    "    y = y_pop[patient, :].reshape(1, y_pop.shape[1])\n",
    "    X = X_pop[patient, :, :].reshape(1, X_pop.shape[1], X_pop.shape[2])\n",
    "    c = np.zeros((1, c_pop.shape[1])) #c_pop[patient, :].reshape(1, c_pop.shape[1]) \n",
    "    return (y, X, c)"
   ]
  },
  {
   "cell_type": "code",
   "execution_count": 9,
   "metadata": {},
   "outputs": [],
   "source": [
    "mse = []"
   ]
  },
  {
   "cell_type": "code",
   "execution_count": 10,
   "metadata": {},
   "outputs": [],
   "source": [
    "# patient is the patient index\n",
    "def em_individual(patient):\n",
    "    single_effect = True\n",
    "    #print('Patient {}'.format(patient))\n",
    "    y, X, c = get_data(patient)\n",
    "    em = EM(y, X, c, 3, 0, .8, single_effect=single_effect)\n",
    "    #iter_min_mse.append(em.run_EM(1000))\n",
    "    em.run_EM(500)\n",
    "    #print('Prediction MSE: {}'.format(em.get_MSE()))\n",
    "    mse.append(em.get_MSE())\n",
    "    '''\n",
    "    if single_effect:\n",
    "        print('Coefficient A: {}'.format(em.A))\n",
    "    else:\n",
    "        treatment_types = ['nsaid', 'transfusion_plasma', 'transfusion_platelet', 'anticoagulant', 'aspirin']\n",
    "        for i, treatment in enumerate(treatment_types):\n",
    "            print('Coefficient for {}: {}'.format(treatment, em.A[:, i]))\n",
    "        static_types = ['chronic kidney failure', 'sickle cell', 'age']\n",
    "        for j, static in enumerate(static_types):\n",
    "            print('Coefficient for {}: {}'.format(static, em.b[j]))\n",
    "    '''\n",
    "    #plot(em, 0, bin_size)\n",
    "    "
   ]
  },
  {
   "cell_type": "code",
   "execution_count": 11,
   "metadata": {
    "scrolled": false
   },
   "outputs": [
    {
     "name": "stdout",
     "output_type": "stream",
     "text": [
      "CPU times: user 14.3 s, sys: 15.3 ms, total: 14.3 s\n",
      "Wall time: 14.3 s\n"
     ]
    }
   ],
   "source": [
    "%%time\n",
    "%%capture\n",
    "for patient in range(y_pop.shape[0]):\n",
    "    em_individual(patient)"
   ]
  },
  {
   "cell_type": "code",
   "execution_count": 12,
   "metadata": {},
   "outputs": [
    {
     "data": {
      "text/plain": [
       "0.7708313333085737"
      ]
     },
     "execution_count": 12,
     "metadata": {},
     "output_type": "execute_result"
    }
   ],
   "source": [
    "sum(mse)/len(mse)"
   ]
  },
  {
   "cell_type": "code",
   "execution_count": null,
   "metadata": {},
   "outputs": [],
   "source": []
  }
 ],
 "metadata": {
  "kernelspec": {
   "display_name": "Python 3",
   "language": "python",
   "name": "python3"
  },
  "language_info": {
   "codemirror_mode": {
    "name": "ipython",
    "version": 3
   },
   "file_extension": ".py",
   "mimetype": "text/x-python",
   "name": "python",
   "nbconvert_exporter": "python",
   "pygments_lexer": "ipython3",
   "version": "3.6.5"
  }
 },
 "nbformat": 4,
 "nbformat_minor": 2
}
