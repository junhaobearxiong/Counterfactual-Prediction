{
 "cells": [
  {
   "cell_type": "code",
   "execution_count": 3,
   "metadata": {},
   "outputs": [],
   "source": [
    "import ipyparallel as ipp\n",
    "from ipyparallel.util import interactive"
   ]
  },
  {
   "cell_type": "code",
   "execution_count": 5,
   "metadata": {},
   "outputs": [
    {
     "name": "stdout",
     "output_type": "stream",
     "text": [
      "255\n",
      "b'ssh: connect to host brahms port 22: Connection refused\\r\\r\\n'\n",
      "<class 'pexpect.exceptions.EOF'>\n"
     ]
    },
    {
     "ename": "RuntimeError",
     "evalue": "tunnel 'ssh  -f -S none -L 127.0.0.1:58185:127.0.0.1:38229 bear@brahms sleep 10' failed to start",
     "output_type": "error",
     "traceback": [
      "\u001b[0;31m---------------------------------------------------------------------------\u001b[0m",
      "\u001b[0;31mOSError\u001b[0m                                   Traceback (most recent call last)",
      "\u001b[0;32m~/anaconda3/lib/python3.6/site-packages/pexpect/spawnbase.py\u001b[0m in \u001b[0;36mread_nonblocking\u001b[0;34m(self, size, timeout)\u001b[0m\n\u001b[1;32m    165\u001b[0m         \u001b[0;32mtry\u001b[0m\u001b[0;34m:\u001b[0m\u001b[0;34m\u001b[0m\u001b[0m\n\u001b[0;32m--> 166\u001b[0;31m             \u001b[0ms\u001b[0m \u001b[0;34m=\u001b[0m \u001b[0mos\u001b[0m\u001b[0;34m.\u001b[0m\u001b[0mread\u001b[0m\u001b[0;34m(\u001b[0m\u001b[0mself\u001b[0m\u001b[0;34m.\u001b[0m\u001b[0mchild_fd\u001b[0m\u001b[0;34m,\u001b[0m \u001b[0msize\u001b[0m\u001b[0;34m)\u001b[0m\u001b[0;34m\u001b[0m\u001b[0m\n\u001b[0m\u001b[1;32m    167\u001b[0m         \u001b[0;32mexcept\u001b[0m \u001b[0mOSError\u001b[0m \u001b[0;32mas\u001b[0m \u001b[0merr\u001b[0m\u001b[0;34m:\u001b[0m\u001b[0;34m\u001b[0m\u001b[0m\n",
      "\u001b[0;31mOSError\u001b[0m: [Errno 5] Input/output error",
      "\nDuring handling of the above exception, another exception occurred:\n",
      "\u001b[0;31mEOF\u001b[0m                                       Traceback (most recent call last)",
      "\u001b[0;32m~/anaconda3/lib/python3.6/site-packages/pexpect/expect.py\u001b[0m in \u001b[0;36mexpect_loop\u001b[0;34m(self, timeout)\u001b[0m\n\u001b[1;32m    110\u001b[0m                 \u001b[0;31m# Still have time left, so read more data\u001b[0m\u001b[0;34m\u001b[0m\u001b[0;34m\u001b[0m\u001b[0m\n\u001b[0;32m--> 111\u001b[0;31m                 \u001b[0mincoming\u001b[0m \u001b[0;34m=\u001b[0m \u001b[0mspawn\u001b[0m\u001b[0;34m.\u001b[0m\u001b[0mread_nonblocking\u001b[0m\u001b[0;34m(\u001b[0m\u001b[0mspawn\u001b[0m\u001b[0;34m.\u001b[0m\u001b[0mmaxread\u001b[0m\u001b[0;34m,\u001b[0m \u001b[0mtimeout\u001b[0m\u001b[0;34m)\u001b[0m\u001b[0;34m\u001b[0m\u001b[0m\n\u001b[0m\u001b[1;32m    112\u001b[0m                 \u001b[0;32mif\u001b[0m \u001b[0mself\u001b[0m\u001b[0;34m.\u001b[0m\u001b[0mspawn\u001b[0m\u001b[0;34m.\u001b[0m\u001b[0mdelayafterread\u001b[0m \u001b[0;32mis\u001b[0m \u001b[0;32mnot\u001b[0m \u001b[0;32mNone\u001b[0m\u001b[0;34m:\u001b[0m\u001b[0;34m\u001b[0m\u001b[0m\n",
      "\u001b[0;32m~/anaconda3/lib/python3.6/site-packages/pexpect/pty_spawn.py\u001b[0m in \u001b[0;36mread_nonblocking\u001b[0;34m(self, size, timeout)\u001b[0m\n\u001b[1;32m    484\u001b[0m         \u001b[0;32mif\u001b[0m \u001b[0mself\u001b[0m\u001b[0;34m.\u001b[0m\u001b[0mchild_fd\u001b[0m \u001b[0;32min\u001b[0m \u001b[0mr\u001b[0m\u001b[0;34m:\u001b[0m\u001b[0;34m\u001b[0m\u001b[0m\n\u001b[0;32m--> 485\u001b[0;31m             \u001b[0;32mreturn\u001b[0m \u001b[0msuper\u001b[0m\u001b[0;34m(\u001b[0m\u001b[0mspawn\u001b[0m\u001b[0;34m,\u001b[0m \u001b[0mself\u001b[0m\u001b[0;34m)\u001b[0m\u001b[0;34m.\u001b[0m\u001b[0mread_nonblocking\u001b[0m\u001b[0;34m(\u001b[0m\u001b[0msize\u001b[0m\u001b[0;34m)\u001b[0m\u001b[0;34m\u001b[0m\u001b[0m\n\u001b[0m\u001b[1;32m    486\u001b[0m \u001b[0;34m\u001b[0m\u001b[0m\n",
      "\u001b[0;32m~/anaconda3/lib/python3.6/site-packages/pexpect/spawnbase.py\u001b[0m in \u001b[0;36mread_nonblocking\u001b[0;34m(self, size, timeout)\u001b[0m\n\u001b[1;32m    170\u001b[0m                 \u001b[0mself\u001b[0m\u001b[0;34m.\u001b[0m\u001b[0mflag_eof\u001b[0m \u001b[0;34m=\u001b[0m \u001b[0;32mTrue\u001b[0m\u001b[0;34m\u001b[0m\u001b[0m\n\u001b[0;32m--> 171\u001b[0;31m                 \u001b[0;32mraise\u001b[0m \u001b[0mEOF\u001b[0m\u001b[0;34m(\u001b[0m\u001b[0;34m'End Of File (EOF). Exception style platform.'\u001b[0m\u001b[0;34m)\u001b[0m\u001b[0;34m\u001b[0m\u001b[0m\n\u001b[0m\u001b[1;32m    172\u001b[0m             \u001b[0;32mraise\u001b[0m\u001b[0;34m\u001b[0m\u001b[0m\n",
      "\u001b[0;31mEOF\u001b[0m: End Of File (EOF). Exception style platform.",
      "\nDuring handling of the above exception, another exception occurred:\n",
      "\u001b[0;31mEOF\u001b[0m                                       Traceback (most recent call last)",
      "\u001b[0;32m~/anaconda3/lib/python3.6/site-packages/zmq/ssh/tunnel.py\u001b[0m in \u001b[0;36mopenssh_tunnel\u001b[0;34m(lport, rport, server, remoteip, keyfile, password, timeout)\u001b[0m\n\u001b[1;32m    233\u001b[0m         \u001b[0;32mtry\u001b[0m\u001b[0;34m:\u001b[0m\u001b[0;34m\u001b[0m\u001b[0m\n\u001b[0;32m--> 234\u001b[0;31m             \u001b[0mi\u001b[0m \u001b[0;34m=\u001b[0m \u001b[0mtunnel\u001b[0m\u001b[0;34m.\u001b[0m\u001b[0mexpect\u001b[0m\u001b[0;34m(\u001b[0m\u001b[0;34m[\u001b[0m\u001b[0mssh_newkey\u001b[0m\u001b[0;34m,\u001b[0m \u001b[0m_password_pat\u001b[0m\u001b[0;34m]\u001b[0m\u001b[0;34m,\u001b[0m \u001b[0mtimeout\u001b[0m\u001b[0;34m=\u001b[0m\u001b[0;36m.1\u001b[0m\u001b[0;34m)\u001b[0m\u001b[0;34m\u001b[0m\u001b[0m\n\u001b[0m\u001b[1;32m    235\u001b[0m             \u001b[0;32mif\u001b[0m \u001b[0mi\u001b[0m\u001b[0;34m==\u001b[0m\u001b[0;36m0\u001b[0m\u001b[0;34m:\u001b[0m\u001b[0;34m\u001b[0m\u001b[0m\n",
      "\u001b[0;32m~/anaconda3/lib/python3.6/site-packages/pexpect/spawnbase.py\u001b[0m in \u001b[0;36mexpect\u001b[0;34m(self, pattern, timeout, searchwindowsize, async_, **kw)\u001b[0m\n\u001b[1;32m    340\u001b[0m         return self.expect_list(compiled_pattern_list,\n\u001b[0;32m--> 341\u001b[0;31m                 timeout, searchwindowsize, async_)\n\u001b[0m\u001b[1;32m    342\u001b[0m \u001b[0;34m\u001b[0m\u001b[0m\n",
      "\u001b[0;32m~/anaconda3/lib/python3.6/site-packages/pexpect/spawnbase.py\u001b[0m in \u001b[0;36mexpect_list\u001b[0;34m(self, pattern_list, timeout, searchwindowsize, async_, **kw)\u001b[0m\n\u001b[1;32m    368\u001b[0m         \u001b[0;32melse\u001b[0m\u001b[0;34m:\u001b[0m\u001b[0;34m\u001b[0m\u001b[0m\n\u001b[0;32m--> 369\u001b[0;31m             \u001b[0;32mreturn\u001b[0m \u001b[0mexp\u001b[0m\u001b[0;34m.\u001b[0m\u001b[0mexpect_loop\u001b[0m\u001b[0;34m(\u001b[0m\u001b[0mtimeout\u001b[0m\u001b[0;34m)\u001b[0m\u001b[0;34m\u001b[0m\u001b[0m\n\u001b[0m\u001b[1;32m    370\u001b[0m \u001b[0;34m\u001b[0m\u001b[0m\n",
      "\u001b[0;32m~/anaconda3/lib/python3.6/site-packages/pexpect/expect.py\u001b[0m in \u001b[0;36mexpect_loop\u001b[0;34m(self, timeout)\u001b[0m\n\u001b[1;32m    116\u001b[0m         \u001b[0;32mexcept\u001b[0m \u001b[0mEOF\u001b[0m \u001b[0;32mas\u001b[0m \u001b[0me\u001b[0m\u001b[0;34m:\u001b[0m\u001b[0;34m\u001b[0m\u001b[0m\n\u001b[0;32m--> 117\u001b[0;31m             \u001b[0;32mreturn\u001b[0m \u001b[0mself\u001b[0m\u001b[0;34m.\u001b[0m\u001b[0meof\u001b[0m\u001b[0;34m(\u001b[0m\u001b[0me\u001b[0m\u001b[0;34m)\u001b[0m\u001b[0;34m\u001b[0m\u001b[0m\n\u001b[0m\u001b[1;32m    118\u001b[0m         \u001b[0;32mexcept\u001b[0m \u001b[0mTIMEOUT\u001b[0m \u001b[0;32mas\u001b[0m \u001b[0me\u001b[0m\u001b[0;34m:\u001b[0m\u001b[0;34m\u001b[0m\u001b[0m\n",
      "\u001b[0;32m~/anaconda3/lib/python3.6/site-packages/pexpect/expect.py\u001b[0m in \u001b[0;36meof\u001b[0;34m(self, err)\u001b[0m\n\u001b[1;32m     62\u001b[0m                 \u001b[0mmsg\u001b[0m \u001b[0;34m=\u001b[0m \u001b[0mstr\u001b[0m\u001b[0;34m(\u001b[0m\u001b[0merr\u001b[0m\u001b[0;34m)\u001b[0m \u001b[0;34m+\u001b[0m \u001b[0;34m'\\n'\u001b[0m \u001b[0;34m+\u001b[0m \u001b[0mmsg\u001b[0m\u001b[0;34m\u001b[0m\u001b[0m\n\u001b[0;32m---> 63\u001b[0;31m             \u001b[0;32mraise\u001b[0m \u001b[0mEOF\u001b[0m\u001b[0;34m(\u001b[0m\u001b[0mmsg\u001b[0m\u001b[0;34m)\u001b[0m\u001b[0;34m\u001b[0m\u001b[0m\n\u001b[0m\u001b[1;32m     64\u001b[0m \u001b[0;34m\u001b[0m\u001b[0m\n",
      "\u001b[0;31mEOF\u001b[0m: End Of File (EOF). Exception style platform.\n<pexpect.pty_spawn.spawn object at 0x7f71e40d7f60>\ncommand: /usr/bin/ssh\nargs: ['/usr/bin/ssh', '-f', '-S', 'none', '-L', '127.0.0.1:58185:127.0.0.1:38229', 'bear@brahms', 'sleep', '10']\nbuffer (last 100 chars): b''\nbefore (last 100 chars): b'ssh: connect to host brahms port 22: Connection refused\\r\\r\\n'\nafter: <class 'pexpect.exceptions.EOF'>\nmatch: None\nmatch_index: None\nexitstatus: 255\nflag_eof: True\npid: 364\nchild_fd: 47\nclosed: False\ntimeout: 30\ndelimiter: <class 'pexpect.exceptions.EOF'>\nlogfile: None\nlogfile_read: None\nlogfile_send: None\nmaxread: 2000\nignorecase: False\nsearchwindowsize: None\ndelaybeforesend: 0.05\ndelayafterclose: 0.1\ndelayafterterminate: 0.1\nsearcher: searcher_re:\n    0: re.compile(b'Are you sure you want to continue connecting')\n    1: re.compile(b'pass(word|phrase):')",
      "\nDuring handling of the above exception, another exception occurred:\n",
      "\u001b[0;31mRuntimeError\u001b[0m                              Traceback (most recent call last)",
      "\u001b[0;32m<ipython-input-5-8722049bdefc>\u001b[0m in \u001b[0;36m<module>\u001b[0;34m()\u001b[0m\n\u001b[0;32m----> 1\u001b[0;31m \u001b[0mrc\u001b[0m \u001b[0;34m=\u001b[0m \u001b[0mipp\u001b[0m\u001b[0;34m.\u001b[0m\u001b[0mClient\u001b[0m\u001b[0;34m(\u001b[0m\u001b[0mprofile\u001b[0m\u001b[0;34m=\u001b[0m\u001b[0;34m'myprofile'\u001b[0m\u001b[0;34m,\u001b[0m \u001b[0msshserver\u001b[0m\u001b[0;34m=\u001b[0m\u001b[0;34m'bear@brahms'\u001b[0m\u001b[0;34m)\u001b[0m\u001b[0;34m\u001b[0m\u001b[0m\n\u001b[0m",
      "\u001b[0;32m~/anaconda3/lib/python3.6/site-packages/ipyparallel/client/client.py\u001b[0m in \u001b[0;36m__init__\u001b[0;34m(self, url_file, profile, profile_dir, ipython_dir, context, debug, sshserver, sshkey, password, paramiko, timeout, cluster_id, **extra_args)\u001b[0m\n\u001b[1;32m    496\u001b[0m             \u001b[0;32mfrom\u001b[0m \u001b[0mzmq\u001b[0m\u001b[0;34m.\u001b[0m\u001b[0mssh\u001b[0m \u001b[0;32mimport\u001b[0m \u001b[0mtunnel\u001b[0m\u001b[0;34m\u001b[0m\u001b[0m\n\u001b[1;32m    497\u001b[0m             tunnel.tunnel_connection(self._query_socket, cfg['registration'], sshserver,\n\u001b[0;32m--> 498\u001b[0;31m                                      timeout=timeout, **ssh_kwargs)\n\u001b[0m\u001b[1;32m    499\u001b[0m         \u001b[0;32melse\u001b[0m\u001b[0;34m:\u001b[0m\u001b[0;34m\u001b[0m\u001b[0m\n\u001b[1;32m    500\u001b[0m             \u001b[0mself\u001b[0m\u001b[0;34m.\u001b[0m\u001b[0m_query_socket\u001b[0m\u001b[0;34m.\u001b[0m\u001b[0mconnect\u001b[0m\u001b[0;34m(\u001b[0m\u001b[0mcfg\u001b[0m\u001b[0;34m[\u001b[0m\u001b[0;34m'registration'\u001b[0m\u001b[0;34m]\u001b[0m\u001b[0;34m)\u001b[0m\u001b[0;34m\u001b[0m\u001b[0m\n",
      "\u001b[0;32m~/anaconda3/lib/python3.6/site-packages/zmq/ssh/tunnel.py\u001b[0m in \u001b[0;36mtunnel_connection\u001b[0;34m(socket, addr, server, keyfile, password, paramiko, timeout)\u001b[0m\n\u001b[1;32m    133\u001b[0m \u001b[0;34m\u001b[0m\u001b[0m\n\u001b[1;32m    134\u001b[0m     \"\"\"\n\u001b[0;32m--> 135\u001b[0;31m     \u001b[0mnew_url\u001b[0m\u001b[0;34m,\u001b[0m \u001b[0mtunnel\u001b[0m \u001b[0;34m=\u001b[0m \u001b[0mopen_tunnel\u001b[0m\u001b[0;34m(\u001b[0m\u001b[0maddr\u001b[0m\u001b[0;34m,\u001b[0m \u001b[0mserver\u001b[0m\u001b[0;34m,\u001b[0m \u001b[0mkeyfile\u001b[0m\u001b[0;34m=\u001b[0m\u001b[0mkeyfile\u001b[0m\u001b[0;34m,\u001b[0m \u001b[0mpassword\u001b[0m\u001b[0;34m=\u001b[0m\u001b[0mpassword\u001b[0m\u001b[0;34m,\u001b[0m \u001b[0mparamiko\u001b[0m\u001b[0;34m=\u001b[0m\u001b[0mparamiko\u001b[0m\u001b[0;34m,\u001b[0m \u001b[0mtimeout\u001b[0m\u001b[0;34m=\u001b[0m\u001b[0mtimeout\u001b[0m\u001b[0;34m)\u001b[0m\u001b[0;34m\u001b[0m\u001b[0m\n\u001b[0m\u001b[1;32m    136\u001b[0m     \u001b[0msocket\u001b[0m\u001b[0;34m.\u001b[0m\u001b[0mconnect\u001b[0m\u001b[0;34m(\u001b[0m\u001b[0mnew_url\u001b[0m\u001b[0;34m)\u001b[0m\u001b[0;34m\u001b[0m\u001b[0m\n\u001b[1;32m    137\u001b[0m     \u001b[0;32mreturn\u001b[0m \u001b[0mtunnel\u001b[0m\u001b[0;34m\u001b[0m\u001b[0m\n",
      "\u001b[0;32m~/anaconda3/lib/python3.6/site-packages/zmq/ssh/tunnel.py\u001b[0m in \u001b[0;36mopen_tunnel\u001b[0;34m(addr, server, keyfile, password, paramiko, timeout)\u001b[0m\n\u001b[1;32m    161\u001b[0m         \u001b[0mtunnelf\u001b[0m \u001b[0;34m=\u001b[0m \u001b[0mopenssh_tunnel\u001b[0m\u001b[0;34m\u001b[0m\u001b[0m\n\u001b[1;32m    162\u001b[0m \u001b[0;34m\u001b[0m\u001b[0m\n\u001b[0;32m--> 163\u001b[0;31m     \u001b[0mtunnel\u001b[0m \u001b[0;34m=\u001b[0m \u001b[0mtunnelf\u001b[0m\u001b[0;34m(\u001b[0m\u001b[0mlport\u001b[0m\u001b[0;34m,\u001b[0m \u001b[0mrport\u001b[0m\u001b[0;34m,\u001b[0m \u001b[0mserver\u001b[0m\u001b[0;34m,\u001b[0m \u001b[0mremoteip\u001b[0m\u001b[0;34m=\u001b[0m\u001b[0mip\u001b[0m\u001b[0;34m,\u001b[0m \u001b[0mkeyfile\u001b[0m\u001b[0;34m=\u001b[0m\u001b[0mkeyfile\u001b[0m\u001b[0;34m,\u001b[0m \u001b[0mpassword\u001b[0m\u001b[0;34m=\u001b[0m\u001b[0mpassword\u001b[0m\u001b[0;34m,\u001b[0m \u001b[0mtimeout\u001b[0m\u001b[0;34m=\u001b[0m\u001b[0mtimeout\u001b[0m\u001b[0;34m)\u001b[0m\u001b[0;34m\u001b[0m\u001b[0m\n\u001b[0m\u001b[1;32m    164\u001b[0m     \u001b[0;32mreturn\u001b[0m \u001b[0;34m'tcp://127.0.0.1:%i'\u001b[0m\u001b[0;34m%\u001b[0m\u001b[0mlport\u001b[0m\u001b[0;34m,\u001b[0m \u001b[0mtunnel\u001b[0m\u001b[0;34m\u001b[0m\u001b[0m\n\u001b[1;32m    165\u001b[0m \u001b[0;34m\u001b[0m\u001b[0m\n",
      "\u001b[0;32m~/anaconda3/lib/python3.6/site-packages/zmq/ssh/tunnel.py\u001b[0m in \u001b[0;36mopenssh_tunnel\u001b[0;34m(lport, rport, server, remoteip, keyfile, password, timeout)\u001b[0m\n\u001b[1;32m    242\u001b[0m                 \u001b[0mprint\u001b[0m\u001b[0;34m(\u001b[0m\u001b[0mtunnel\u001b[0m\u001b[0;34m.\u001b[0m\u001b[0mbefore\u001b[0m\u001b[0;34m)\u001b[0m\u001b[0;34m\u001b[0m\u001b[0m\n\u001b[1;32m    243\u001b[0m                 \u001b[0mprint\u001b[0m\u001b[0;34m(\u001b[0m\u001b[0mtunnel\u001b[0m\u001b[0;34m.\u001b[0m\u001b[0mafter\u001b[0m\u001b[0;34m)\u001b[0m\u001b[0;34m\u001b[0m\u001b[0m\n\u001b[0;32m--> 244\u001b[0;31m                 \u001b[0;32mraise\u001b[0m \u001b[0mRuntimeError\u001b[0m\u001b[0;34m(\u001b[0m\u001b[0;34m\"tunnel '%s' failed to start\"\u001b[0m\u001b[0;34m%\u001b[0m\u001b[0;34m(\u001b[0m\u001b[0mcmd\u001b[0m\u001b[0;34m)\u001b[0m\u001b[0;34m)\u001b[0m\u001b[0;34m\u001b[0m\u001b[0m\n\u001b[0m\u001b[1;32m    245\u001b[0m             \u001b[0;32melse\u001b[0m\u001b[0;34m:\u001b[0m\u001b[0;34m\u001b[0m\u001b[0m\n\u001b[1;32m    246\u001b[0m                 \u001b[0;32mreturn\u001b[0m \u001b[0mtunnel\u001b[0m\u001b[0;34m.\u001b[0m\u001b[0mpid\u001b[0m\u001b[0;34m\u001b[0m\u001b[0m\n",
      "\u001b[0;31mRuntimeError\u001b[0m: tunnel 'ssh  -f -S none -L 127.0.0.1:58185:127.0.0.1:38229 bear@brahms sleep 10' failed to start"
     ]
    }
   ],
   "source": [
    "rc = ipp.Client(profile='myprofile', sshserver='bear@brahms')"
   ]
  },
  {
   "cell_type": "code",
   "execution_count": null,
   "metadata": {},
   "outputs": [],
   "source": [
    "rc.ids"
   ]
  },
  {
   "cell_type": "code",
   "execution_count": null,
   "metadata": {},
   "outputs": [],
   "source": [
    "dview = rc[:]"
   ]
  },
  {
   "cell_type": "code",
   "execution_count": null,
   "metadata": {},
   "outputs": [],
   "source": [
    "with dview.sync_imports():\n",
    "    import numpy as np\n",
    "    import matplotlib.pyplot as plt\n",
    "    import pickle"
   ]
  },
  {
   "cell_type": "code",
   "execution_count": null,
   "metadata": {},
   "outputs": [],
   "source": [
    "from EM import EM\n",
    "from plot import plot"
   ]
  },
  {
   "cell_type": "code",
   "execution_count": null,
   "metadata": {},
   "outputs": [],
   "source": [
    "signal_context = pickle.load(open('../Data/signal_context.pkl', 'rb'))"
   ]
  },
  {
   "cell_type": "code",
   "execution_count": null,
   "metadata": {},
   "outputs": [],
   "source": [
    "# EM Setting\n",
    "training_pct = .8\n",
    "single_effect = False"
   ]
  },
  {
   "cell_type": "code",
   "execution_count": null,
   "metadata": {},
   "outputs": [],
   "source": [
    "all_signals = list(signal_context.keys())"
   ]
  },
  {
   "cell_type": "code",
   "execution_count": null,
   "metadata": {},
   "outputs": [],
   "source": [
    "# run em on a given signal\n",
    "# return em object after convergence\n",
    "def run_em_on_signal(signal_name):\n",
    "    import sys\n",
    "    sys.path.insert(0, '/home/bear/Documents/Counterfactual-Prediction/EM.py')\n",
    "    from EM import EM\n",
    "    if signal_name == 'inr':\n",
    "        num_past_effects = 3\n",
    "    else:\n",
    "        num_past_effects = 2\n",
    "    #treatment_names, chronic_keywords, demographic_names = signal_context[signal_name]\n",
    "    data = np.load('~/Document/Data/'+signal_name+'_preprocessed_data.npz')\n",
    "    em = EM(data['y_mtx'], data['X_mtx'], data['c_mtx'], num_past_effects, K=0, train_pct=training_pct, X_prev_given=True,\n",
    "        X_prev = data['X_prev_mtx'], single_effect=single_effect)\n",
    "    em.run_EM(1)\n",
    "    return em"
   ]
  },
  {
   "cell_type": "code",
   "execution_count": null,
   "metadata": {},
   "outputs": [],
   "source": [
    "result = v.map_sync(run_em_on_signal, all_signals)"
   ]
  },
  {
   "cell_type": "code",
   "execution_count": null,
   "metadata": {},
   "outputs": [],
   "source": [
    "result.get()"
   ]
  },
  {
   "cell_type": "code",
   "execution_count": null,
   "metadata": {},
   "outputs": [],
   "source": [
    "%%time\n",
    "past_effects = [2]\n",
    "all_params = {}\n",
    "\n",
    "for s, signal_name in enumerate(all_signals):\n",
    "    num_past_effects = past_effects[s]\n",
    "    treatment_names, chronic_keywords, demographic_names = signal_context[signal_name]\n",
    "    data = np.load('../Data/'+signal_name+'_preprocessed_data.npz')\n",
    "    \n",
    "    num_iter = 1 # number of iterations to average over coefficients\n",
    "    # store coefficients averaged over multiple runs of EM\n",
    "    A = np.zeros((num_iter, num_past_effects, len(treatment_names.keys())))\n",
    "    b = np.zeros((num_iter, len(chronic_keywords) + len(demographic_names)))\n",
    "    transition_std = np.zeros(num_iter)\n",
    "    observation_std = np.zeros(num_iter)\n",
    "    initial_state_std = np.zeros(num_iter)\n",
    "    initial_state_mean = np.zeros(num_iter)\n",
    "    mse = []\n",
    "    loglik = []\n",
    "    intercept = []\n",
    "\n",
    "    for i in range(num_iter):\n",
    "        em = EM(data['y_mtx'], data['X_mtx'], data['c_mtx'], num_past_effects, K=0, train_pct=training_pct, X_prev_given=True,\n",
    "            X_prev = data['X_prev_mtx'], single_effect=single_effect)\n",
    "        em.run_EM(2000)\n",
    "        A[i, :, :] = em.A\n",
    "        b[i, :] = em.b\n",
    "        initial_state_mean[i] =  em.init_z\n",
    "        initial_state_std[i] = np.sqrt(em.sigma_0)\n",
    "        transition_std[i] = np.sqrt(em.sigma_1)\n",
    "        observation_std[i] = np.sqrt(em.sigma_2)\n",
    "        mse.append(em.mse)\n",
    "        loglik.append(em.obs_log_lik)\n",
    "        intercept.append(em.intercept)\n",
    "        print('Finish run {} for {}'.format(i+1, signal_name))\n",
    "        \n",
    "    all_params[signal_name] = [A, b, initial_state_mean, initial_state_std, transition_std, observation_std, mse, loglik, intercept]\n",
    "\n",
    "#pickle.dump(all_params, open('../Data/est_params.pkl', 'wb'))"
   ]
  },
  {
   "cell_type": "code",
   "execution_count": null,
   "metadata": {
    "scrolled": false
   },
   "outputs": [],
   "source": [
    "#all_params = pickle.load(open('../Data/est_params.pkl', 'rb'))\n",
    "for signal_name in all_signals:\n",
    "    learned_params = all_params[signal_name]\n",
    "    A = learned_params[0]\n",
    "    b = learned_params[1]\n",
    "    initial_state_mean = learned_params[2]\n",
    "    initial_state_std = learned_params[3]\n",
    "    transition_std = learned_params[4]\n",
    "    observation_std = learned_params[5]\n",
    "    #intercept = learned_params[8]\n",
    "    treatment_names, chronic_keywords, demographic_names = signal_context[signal_name]\n",
    "    print('{} coefficients averaged over {} runs'.format(signal_name, num_iter))\n",
    "    for i, treatment in enumerate(treatment_names.keys()):\n",
    "        print('Coefficient for {}: {}'.format(treatment, np.round(np.average(A, axis=0)[:, i], 4)))\n",
    "    static_types = chronic_keywords + demographic_names\n",
    "    for j, static in enumerate(static_types):\n",
    "        print('Coefficient for {}: {}'.format(static, np.round(np.average(b, axis=0)[j], 4)))\n",
    "    print('initial state mean: {}'.format(np.round(np.average(initial_state_mean), 4)))\n",
    "    print('initial state std: {}'.format(np.round(np.average(initial_state_std), 4)))\n",
    "    print('transition noise (std): {}'.format(np.round(np.average(transition_std), 4)))\n",
    "    print('observation noise (std): {}'.format(np.round(np.average(observation_std), 4)))\n",
    "    #print('intercept: {}'.format(np.round(np.average(intercept), 8)))\n",
    "    print('')"
   ]
  },
  {
   "cell_type": "code",
   "execution_count": null,
   "metadata": {},
   "outputs": [],
   "source": [
    "for signal_name in all_signals:\n",
    "    loglik = all_params[signal_name][7][0]\n",
    "    plt.plot([i for i in range(len(loglik))], loglik)\n",
    "    plt.xlabel('Iterations')\n",
    "    plt.ylabel('Observed data log likelihood')\n",
    "    plt.title('EM log likelihood of {}'.format(signal_name))\n",
    "    plt.show()"
   ]
  },
  {
   "cell_type": "code",
   "execution_count": null,
   "metadata": {},
   "outputs": [],
   "source": [
    "for signal_name in all_signals:\n",
    "    mse = all_params[signal_name][6][0]\n",
    "    plt.plot([i for i in range(len(mse))], mse)\n",
    "    plt.xlabel('Iterations')\n",
    "    plt.ylabel('MSE')\n",
    "    plt.title('Prediction MSE of {}'.format(signal_name))\n",
    "    plt.show()"
   ]
  },
  {
   "cell_type": "code",
   "execution_count": null,
   "metadata": {},
   "outputs": [],
   "source": [
    "for signal_name in all_signals:\n",
    "    learned_params = all_params[signal_name]\n",
    "    A = learned_params[0]\n",
    "    b = learned_params[1]\n",
    "    initial_state_mean = learned_params[2]\n",
    "    initial_state_std = learned_params[3]\n",
    "    transition_std = learned_params[4]\n",
    "    observation_std = learned_params[5]\n",
    "    treatment_names, chronic_keywords, demographic_names = signal_context[signal_name]\n",
    "    print('{} coeffients std'.format(signal_name))\n",
    "    for i, treatment in enumerate(treatment_names.keys()):\n",
    "        print('Coefficient for {}: {}'.format(treatment, np.round(np.std(A, axis=0)[:, i], 4)))\n",
    "    static_types = chronic_keywords + demographic_names\n",
    "    for j, static in enumerate(static_types):\n",
    "        print('Coefficient for {}: {}'.format(static, np.round(np.std(b, axis=0)[j], 4)))\n",
    "    print('initial state mean: {}'.format(np.round(np.std(initial_state_mean), 4)))\n",
    "    print('initial state std: {}'.format(np.round(np.std(initial_state_std), 4)))\n",
    "    print('transition noise (std): {}'.format(np.round(np.std(transition_std), 4)))\n",
    "    print('observation noise (std): {}'.format(np.round(np.std(observation_std), 4)))\n",
    "    print('')"
   ]
  },
  {
   "cell_type": "code",
   "execution_count": null,
   "metadata": {},
   "outputs": [],
   "source": [
    "plt.plot([i for i in range(len(em.obs_log_lik))], em.obs_log_lik)\n",
    "plt.xlabel('Iterations')\n",
    "plt.ylabel('MSE')\n",
    "plt.title('Prediction MSE of {}'.format(signal_name))\n",
    "plt.show()"
   ]
  },
  {
   "cell_type": "code",
   "execution_count": null,
   "metadata": {},
   "outputs": [],
   "source": [
    "for i, treatment in enumerate(treatment_names.keys()):\n",
    "    print('Coefficient for {}: {}'.format(treatment, np.round(em.A[:, i], 4)))\n",
    "static_types = chronic_keywords + demographic_names\n",
    "for j, static in enumerate(static_types):\n",
    "    print('Coefficient for {}: {}'.format(static, np.round(em.b[j], 4)))\n",
    "print('initial state mean: {}'.format(round(em.init_z, 4)))\n",
    "print('initial state std: {}'.format(round(np.sqrt(em.sigma_0), 4)))\n",
    "print('transition noise (std): {}'.format(round(np.sqrt(em.sigma_1), 4)))\n",
    "print('observation noise (std): {}'.format(round(np.sqrt(em.sigma_2), 4)))\n",
    "print('intercept: {}'.format(em.intercept))"
   ]
  },
  {
   "cell_type": "code",
   "execution_count": null,
   "metadata": {},
   "outputs": [],
   "source": [
    "patient_index = 0\n",
    "y_mtx = data['y_mtx'][patient_index, :]\n",
    "X_mtx = data['X_mtx'][patient_index, :, :]\n",
    "c_mtx = data['c_mtx'][patient_index, :]\n",
    "X_prev_mtx = data['X_prev_mtx'][patient_index, :, :]\n",
    "y_mtx = y_mtx[np.newaxis, :]\n",
    "X_mtx = X_mtx[np.newaxis, :, :]\n",
    "c_mtx = c_mtx[np.newaxis, :]\n",
    "X_prev_mtx = X_prev_mtx[np.newaxis, :, :]"
   ]
  },
  {
   "cell_type": "code",
   "execution_count": null,
   "metadata": {},
   "outputs": [],
   "source": [
    "converge = np.array(em.sos)\n",
    "initial = np.array(a)"
   ]
  },
  {
   "cell_type": "code",
   "execution_count": null,
   "metadata": {},
   "outputs": [],
   "source": [
    "diff = converge - initial"
   ]
  },
  {
   "cell_type": "code",
   "execution_count": null,
   "metadata": {},
   "outputs": [],
   "source": [
    "np.argsort(diff)[-30:]"
   ]
  },
  {
   "cell_type": "code",
   "execution_count": null,
   "metadata": {
    "scrolled": false
   },
   "outputs": [],
   "source": [
    "random_patients = np.random.randint(0, em.y.shape[0], 20)\n",
    "for i in random_patients:\n",
    "    plot(em, i, 12, signal_name, treatment_types=list(treatment_names.keys()))"
   ]
  },
  {
   "cell_type": "markdown",
   "metadata": {},
   "source": [
    "### Analysis\n",
    "Changes\n",
    "* Only select patients with at least 4 training observations (total of 1821)\n",
    "\n",
    "On real data\n",
    "* Issues:\n",
    "    * treatments coefficients are negative while they should be positive\n",
    "        * changing initialization doesn't seem to help as model converges in bad local min, and most directions still don't change\n",
    "    * observation noise is bigger than transition noise\n",
    "    * run time is long, each iteration takes 4s, M step takes 2.5s, loglik takes 1s\n",
    "* Reasons:\n",
    "    * The increasing effects of treatments are not pronouced in the data (see Source Data Analysis)\n",
    "        * it makes sense that nsaid and aspirin shows small number close to zero since their effects are 50-50.\n",
    "        * transfusion platelet should be more negative than others, also makes sense.\n",
    "        * the first number for plasma is a very negative number, but should be close to zero\n",
    "        * anticoagulant are more negative than platelet, but should be more similar\n",
    "    * bad noise estimation is expected, specifically underestimated initial state variance and overestimated observational noise \n",
    "    \n",
    "On simulation\n",
    "* Issues\n",
    "    * b seems to be harder to identify correctly compared to A (sensitive to initialization)\n",
    "    * estimated sigma 0 and sigma 2 are very different from the true value (not sensitive to initialization)\n",
    "        * underestimate sigma 0, overestimate sigma 2\n",
    "* Reasons\n",
    "   "
   ]
  },
  {
   "cell_type": "code",
   "execution_count": null,
   "metadata": {},
   "outputs": [],
   "source": []
  }
 ],
 "metadata": {
  "kernelspec": {
   "display_name": "Python 3",
   "language": "python",
   "name": "python3"
  },
  "language_info": {
   "codemirror_mode": {
    "name": "ipython",
    "version": 3
   },
   "file_extension": ".py",
   "mimetype": "text/x-python",
   "name": "python",
   "nbconvert_exporter": "python",
   "pygments_lexer": "ipython3",
   "version": "3.6.5"
  }
 },
 "nbformat": 4,
 "nbformat_minor": 2
}
