{
 "cells": [
  {
   "cell_type": "code",
   "execution_count": 1,
   "metadata": {},
   "outputs": [],
   "source": [
    "import pandas as pd\n",
    "import pickle\n",
    "import numpy as np\n",
    "from datetime import datetime, timedelta\n",
    "from EM import EM\n",
    "import matplotlib.pyplot as plt\n",
    "from plot import plot"
   ]
  },
  {
   "cell_type": "code",
   "execution_count": 2,
   "metadata": {},
   "outputs": [],
   "source": [
    "cdm_t = pd.read_pickle('../Data/cdm_t.pkl')\n",
    "cdm_s = pd.read_pickle('../Data/cdm_s.pkl')"
   ]
  },
  {
   "cell_type": "markdown",
   "metadata": {},
   "source": [
    "### Extract relevant contexts from google sheet"
   ]
  },
  {
   "cell_type": "code",
   "execution_count": 3,
   "metadata": {},
   "outputs": [],
   "source": [
    "sheet = pd.read_csv('../../Downloads/Key Signals and Effectors - Sheet1.csv')"
   ]
  },
  {
   "cell_type": "code",
   "execution_count": 4,
   "metadata": {},
   "outputs": [],
   "source": [
    "# specify signal name here\n",
    "signal_name = 'bun'\n",
    "subsheet = sheet.loc[sheet['Signal']==signal_name]"
   ]
  },
  {
   "cell_type": "code",
   "execution_count": 5,
   "metadata": {},
   "outputs": [],
   "source": [
    "# treatment_names: dict\n",
    "# key: treatment category e.g. anticoagulant\n",
    "# value: list of relevant fields in the database, # e.g. warfarin_dose\n",
    "treatment_names = {}\n",
    "treatment_sheet = subsheet.loc[np.any(np.stack([subsheet['Affecting signal type']=='medication', subsheet['Affecting signal type']=='treatment'], axis=1), axis=1)]\n",
    "for treatment in treatment_sheet['Affecting signal'].unique():\n",
    "    names = treatment_sheet.loc[treatment_sheet['Affecting signal']==treatment, 'Relevant field in the database'].values\n",
    "    if not pd.isnull(names[0]):\n",
    "        treatment_names[treatment] = names"
   ]
  },
  {
   "cell_type": "code",
   "execution_count": 6,
   "metadata": {},
   "outputs": [
    {
     "data": {
      "text/plain": [
       "{'dialysis': array(['dialysis'], dtype=object),\n",
       " 'diuretics': array(['eplerenone_dose', 'amiloride_dose', 'hydrochlorothiazide_dose',\n",
       "        'spironolactone_dose', 'triamterene_dose', 'chlorothiazide_dose',\n",
       "        'indapamide_dose', 'torsemide_dose', 'acetazolamide_dose',\n",
       "        'mannitol_dose'], dtype=object),\n",
       " 'certain antibiotics': array(['vancomycin_dose', 'furosemide_dose', 'carbamazepine_dose',\n",
       "        'rifampin_dose', 'hydrochlorothiazide_dose', 'spironolactone_dose',\n",
       "        'methotrexate_dose', 'chlorothiazide_dose',\n",
       "        'methyclothiazide_dose', 'amphotericin_b_ambisome_dose',\n",
       "        'amphotericin_b_fungizone_dose', 'cefazolin_dose',\n",
       "        'ceftriaxone_dose', 'ceftazidime_dose', 'cefuroxime_dose',\n",
       "        'cefotaxime_dose'], dtype=object)}"
      ]
     },
     "execution_count": 6,
     "metadata": {},
     "output_type": "execute_result"
    }
   ],
   "source": [
    "# the filled in treatment names dict\n",
    "treatment_names"
   ]
  },
  {
   "cell_type": "code",
   "execution_count": 7,
   "metadata": {},
   "outputs": [],
   "source": [
    "# helper to find the fields available in cdm_t corresponding to a list of potentially relevant fields\n",
    "# specified in names\n",
    "all_features = cdm_t['fid'].unique()\n",
    "def find_avai_feats(names):\n",
    "    feat_list = []\n",
    "    for feat in all_features:\n",
    "        for name in names:\n",
    "            if name in feat:\n",
    "                feat_list.append(feat)\n",
    "    return feat_list"
   ]
  },
  {
   "cell_type": "code",
   "execution_count": 8,
   "metadata": {},
   "outputs": [],
   "source": [
    "# chronic keywords: ndarray, keywords of relevant chronic conditions, e.g. liver_disease\n",
    "# each signal and its relevant context are specified as one entry in signal_context dict\n",
    "chronic_sheet = subsheet.loc[subsheet['Affecting signal type']=='comorbidity']\n",
    "chronic_keywords = []\n",
    "for keyword in chronic_sheet['Relevant field in the database'].unique():\n",
    "    chronic_keywords.append(keyword)\n",
    "chronic_keywords = pd.Series(chronic_keywords).dropna().values"
   ]
  },
  {
   "cell_type": "code",
   "execution_count": 9,
   "metadata": {},
   "outputs": [],
   "source": [
    "# demographic_names: ndarray, relevant demographic for the given signal name\n",
    "demographic_names = subsheet.loc[subsheet['Affecting signal type']=='demographics', 'Relevant field in the database'].values"
   ]
  },
  {
   "cell_type": "code",
   "execution_count": 10,
   "metadata": {},
   "outputs": [],
   "source": [
    "# chronic_names: \n",
    "# key: keywords of the relevant chronic conditions specified in chronic_keywords\n",
    "# value: list of all the features in cdm_s that contain that keyword\n",
    "# fill in chronic name dict by finding all the relevant fields available in cdm_s for each chronic keyword\n",
    "chronic_names = {}\n",
    "all_chronic = cdm_s.loc[:, 'fid'].unique()\n",
    "for name in chronic_keywords:\n",
    "    chronic_names[name] = [s for s in all_chronic if name in s]"
   ]
  },
  {
   "cell_type": "code",
   "execution_count": 11,
   "metadata": {},
   "outputs": [
    {
     "data": {
      "text/plain": [
       "{'liver': ['liver_disease_hist',\n",
       "  'acute_liver_disease_hist',\n",
       "  'acute_liver_disease_final_diag',\n",
       "  'liver_disease_final_diag',\n",
       "  'liver_disease_diag',\n",
       "  'acute_liver_disease_diag',\n",
       "  'acute_liver_disease_prob'],\n",
       " 'chronic_kidney': ['chronic_kidney_final_diag',\n",
       "  'chronic_kidney_hist',\n",
       "  'chronic_kidney_diag',\n",
       "  'chronic_kidney_prob'],\n",
       " 'esrd': ['esrd_final_diag', 'esrd_hist', 'esrd_prob', 'esrd_diag'],\n",
       " 'renal': ['renal_insufficiency_hist', 'renal_insufficiency_diag'],\n",
       " 'heart_failure': ['heart_failure_hist', 'heart_failure_diag'],\n",
       " 'kidney_cancer': ['kidney_cancer_icd9_prob',\n",
       "  'kidney_cancer_icd9_hist',\n",
       "  'kidney_cancer_icd9_diag']}"
      ]
     },
     "execution_count": 11,
     "metadata": {},
     "output_type": "execute_result"
    }
   ],
   "source": [
    "# the filled in chronic names dict\n",
    "chronic_names"
   ]
  },
  {
   "cell_type": "markdown",
   "metadata": {},
   "source": [
    "### Preprocessing Parameters"
   ]
  },
  {
   "cell_type": "markdown",
   "metadata": {},
   "source": [
    "### Notes on parameter choices\n",
    "* cutoff = 5, to ensure most examples have more than one observation after binning, don't change\n",
    "* max_missing_pct = .4, to ensure model performance, don't change\n",
    "* bin_size = 12, lower has more granularity, but also more missingness (less available examples given the same max_missing_pct), set to 18 if 12 has too much missingness\n",
    "* num_past_effect = 2: up to change (prior knowledge on how quickly effects manifest)\n",
    "* num_training_obs = 4: if too little examples, can turn this down to 2 or 3"
   ]
  },
  {
   "cell_type": "code",
   "execution_count": 12,
   "metadata": {},
   "outputs": [],
   "source": [
    "# the least number of signal observation a patient needs to have to be included\n",
    "cutoff = 5\n",
    "\n",
    "# bin_size is a offset alias used by the resample method\n",
    "bin_size = '12H'\n",
    "bin_size_num = 12\n",
    "\n",
    "# the maximum percent of missingness allowed in observations for each individual\n",
    "max_missing_pct = .4\n",
    "\n",
    "# least number of training observations allowed for each individual\n",
    "# (number of training observation is calculated based on the training pct specified in EM setting)\n",
    "num_training_obs = 4\n",
    "\n",
    "# number of past time points where treatment effects are considered\n",
    "num_past_effects = 2"
   ]
  },
  {
   "cell_type": "markdown",
   "metadata": {},
   "source": [
    "### Model Training Parameters"
   ]
  },
  {
   "cell_type": "code",
   "execution_count": 13,
   "metadata": {},
   "outputs": [],
   "source": [
    "# EM Setting\n",
    "\n",
    "# percentage of each time series used for training \n",
    "training_pct = .8\n",
    "\n",
    "# whether to consider only one treatment effect in a particular past time point\n",
    "single_effect = False"
   ]
  },
  {
   "cell_type": "code",
   "execution_count": 14,
   "metadata": {},
   "outputs": [],
   "source": [
    "# put all the treatment names into a list to get the corresponding columns\n",
    "treatment_list = []\n",
    "for name in treatment_names.values():\n",
    "    treatment_list.append(name)\n",
    "# flatten the list\n",
    "treatment_list = [item for sublist in treatment_list for item in sublist]"
   ]
  },
  {
   "cell_type": "markdown",
   "metadata": {},
   "source": [
    "### Preprocessing"
   ]
  },
  {
   "cell_type": "code",
   "execution_count": 15,
   "metadata": {},
   "outputs": [],
   "source": [
    "# df_t is part of the original dataframe that has all the ids who have measurements for the signal we are interested \n",
    "# in\n",
    "signal = cdm_t.loc[cdm_t.loc[:, 'fid'] == signal_name.lower(), 'value']\n",
    "ids = np.unique(cdm_t.loc[signal.index, 'enc_id'])\n",
    "df_t = cdm_t.loc[cdm_t.loc[:, 'enc_id'].isin(ids), :]"
   ]
  },
  {
   "cell_type": "code",
   "execution_count": 16,
   "metadata": {},
   "outputs": [],
   "source": [
    "# df_t is now part of the dataframe that contains only the rows with fid being either the signal or the treatments\n",
    "df_t = df_t.loc[df_t.loc[:, 'fid'].isin(treatment_list + [signal_name.lower()]), :]"
   ]
  },
  {
   "cell_type": "code",
   "execution_count": 17,
   "metadata": {},
   "outputs": [
    {
     "data": {
      "text/html": [
       "<div>\n",
       "<style scoped>\n",
       "    .dataframe tbody tr th:only-of-type {\n",
       "        vertical-align: middle;\n",
       "    }\n",
       "\n",
       "    .dataframe tbody tr th {\n",
       "        vertical-align: top;\n",
       "    }\n",
       "\n",
       "    .dataframe thead th {\n",
       "        text-align: right;\n",
       "    }\n",
       "</style>\n",
       "<table border=\"1\" class=\"dataframe\">\n",
       "  <thead>\n",
       "    <tr style=\"text-align: right;\">\n",
       "      <th></th>\n",
       "      <th>dataset_id</th>\n",
       "      <th>enc_id</th>\n",
       "      <th>tsp</th>\n",
       "      <th>fid</th>\n",
       "      <th>value</th>\n",
       "      <th>confidence</th>\n",
       "    </tr>\n",
       "  </thead>\n",
       "  <tbody>\n",
       "    <tr>\n",
       "      <th>338</th>\n",
       "      <td>3</td>\n",
       "      <td>5</td>\n",
       "      <td>2016-01-14 13:04:00+00</td>\n",
       "      <td>bun</td>\n",
       "      <td>9.0</td>\n",
       "      <td>1</td>\n",
       "    </tr>\n",
       "    <tr>\n",
       "      <th>599</th>\n",
       "      <td>3</td>\n",
       "      <td>10</td>\n",
       "      <td>2015-03-02 00:45:00+00</td>\n",
       "      <td>cefazolin_dose</td>\n",
       "      <td>{\"dose\": 2000.0, \"order_tsp\": \"2015-03-02 00:2...</td>\n",
       "      <td>2</td>\n",
       "    </tr>\n",
       "    <tr>\n",
       "      <th>652</th>\n",
       "      <td>3</td>\n",
       "      <td>10</td>\n",
       "      <td>2015-03-02 10:31:00+00</td>\n",
       "      <td>bun</td>\n",
       "      <td>9.0</td>\n",
       "      <td>1</td>\n",
       "    </tr>\n",
       "    <tr>\n",
       "      <th>724</th>\n",
       "      <td>3</td>\n",
       "      <td>10</td>\n",
       "      <td>2015-03-03 05:05:00+00</td>\n",
       "      <td>cefazolin_dose</td>\n",
       "      <td>{\"dose\": 1000.0, \"order_tsp\": \"2015-03-03 03:4...</td>\n",
       "      <td>2</td>\n",
       "    </tr>\n",
       "    <tr>\n",
       "      <th>752</th>\n",
       "      <td>3</td>\n",
       "      <td>10</td>\n",
       "      <td>2015-03-03 13:08:00+00</td>\n",
       "      <td>cefazolin_dose</td>\n",
       "      <td>{\"dose\": 1000.0, \"order_tsp\": \"2015-03-03 03:4...</td>\n",
       "      <td>2</td>\n",
       "    </tr>\n",
       "  </tbody>\n",
       "</table>\n",
       "</div>"
      ],
      "text/plain": [
       "     dataset_id  enc_id                     tsp             fid  \\\n",
       "338           3       5  2016-01-14 13:04:00+00             bun   \n",
       "599           3      10  2015-03-02 00:45:00+00  cefazolin_dose   \n",
       "652           3      10  2015-03-02 10:31:00+00             bun   \n",
       "724           3      10  2015-03-03 05:05:00+00  cefazolin_dose   \n",
       "752           3      10  2015-03-03 13:08:00+00  cefazolin_dose   \n",
       "\n",
       "                                                 value  confidence  \n",
       "338                                                9.0           1  \n",
       "599  {\"dose\": 2000.0, \"order_tsp\": \"2015-03-02 00:2...           2  \n",
       "652                                                9.0           1  \n",
       "724  {\"dose\": 1000.0, \"order_tsp\": \"2015-03-03 03:4...           2  \n",
       "752  {\"dose\": 1000.0, \"order_tsp\": \"2015-03-03 03:4...           2  "
      ]
     },
     "execution_count": 17,
     "metadata": {},
     "output_type": "execute_result"
    }
   ],
   "source": [
    "df_t.head(5)"
   ]
  },
  {
   "cell_type": "code",
   "execution_count": 18,
   "metadata": {},
   "outputs": [],
   "source": [
    "# convert tsp field to python datetime object\n",
    "df_t.loc[:, 'tsp'] = df_t.loc[:, 'tsp'].apply(lambda x: datetime.strptime(x, '%Y-%m-%d %H:%M:%S+%f'))\n",
    "#df_t.loc[:, 'tsp'] = df_t.groupby('enc_id')['tsp'].apply(lambda x: x - x.iloc[0])"
   ]
  },
  {
   "cell_type": "code",
   "execution_count": 20,
   "metadata": {},
   "outputs": [],
   "source": [
    "# for each id, adjust tsp so that time is zero for the first time the signal is measured\n",
    "adjusted_time = df_t.groupby('enc_id').apply(lambda x: x.loc[:, 'tsp'] - x.loc[x.loc[:, 'fid'] == signal_name.lower(), 'tsp'].iloc[0])\n",
    "# adjusted_time is multiindexed, need to drop one level before assigning it to column tsp\n",
    "adjusted_time.index = adjusted_time.index.droplevel()\n",
    "df_t.loc[:, 'tsp_adjusted'] = adjusted_time"
   ]
  },
  {
   "cell_type": "code",
   "execution_count": 21,
   "metadata": {},
   "outputs": [],
   "source": [
    "# cut the dataframe based on a cutoff number on the number of signal measurement a patient has\n",
    "keep_index = df_t.groupby('enc_id')['fid'].filter(lambda x: x.value_counts().loc[signal_name.lower()] >= cutoff).index\n",
    "df_t_cut = df_t.loc[keep_index].copy()"
   ]
  },
  {
   "cell_type": "code",
   "execution_count": 22,
   "metadata": {},
   "outputs": [
    {
     "data": {
      "text/plain": [
       "11144"
      ]
     },
     "execution_count": 22,
     "metadata": {},
     "output_type": "execute_result"
    }
   ],
   "source": [
    "# number of patient available after the cutoff\n",
    "df_t_cut['enc_id'].unique().shape[0]"
   ]
  },
  {
   "cell_type": "code",
   "execution_count": 23,
   "metadata": {},
   "outputs": [],
   "source": [
    "# delete rows whose adjusted time is less than the earliest treatment effect we wish to consider\n",
    "df_t_cut = df_t_cut.loc[df_t_cut.loc[:, 'tsp_adjusted'] >= timedelta(hours=-num_past_effects*bin_size_num), :]"
   ]
  },
  {
   "cell_type": "code",
   "execution_count": 24,
   "metadata": {},
   "outputs": [
    {
     "data": {
      "text/html": [
       "<div>\n",
       "<style scoped>\n",
       "    .dataframe tbody tr th:only-of-type {\n",
       "        vertical-align: middle;\n",
       "    }\n",
       "\n",
       "    .dataframe tbody tr th {\n",
       "        vertical-align: top;\n",
       "    }\n",
       "\n",
       "    .dataframe thead th {\n",
       "        text-align: right;\n",
       "    }\n",
       "</style>\n",
       "<table border=\"1\" class=\"dataframe\">\n",
       "  <thead>\n",
       "    <tr style=\"text-align: right;\">\n",
       "      <th></th>\n",
       "      <th>dataset_id</th>\n",
       "      <th>enc_id</th>\n",
       "      <th>tsp</th>\n",
       "      <th>fid</th>\n",
       "      <th>value</th>\n",
       "      <th>confidence</th>\n",
       "      <th>tsp_adjusted</th>\n",
       "    </tr>\n",
       "  </thead>\n",
       "  <tbody>\n",
       "    <tr>\n",
       "      <th>15563</th>\n",
       "      <td>3</td>\n",
       "      <td>177</td>\n",
       "      <td>2014-05-02 07:50:00</td>\n",
       "      <td>vancomycin_dose</td>\n",
       "      <td>{\"dose\": 1000.0, \"order_tsp\": \"2014-05-02 07:2...</td>\n",
       "      <td>2</td>\n",
       "      <td>-1 days +14:18:00</td>\n",
       "    </tr>\n",
       "    <tr>\n",
       "      <th>15884</th>\n",
       "      <td>3</td>\n",
       "      <td>177</td>\n",
       "      <td>2014-05-02 17:32:00</td>\n",
       "      <td>bun</td>\n",
       "      <td>18.0</td>\n",
       "      <td>1</td>\n",
       "      <td>0 days 00:00:00</td>\n",
       "    </tr>\n",
       "    <tr>\n",
       "      <th>15896</th>\n",
       "      <td>3</td>\n",
       "      <td>177</td>\n",
       "      <td>2014-05-02 18:20:00</td>\n",
       "      <td>furosemide_dose</td>\n",
       "      <td>{\"dose\": 40.0, \"order_tsp\": \"2014-05-02 13:30:...</td>\n",
       "      <td>1</td>\n",
       "      <td>0 days 00:48:00</td>\n",
       "    </tr>\n",
       "    <tr>\n",
       "      <th>15911</th>\n",
       "      <td>3</td>\n",
       "      <td>177</td>\n",
       "      <td>2014-05-02 20:40:00</td>\n",
       "      <td>vancomycin_dose</td>\n",
       "      <td>{\"dose\": 1500.0, \"order_tsp\": \"2014-05-02 13:3...</td>\n",
       "      <td>1</td>\n",
       "      <td>0 days 03:08:00</td>\n",
       "    </tr>\n",
       "    <tr>\n",
       "      <th>15940</th>\n",
       "      <td>3</td>\n",
       "      <td>177</td>\n",
       "      <td>2014-05-03 06:25:00</td>\n",
       "      <td>bun</td>\n",
       "      <td>24.0</td>\n",
       "      <td>1</td>\n",
       "      <td>0 days 12:53:00</td>\n",
       "    </tr>\n",
       "    <tr>\n",
       "      <th>15954</th>\n",
       "      <td>3</td>\n",
       "      <td>177</td>\n",
       "      <td>2014-05-03 09:22:00</td>\n",
       "      <td>vancomycin_dose</td>\n",
       "      <td>{\"dose\": 1500.0, \"order_tsp\": \"2014-05-02 13:3...</td>\n",
       "      <td>1</td>\n",
       "      <td>0 days 15:50:00</td>\n",
       "    </tr>\n",
       "    <tr>\n",
       "      <th>16015</th>\n",
       "      <td>3</td>\n",
       "      <td>177</td>\n",
       "      <td>2014-05-04 06:45:00</td>\n",
       "      <td>bun</td>\n",
       "      <td>15.0</td>\n",
       "      <td>1</td>\n",
       "      <td>1 days 13:13:00</td>\n",
       "    </tr>\n",
       "    <tr>\n",
       "      <th>16075</th>\n",
       "      <td>3</td>\n",
       "      <td>177</td>\n",
       "      <td>2014-05-04 15:06:00</td>\n",
       "      <td>furosemide_dose</td>\n",
       "      <td>{\"dose\": 10.0, \"order_tsp\": \"2014-05-04 14:51:...</td>\n",
       "      <td>1</td>\n",
       "      <td>1 days 21:34:00</td>\n",
       "    </tr>\n",
       "    <tr>\n",
       "      <th>16077</th>\n",
       "      <td>3</td>\n",
       "      <td>177</td>\n",
       "      <td>2014-05-04 16:07:00</td>\n",
       "      <td>furosemide_dose</td>\n",
       "      <td>{\"dose\": 10.0, \"order_tsp\": \"2014-05-04 15:42:...</td>\n",
       "      <td>1</td>\n",
       "      <td>1 days 22:35:00</td>\n",
       "    </tr>\n",
       "    <tr>\n",
       "      <th>16085</th>\n",
       "      <td>3</td>\n",
       "      <td>177</td>\n",
       "      <td>2014-05-04 18:48:00</td>\n",
       "      <td>vancomycin_dose</td>\n",
       "      <td>{\"dose\": 1000.0, \"order_tsp\": \"2014-05-04 09:1...</td>\n",
       "      <td>2</td>\n",
       "      <td>2 days 01:16:00</td>\n",
       "    </tr>\n",
       "  </tbody>\n",
       "</table>\n",
       "</div>"
      ],
      "text/plain": [
       "       dataset_id  enc_id                 tsp              fid  \\\n",
       "15563           3     177 2014-05-02 07:50:00  vancomycin_dose   \n",
       "15884           3     177 2014-05-02 17:32:00              bun   \n",
       "15896           3     177 2014-05-02 18:20:00  furosemide_dose   \n",
       "15911           3     177 2014-05-02 20:40:00  vancomycin_dose   \n",
       "15940           3     177 2014-05-03 06:25:00              bun   \n",
       "15954           3     177 2014-05-03 09:22:00  vancomycin_dose   \n",
       "16015           3     177 2014-05-04 06:45:00              bun   \n",
       "16075           3     177 2014-05-04 15:06:00  furosemide_dose   \n",
       "16077           3     177 2014-05-04 16:07:00  furosemide_dose   \n",
       "16085           3     177 2014-05-04 18:48:00  vancomycin_dose   \n",
       "\n",
       "                                                   value  confidence  \\\n",
       "15563  {\"dose\": 1000.0, \"order_tsp\": \"2014-05-02 07:2...           2   \n",
       "15884                                               18.0           1   \n",
       "15896  {\"dose\": 40.0, \"order_tsp\": \"2014-05-02 13:30:...           1   \n",
       "15911  {\"dose\": 1500.0, \"order_tsp\": \"2014-05-02 13:3...           1   \n",
       "15940                                               24.0           1   \n",
       "15954  {\"dose\": 1500.0, \"order_tsp\": \"2014-05-02 13:3...           1   \n",
       "16015                                               15.0           1   \n",
       "16075  {\"dose\": 10.0, \"order_tsp\": \"2014-05-04 14:51:...           1   \n",
       "16077  {\"dose\": 10.0, \"order_tsp\": \"2014-05-04 15:42:...           1   \n",
       "16085  {\"dose\": 1000.0, \"order_tsp\": \"2014-05-04 09:1...           2   \n",
       "\n",
       "           tsp_adjusted  \n",
       "15563 -1 days +14:18:00  \n",
       "15884   0 days 00:00:00  \n",
       "15896   0 days 00:48:00  \n",
       "15911   0 days 03:08:00  \n",
       "15940   0 days 12:53:00  \n",
       "15954   0 days 15:50:00  \n",
       "16015   1 days 13:13:00  \n",
       "16075   1 days 21:34:00  \n",
       "16077   1 days 22:35:00  \n",
       "16085   2 days 01:16:00  "
      ]
     },
     "execution_count": 24,
     "metadata": {},
     "output_type": "execute_result"
    }
   ],
   "source": [
    "df_t_cut.head(10)"
   ]
  },
  {
   "cell_type": "code",
   "execution_count": 25,
   "metadata": {},
   "outputs": [],
   "source": [
    "%%capture\n",
    "# create column for the signal\n",
    "df_t_cut.loc[:, signal_name] = df_t_cut.loc[df_t_cut.loc[:, 'fid'].isin([signal_name]), 'value']\n",
    "df_t_cut.loc[:, signal_name] = df_t_cut.loc[:, signal_name].apply(lambda x: float(x))"
   ]
  },
  {
   "cell_type": "code",
   "execution_count": 26,
   "metadata": {},
   "outputs": [],
   "source": [
    "%%capture\n",
    "# create a column for each treatment category\n",
    "# binarize\n",
    "for category, names in treatment_names.items():\n",
    "    df_t_cut.loc[:, category] = df_t_cut.loc[df_t_cut.loc[:, 'fid'].isin(names), 'value']\n",
    "for treatment in treatment_names.keys():\n",
    "    df_t_cut.loc[df_t_cut.loc[:, treatment].notna(), treatment] = 1\n",
    "    df_t_cut.loc[:, treatment] = df_t_cut.loc[:, treatment].fillna(value = 0)"
   ]
  },
  {
   "cell_type": "code",
   "execution_count": 27,
   "metadata": {
    "scrolled": true
   },
   "outputs": [],
   "source": [
    "# for every patient, delete all rows after the last valid signal measurement \n",
    "df_t_cut = df_t_cut.groupby('enc_id').apply(lambda x: x.loc[x.index <= x.loc[:, signal_name].last_valid_index(), :]).reset_index(drop=True)"
   ]
  },
  {
   "cell_type": "code",
   "execution_count": 28,
   "metadata": {},
   "outputs": [
    {
     "data": {
      "text/html": [
       "<div>\n",
       "<style scoped>\n",
       "    .dataframe tbody tr th:only-of-type {\n",
       "        vertical-align: middle;\n",
       "    }\n",
       "\n",
       "    .dataframe tbody tr th {\n",
       "        vertical-align: top;\n",
       "    }\n",
       "\n",
       "    .dataframe thead th {\n",
       "        text-align: right;\n",
       "    }\n",
       "</style>\n",
       "<table border=\"1\" class=\"dataframe\">\n",
       "  <thead>\n",
       "    <tr style=\"text-align: right;\">\n",
       "      <th></th>\n",
       "      <th>dataset_id</th>\n",
       "      <th>enc_id</th>\n",
       "      <th>tsp</th>\n",
       "      <th>fid</th>\n",
       "      <th>value</th>\n",
       "      <th>confidence</th>\n",
       "      <th>tsp_adjusted</th>\n",
       "      <th>bun</th>\n",
       "      <th>dialysis</th>\n",
       "      <th>diuretics</th>\n",
       "      <th>certain antibiotics</th>\n",
       "    </tr>\n",
       "  </thead>\n",
       "  <tbody>\n",
       "    <tr>\n",
       "      <th>0</th>\n",
       "      <td>3</td>\n",
       "      <td>177</td>\n",
       "      <td>2014-05-02 07:50:00</td>\n",
       "      <td>vancomycin_dose</td>\n",
       "      <td>{\"dose\": 1000.0, \"order_tsp\": \"2014-05-02 07:2...</td>\n",
       "      <td>2</td>\n",
       "      <td>-1 days +14:18:00</td>\n",
       "      <td>NaN</td>\n",
       "      <td>0</td>\n",
       "      <td>0</td>\n",
       "      <td>1</td>\n",
       "    </tr>\n",
       "    <tr>\n",
       "      <th>1</th>\n",
       "      <td>3</td>\n",
       "      <td>177</td>\n",
       "      <td>2014-05-02 17:32:00</td>\n",
       "      <td>bun</td>\n",
       "      <td>18.0</td>\n",
       "      <td>1</td>\n",
       "      <td>0 days 00:00:00</td>\n",
       "      <td>18.0</td>\n",
       "      <td>0</td>\n",
       "      <td>0</td>\n",
       "      <td>0</td>\n",
       "    </tr>\n",
       "    <tr>\n",
       "      <th>2</th>\n",
       "      <td>3</td>\n",
       "      <td>177</td>\n",
       "      <td>2014-05-02 18:20:00</td>\n",
       "      <td>furosemide_dose</td>\n",
       "      <td>{\"dose\": 40.0, \"order_tsp\": \"2014-05-02 13:30:...</td>\n",
       "      <td>1</td>\n",
       "      <td>0 days 00:48:00</td>\n",
       "      <td>NaN</td>\n",
       "      <td>0</td>\n",
       "      <td>0</td>\n",
       "      <td>1</td>\n",
       "    </tr>\n",
       "    <tr>\n",
       "      <th>3</th>\n",
       "      <td>3</td>\n",
       "      <td>177</td>\n",
       "      <td>2014-05-02 20:40:00</td>\n",
       "      <td>vancomycin_dose</td>\n",
       "      <td>{\"dose\": 1500.0, \"order_tsp\": \"2014-05-02 13:3...</td>\n",
       "      <td>1</td>\n",
       "      <td>0 days 03:08:00</td>\n",
       "      <td>NaN</td>\n",
       "      <td>0</td>\n",
       "      <td>0</td>\n",
       "      <td>1</td>\n",
       "    </tr>\n",
       "    <tr>\n",
       "      <th>4</th>\n",
       "      <td>3</td>\n",
       "      <td>177</td>\n",
       "      <td>2014-05-03 06:25:00</td>\n",
       "      <td>bun</td>\n",
       "      <td>24.0</td>\n",
       "      <td>1</td>\n",
       "      <td>0 days 12:53:00</td>\n",
       "      <td>24.0</td>\n",
       "      <td>0</td>\n",
       "      <td>0</td>\n",
       "      <td>0</td>\n",
       "    </tr>\n",
       "    <tr>\n",
       "      <th>5</th>\n",
       "      <td>3</td>\n",
       "      <td>177</td>\n",
       "      <td>2014-05-03 09:22:00</td>\n",
       "      <td>vancomycin_dose</td>\n",
       "      <td>{\"dose\": 1500.0, \"order_tsp\": \"2014-05-02 13:3...</td>\n",
       "      <td>1</td>\n",
       "      <td>0 days 15:50:00</td>\n",
       "      <td>NaN</td>\n",
       "      <td>0</td>\n",
       "      <td>0</td>\n",
       "      <td>1</td>\n",
       "    </tr>\n",
       "    <tr>\n",
       "      <th>6</th>\n",
       "      <td>3</td>\n",
       "      <td>177</td>\n",
       "      <td>2014-05-04 06:45:00</td>\n",
       "      <td>bun</td>\n",
       "      <td>15.0</td>\n",
       "      <td>1</td>\n",
       "      <td>1 days 13:13:00</td>\n",
       "      <td>15.0</td>\n",
       "      <td>0</td>\n",
       "      <td>0</td>\n",
       "      <td>0</td>\n",
       "    </tr>\n",
       "    <tr>\n",
       "      <th>7</th>\n",
       "      <td>3</td>\n",
       "      <td>177</td>\n",
       "      <td>2014-05-04 15:06:00</td>\n",
       "      <td>furosemide_dose</td>\n",
       "      <td>{\"dose\": 10.0, \"order_tsp\": \"2014-05-04 14:51:...</td>\n",
       "      <td>1</td>\n",
       "      <td>1 days 21:34:00</td>\n",
       "      <td>NaN</td>\n",
       "      <td>0</td>\n",
       "      <td>0</td>\n",
       "      <td>1</td>\n",
       "    </tr>\n",
       "    <tr>\n",
       "      <th>8</th>\n",
       "      <td>3</td>\n",
       "      <td>177</td>\n",
       "      <td>2014-05-04 16:07:00</td>\n",
       "      <td>furosemide_dose</td>\n",
       "      <td>{\"dose\": 10.0, \"order_tsp\": \"2014-05-04 15:42:...</td>\n",
       "      <td>1</td>\n",
       "      <td>1 days 22:35:00</td>\n",
       "      <td>NaN</td>\n",
       "      <td>0</td>\n",
       "      <td>0</td>\n",
       "      <td>1</td>\n",
       "    </tr>\n",
       "    <tr>\n",
       "      <th>9</th>\n",
       "      <td>3</td>\n",
       "      <td>177</td>\n",
       "      <td>2014-05-04 18:48:00</td>\n",
       "      <td>vancomycin_dose</td>\n",
       "      <td>{\"dose\": 1000.0, \"order_tsp\": \"2014-05-04 09:1...</td>\n",
       "      <td>2</td>\n",
       "      <td>2 days 01:16:00</td>\n",
       "      <td>NaN</td>\n",
       "      <td>0</td>\n",
       "      <td>0</td>\n",
       "      <td>1</td>\n",
       "    </tr>\n",
       "  </tbody>\n",
       "</table>\n",
       "</div>"
      ],
      "text/plain": [
       "   dataset_id  enc_id                 tsp              fid  \\\n",
       "0           3     177 2014-05-02 07:50:00  vancomycin_dose   \n",
       "1           3     177 2014-05-02 17:32:00              bun   \n",
       "2           3     177 2014-05-02 18:20:00  furosemide_dose   \n",
       "3           3     177 2014-05-02 20:40:00  vancomycin_dose   \n",
       "4           3     177 2014-05-03 06:25:00              bun   \n",
       "5           3     177 2014-05-03 09:22:00  vancomycin_dose   \n",
       "6           3     177 2014-05-04 06:45:00              bun   \n",
       "7           3     177 2014-05-04 15:06:00  furosemide_dose   \n",
       "8           3     177 2014-05-04 16:07:00  furosemide_dose   \n",
       "9           3     177 2014-05-04 18:48:00  vancomycin_dose   \n",
       "\n",
       "                                               value  confidence  \\\n",
       "0  {\"dose\": 1000.0, \"order_tsp\": \"2014-05-02 07:2...           2   \n",
       "1                                               18.0           1   \n",
       "2  {\"dose\": 40.0, \"order_tsp\": \"2014-05-02 13:30:...           1   \n",
       "3  {\"dose\": 1500.0, \"order_tsp\": \"2014-05-02 13:3...           1   \n",
       "4                                               24.0           1   \n",
       "5  {\"dose\": 1500.0, \"order_tsp\": \"2014-05-02 13:3...           1   \n",
       "6                                               15.0           1   \n",
       "7  {\"dose\": 10.0, \"order_tsp\": \"2014-05-04 14:51:...           1   \n",
       "8  {\"dose\": 10.0, \"order_tsp\": \"2014-05-04 15:42:...           1   \n",
       "9  {\"dose\": 1000.0, \"order_tsp\": \"2014-05-04 09:1...           2   \n",
       "\n",
       "       tsp_adjusted   bun  dialysis  diuretics  certain antibiotics  \n",
       "0 -1 days +14:18:00   NaN         0          0                    1  \n",
       "1   0 days 00:00:00  18.0         0          0                    0  \n",
       "2   0 days 00:48:00   NaN         0          0                    1  \n",
       "3   0 days 03:08:00   NaN         0          0                    1  \n",
       "4   0 days 12:53:00  24.0         0          0                    0  \n",
       "5   0 days 15:50:00   NaN         0          0                    1  \n",
       "6   1 days 13:13:00  15.0         0          0                    0  \n",
       "7   1 days 21:34:00   NaN         0          0                    1  \n",
       "8   1 days 22:35:00   NaN         0          0                    1  \n",
       "9   2 days 01:16:00   NaN         0          0                    1  "
      ]
     },
     "execution_count": 28,
     "metadata": {},
     "output_type": "execute_result"
    }
   ],
   "source": [
    "df_t_cut.head(10)"
   ]
  },
  {
   "cell_type": "code",
   "execution_count": 29,
   "metadata": {},
   "outputs": [],
   "source": [
    "# put signals in bins\n",
    "binned_signal = df_t_cut.loc[:, ['enc_id', 'tsp_adjusted', signal_name]].dropna().groupby('enc_id').apply(lambda x: x.loc[:, ['tsp_adjusted', signal_name]].resample(bin_size, on='tsp_adjusted', base=0).mean())\n",
    "binned_signal.reset_index(level='enc_id', inplace=True)\n",
    "new_times = binned_signal.index.get_level_values('tsp_adjusted')\n",
    "binned_signal.loc[:, 'time'] = new_times\n",
    "binned_signal.reset_index(drop=True, inplace=True)"
   ]
  },
  {
   "cell_type": "code",
   "execution_count": 31,
   "metadata": {},
   "outputs": [
    {
     "data": {
      "text/html": [
       "<div>\n",
       "<style scoped>\n",
       "    .dataframe tbody tr th:only-of-type {\n",
       "        vertical-align: middle;\n",
       "    }\n",
       "\n",
       "    .dataframe tbody tr th {\n",
       "        vertical-align: top;\n",
       "    }\n",
       "\n",
       "    .dataframe thead th {\n",
       "        text-align: right;\n",
       "    }\n",
       "</style>\n",
       "<table border=\"1\" class=\"dataframe\">\n",
       "  <thead>\n",
       "    <tr style=\"text-align: right;\">\n",
       "      <th></th>\n",
       "      <th>enc_id</th>\n",
       "      <th>bun</th>\n",
       "      <th>time</th>\n",
       "    </tr>\n",
       "  </thead>\n",
       "  <tbody>\n",
       "    <tr>\n",
       "      <th>0</th>\n",
       "      <td>177</td>\n",
       "      <td>18.0</td>\n",
       "      <td>0 days 00:00:00</td>\n",
       "    </tr>\n",
       "    <tr>\n",
       "      <th>1</th>\n",
       "      <td>177</td>\n",
       "      <td>24.0</td>\n",
       "      <td>0 days 12:00:00</td>\n",
       "    </tr>\n",
       "    <tr>\n",
       "      <th>2</th>\n",
       "      <td>177</td>\n",
       "      <td>NaN</td>\n",
       "      <td>1 days 00:00:00</td>\n",
       "    </tr>\n",
       "    <tr>\n",
       "      <th>3</th>\n",
       "      <td>177</td>\n",
       "      <td>15.0</td>\n",
       "      <td>1 days 12:00:00</td>\n",
       "    </tr>\n",
       "    <tr>\n",
       "      <th>4</th>\n",
       "      <td>177</td>\n",
       "      <td>13.0</td>\n",
       "      <td>2 days 00:00:00</td>\n",
       "    </tr>\n",
       "  </tbody>\n",
       "</table>\n",
       "</div>"
      ],
      "text/plain": [
       "   enc_id   bun            time\n",
       "0     177  18.0 0 days 00:00:00\n",
       "1     177  24.0 0 days 12:00:00\n",
       "2     177   NaN 1 days 00:00:00\n",
       "3     177  15.0 1 days 12:00:00\n",
       "4     177  13.0 2 days 00:00:00"
      ]
     },
     "execution_count": 31,
     "metadata": {},
     "output_type": "execute_result"
    }
   ],
   "source": [
    "binned_signal.head(5)"
   ]
  },
  {
   "cell_type": "code",
   "execution_count": 32,
   "metadata": {},
   "outputs": [],
   "source": [
    "# seperate the rows with positive and negative time to different dataframe to do resampling\n",
    "\n",
    "# every row with nonnegative time\n",
    "df_t_pos = df_t_cut.loc[df_t_cut.loc[:, 'tsp_adjusted'] >= timedelta(), :]\n",
    "# every row with nonpositive time\n",
    "df_t_neg = df_t_cut.loc[df_t_cut.loc[:, 'tsp_adjusted'] <= timedelta(), :]"
   ]
  },
  {
   "cell_type": "code",
   "execution_count": 33,
   "metadata": {},
   "outputs": [],
   "source": [
    "%%capture\n",
    "# make all the negative time positive, so the largest value is the time point farthest out\n",
    "# necessary because resampling starts from the smallest time, we want it to be zero\n",
    "df_t_neg.loc[:, 'tsp_adjusted'] = df_t_neg.loc[:, 'tsp_adjusted'].apply(lambda x: -x)"
   ]
  },
  {
   "cell_type": "code",
   "execution_count": 34,
   "metadata": {},
   "outputs": [],
   "source": [
    "# binned treatments for time points prior to the first signal observation\n",
    "binned_treatment_prev = df_t_neg.loc[:, ['enc_id', 'tsp_adjusted']+ list(treatment_names.keys())].groupby('enc_id').apply(lambda x: x.resample(bin_size, on='tsp_adjusted').max())\n",
    "binned_treatment_prev.loc[:, 'enc_id'].fillna(method='bfill', inplace=True)\n",
    "binned_treatment_prev.fillna(0, inplace=True)\n",
    "new_times = binned_treatment_prev.index.get_level_values('tsp_adjusted')\n",
    "binned_treatment_prev.reset_index(drop=True, inplace=True)\n",
    "binned_treatment_prev.loc[:, 'time'] = new_times"
   ]
  },
  {
   "cell_type": "code",
   "execution_count": 35,
   "metadata": {},
   "outputs": [],
   "source": [
    "# for some patient there are no treatments before the first observation\n",
    "# but to allow the model to work consistently, we add rows with all zeros to those patients\n",
    "def add_rows_treatment(x):\n",
    "    last_time = x.loc[:, 'time'].iloc[-1]\n",
    "    while last_time < timedelta(hours=(num_past_effects-1)*bin_size_num):\n",
    "        last_row = x.iloc[-1, :]\n",
    "        new_last_time = last_time + timedelta(hours=bin_size_num)\n",
    "        last_row.loc['time'] = new_last_time\n",
    "        last_row.loc[list(treatment_names.keys())] = 0\n",
    "        last_time = new_last_time\n",
    "        x = x.append(last_row)\n",
    "    return x\n",
    "\n",
    "binned_treatment_prev = binned_treatment_prev.groupby('enc_id').apply(lambda x: add_rows_treatment(x))\n",
    "binned_treatment_prev.reset_index(drop=True, inplace=True)"
   ]
  },
  {
   "cell_type": "code",
   "execution_count": 36,
   "metadata": {},
   "outputs": [],
   "source": [
    "# adjust time so that the farthest out time point is time zero\n",
    "positive_time = binned_treatment_prev.groupby('enc_id').apply(lambda x: (x.loc[:, 'time'].iloc[-1]-x.loc[:, 'time']))\n",
    "positive_time.reset_index(drop=True, inplace=True)\n",
    "binned_treatment_prev.loc[:, 'time'] = positive_time"
   ]
  },
  {
   "cell_type": "code",
   "execution_count": 37,
   "metadata": {},
   "outputs": [],
   "source": [
    "# flip row order so| time is in increasing order\n",
    "binned_treatment_prev = binned_treatment_prev.groupby('enc_id').apply(lambda x: x.iloc[::-1])\n",
    "binned_treatment_prev.reset_index(drop=True, inplace=True)"
   ]
  },
  {
   "cell_type": "code",
   "execution_count": 38,
   "metadata": {},
   "outputs": [
    {
     "data": {
      "text/html": [
       "<div>\n",
       "<style scoped>\n",
       "    .dataframe tbody tr th:only-of-type {\n",
       "        vertical-align: middle;\n",
       "    }\n",
       "\n",
       "    .dataframe tbody tr th {\n",
       "        vertical-align: top;\n",
       "    }\n",
       "\n",
       "    .dataframe thead th {\n",
       "        text-align: right;\n",
       "    }\n",
       "</style>\n",
       "<table border=\"1\" class=\"dataframe\">\n",
       "  <thead>\n",
       "    <tr style=\"text-align: right;\">\n",
       "      <th></th>\n",
       "      <th>enc_id</th>\n",
       "      <th>tsp_adjusted</th>\n",
       "      <th>dialysis</th>\n",
       "      <th>diuretics</th>\n",
       "      <th>certain antibiotics</th>\n",
       "      <th>time</th>\n",
       "    </tr>\n",
       "  </thead>\n",
       "  <tbody>\n",
       "    <tr>\n",
       "      <th>0</th>\n",
       "      <td>177</td>\n",
       "      <td>09:42:00</td>\n",
       "      <td>0</td>\n",
       "      <td>0</td>\n",
       "      <td>0</td>\n",
       "      <td>00:00:00</td>\n",
       "    </tr>\n",
       "    <tr>\n",
       "      <th>1</th>\n",
       "      <td>177</td>\n",
       "      <td>09:42:00</td>\n",
       "      <td>0</td>\n",
       "      <td>0</td>\n",
       "      <td>1</td>\n",
       "      <td>12:00:00</td>\n",
       "    </tr>\n",
       "    <tr>\n",
       "      <th>2</th>\n",
       "      <td>875</td>\n",
       "      <td>00:00:00</td>\n",
       "      <td>0</td>\n",
       "      <td>0</td>\n",
       "      <td>0</td>\n",
       "      <td>00:00:00</td>\n",
       "    </tr>\n",
       "    <tr>\n",
       "      <th>3</th>\n",
       "      <td>875</td>\n",
       "      <td>00:00:00</td>\n",
       "      <td>0</td>\n",
       "      <td>0</td>\n",
       "      <td>0</td>\n",
       "      <td>12:00:00</td>\n",
       "    </tr>\n",
       "    <tr>\n",
       "      <th>4</th>\n",
       "      <td>925</td>\n",
       "      <td>02:01:00</td>\n",
       "      <td>0</td>\n",
       "      <td>0</td>\n",
       "      <td>0</td>\n",
       "      <td>00:00:00</td>\n",
       "    </tr>\n",
       "  </tbody>\n",
       "</table>\n",
       "</div>"
      ],
      "text/plain": [
       "   enc_id tsp_adjusted  dialysis  diuretics  certain antibiotics     time\n",
       "0     177     09:42:00         0          0                    0 00:00:00\n",
       "1     177     09:42:00         0          0                    1 12:00:00\n",
       "2     875     00:00:00         0          0                    0 00:00:00\n",
       "3     875     00:00:00         0          0                    0 12:00:00\n",
       "4     925     02:01:00         0          0                    0 00:00:00"
      ]
     },
     "execution_count": 38,
     "metadata": {},
     "output_type": "execute_result"
    }
   ],
   "source": [
    "# treatments prior to the first observation is stored seperatedly from those after\n",
    "# so signals and treatments after the first observation can use the same starting time point\n",
    "binned_treatment_prev.head(5)"
   ]
  },
  {
   "cell_type": "code",
   "execution_count": 39,
   "metadata": {},
   "outputs": [],
   "source": [
    "# resampling for treatments after the first signal observation\n",
    "# the first time point for each patient is num_past_effects*bin_size_num\n",
    "binned_treatment_post = df_t_pos.loc[:, ['enc_id', 'tsp_adjusted']+ list(treatment_names.keys())].groupby('enc_id').apply(lambda x: x.resample(bin_size, on='tsp_adjusted').max())\n",
    "#binned_treatment_post.loc[:, 'enc_id'].fillna(method='bfill', inplace=True)\n",
    "# some enc_id might be 0 if there is no any treatment available for that time interval\n",
    "# but that's okay since we only need the treatment columns\n",
    "binned_treatment_post.fillna(0, inplace=True)\n",
    "new_time = binned_treatment_post.index.get_level_values('tsp_adjusted') #+ timedelta(hours=num_past_effects*bin_size_num)\n",
    "binned_treatment_post.loc[:, 'time'] = new_time\n",
    "binned_treatment_post.reset_index(drop=True, inplace=True)"
   ]
  },
  {
   "cell_type": "code",
   "execution_count": 40,
   "metadata": {},
   "outputs": [
    {
     "data": {
      "text/html": [
       "<div>\n",
       "<style scoped>\n",
       "    .dataframe tbody tr th:only-of-type {\n",
       "        vertical-align: middle;\n",
       "    }\n",
       "\n",
       "    .dataframe tbody tr th {\n",
       "        vertical-align: top;\n",
       "    }\n",
       "\n",
       "    .dataframe thead th {\n",
       "        text-align: right;\n",
       "    }\n",
       "</style>\n",
       "<table border=\"1\" class=\"dataframe\">\n",
       "  <thead>\n",
       "    <tr style=\"text-align: right;\">\n",
       "      <th></th>\n",
       "      <th>enc_id</th>\n",
       "      <th>tsp_adjusted</th>\n",
       "      <th>dialysis</th>\n",
       "      <th>diuretics</th>\n",
       "      <th>certain antibiotics</th>\n",
       "      <th>time</th>\n",
       "    </tr>\n",
       "  </thead>\n",
       "  <tbody>\n",
       "    <tr>\n",
       "      <th>0</th>\n",
       "      <td>177.0</td>\n",
       "      <td>0 days 03:08:00</td>\n",
       "      <td>0.0</td>\n",
       "      <td>0.0</td>\n",
       "      <td>1.0</td>\n",
       "      <td>0 days 00:00:00</td>\n",
       "    </tr>\n",
       "    <tr>\n",
       "      <th>1</th>\n",
       "      <td>177.0</td>\n",
       "      <td>0 days 15:50:00</td>\n",
       "      <td>0.0</td>\n",
       "      <td>0.0</td>\n",
       "      <td>1.0</td>\n",
       "      <td>0 days 12:00:00</td>\n",
       "    </tr>\n",
       "    <tr>\n",
       "      <th>2</th>\n",
       "      <td>0.0</td>\n",
       "      <td>0 days 00:00:00</td>\n",
       "      <td>0.0</td>\n",
       "      <td>0.0</td>\n",
       "      <td>0.0</td>\n",
       "      <td>1 days 00:00:00</td>\n",
       "    </tr>\n",
       "    <tr>\n",
       "      <th>3</th>\n",
       "      <td>177.0</td>\n",
       "      <td>1 days 22:35:00</td>\n",
       "      <td>0.0</td>\n",
       "      <td>0.0</td>\n",
       "      <td>1.0</td>\n",
       "      <td>1 days 12:00:00</td>\n",
       "    </tr>\n",
       "    <tr>\n",
       "      <th>4</th>\n",
       "      <td>177.0</td>\n",
       "      <td>2 days 11:17:00</td>\n",
       "      <td>0.0</td>\n",
       "      <td>0.0</td>\n",
       "      <td>1.0</td>\n",
       "      <td>2 days 00:00:00</td>\n",
       "    </tr>\n",
       "  </tbody>\n",
       "</table>\n",
       "</div>"
      ],
      "text/plain": [
       "   enc_id    tsp_adjusted  dialysis  diuretics  certain antibiotics  \\\n",
       "0   177.0 0 days 03:08:00       0.0        0.0                  1.0   \n",
       "1   177.0 0 days 15:50:00       0.0        0.0                  1.0   \n",
       "2     0.0 0 days 00:00:00       0.0        0.0                  0.0   \n",
       "3   177.0 1 days 22:35:00       0.0        0.0                  1.0   \n",
       "4   177.0 2 days 11:17:00       0.0        0.0                  1.0   \n",
       "\n",
       "             time  \n",
       "0 0 days 00:00:00  \n",
       "1 0 days 12:00:00  \n",
       "2 1 days 00:00:00  \n",
       "3 1 days 12:00:00  \n",
       "4 2 days 00:00:00  "
      ]
     },
     "execution_count": 40,
     "metadata": {},
     "output_type": "execute_result"
    }
   ],
   "source": [
    "binned_treatment_post.head(5)"
   ]
  },
  {
   "cell_type": "code",
   "execution_count": 41,
   "metadata": {},
   "outputs": [],
   "source": [
    "# contain binned signal and treatments starting from the first observation\n",
    "# the first observation for each id is time zero\n",
    "df_binned = pd.concat([binned_signal, binned_treatment_post.loc[:, list(treatment_names.keys())]], axis = 1)"
   ]
  },
  {
   "cell_type": "code",
   "execution_count": 42,
   "metadata": {},
   "outputs": [
    {
     "data": {
      "text/html": [
       "<div>\n",
       "<style scoped>\n",
       "    .dataframe tbody tr th:only-of-type {\n",
       "        vertical-align: middle;\n",
       "    }\n",
       "\n",
       "    .dataframe tbody tr th {\n",
       "        vertical-align: top;\n",
       "    }\n",
       "\n",
       "    .dataframe thead th {\n",
       "        text-align: right;\n",
       "    }\n",
       "</style>\n",
       "<table border=\"1\" class=\"dataframe\">\n",
       "  <thead>\n",
       "    <tr style=\"text-align: right;\">\n",
       "      <th></th>\n",
       "      <th>enc_id</th>\n",
       "      <th>bun</th>\n",
       "      <th>time</th>\n",
       "      <th>dialysis</th>\n",
       "      <th>diuretics</th>\n",
       "      <th>certain antibiotics</th>\n",
       "    </tr>\n",
       "  </thead>\n",
       "  <tbody>\n",
       "    <tr>\n",
       "      <th>0</th>\n",
       "      <td>177</td>\n",
       "      <td>18.0</td>\n",
       "      <td>0 days 00:00:00</td>\n",
       "      <td>0.0</td>\n",
       "      <td>0.0</td>\n",
       "      <td>1.0</td>\n",
       "    </tr>\n",
       "    <tr>\n",
       "      <th>1</th>\n",
       "      <td>177</td>\n",
       "      <td>24.0</td>\n",
       "      <td>0 days 12:00:00</td>\n",
       "      <td>0.0</td>\n",
       "      <td>0.0</td>\n",
       "      <td>1.0</td>\n",
       "    </tr>\n",
       "    <tr>\n",
       "      <th>2</th>\n",
       "      <td>177</td>\n",
       "      <td>NaN</td>\n",
       "      <td>1 days 00:00:00</td>\n",
       "      <td>0.0</td>\n",
       "      <td>0.0</td>\n",
       "      <td>0.0</td>\n",
       "    </tr>\n",
       "    <tr>\n",
       "      <th>3</th>\n",
       "      <td>177</td>\n",
       "      <td>15.0</td>\n",
       "      <td>1 days 12:00:00</td>\n",
       "      <td>0.0</td>\n",
       "      <td>0.0</td>\n",
       "      <td>1.0</td>\n",
       "    </tr>\n",
       "    <tr>\n",
       "      <th>4</th>\n",
       "      <td>177</td>\n",
       "      <td>13.0</td>\n",
       "      <td>2 days 00:00:00</td>\n",
       "      <td>0.0</td>\n",
       "      <td>0.0</td>\n",
       "      <td>1.0</td>\n",
       "    </tr>\n",
       "  </tbody>\n",
       "</table>\n",
       "</div>"
      ],
      "text/plain": [
       "   enc_id   bun            time  dialysis  diuretics  certain antibiotics\n",
       "0     177  18.0 0 days 00:00:00       0.0        0.0                  1.0\n",
       "1     177  24.0 0 days 12:00:00       0.0        0.0                  1.0\n",
       "2     177   NaN 1 days 00:00:00       0.0        0.0                  0.0\n",
       "3     177  15.0 1 days 12:00:00       0.0        0.0                  1.0\n",
       "4     177  13.0 2 days 00:00:00       0.0        0.0                  1.0"
      ]
     },
     "execution_count": 42,
     "metadata": {},
     "output_type": "execute_result"
    }
   ],
   "source": [
    "df_binned.head(5)"
   ]
  },
  {
   "cell_type": "code",
   "execution_count": 43,
   "metadata": {},
   "outputs": [
    {
     "data": {
      "text/plain": [
       "11144"
      ]
     },
     "execution_count": 43,
     "metadata": {},
     "output_type": "execute_result"
    }
   ],
   "source": [
    "df_binned['enc_id'].unique().shape[0]"
   ]
  },
  {
   "cell_type": "code",
   "execution_count": 44,
   "metadata": {},
   "outputs": [],
   "source": [
    "# take only part of cdm_s that has the patient ids which we use in df_binned\n",
    "df_s = cdm_s.loc[cdm_s.loc[:, 'enc_id'].isin(df_binned.loc[:, 'enc_id'].unique()), :]"
   ]
  },
  {
   "cell_type": "code",
   "execution_count": 45,
   "metadata": {},
   "outputs": [],
   "source": [
    "# create dataframe containing each chronic conditions, binarize\n",
    "df_static = pd.DataFrame()\n",
    "for chronic, names in chronic_names.items():\n",
    "    col = df_s.groupby('enc_id').apply(lambda x: x.loc[x.loc[:, 'fid'].isin(names), 'value'].any())\n",
    "    df_static.loc[:, chronic] = col # to make sure index is correct\n",
    "    df_static.loc[:, chronic] = np.where(col == False, 0, 1)"
   ]
  },
  {
   "cell_type": "code",
   "execution_count": 46,
   "metadata": {},
   "outputs": [],
   "source": [
    "# add demographic information to df_static\n",
    "for demo in demographic_names:\n",
    "    col = df_s.groupby('enc_id').apply(lambda x: float(x.loc[x.loc[:, 'fid'] == demo, 'value'].values[0]))\n",
    "    df_static.loc[:, demo] = col"
   ]
  },
  {
   "cell_type": "code",
   "execution_count": 47,
   "metadata": {},
   "outputs": [
    {
     "data": {
      "text/html": [
       "<div>\n",
       "<style scoped>\n",
       "    .dataframe tbody tr th:only-of-type {\n",
       "        vertical-align: middle;\n",
       "    }\n",
       "\n",
       "    .dataframe tbody tr th {\n",
       "        vertical-align: top;\n",
       "    }\n",
       "\n",
       "    .dataframe thead th {\n",
       "        text-align: right;\n",
       "    }\n",
       "</style>\n",
       "<table border=\"1\" class=\"dataframe\">\n",
       "  <thead>\n",
       "    <tr style=\"text-align: right;\">\n",
       "      <th></th>\n",
       "      <th>liver</th>\n",
       "      <th>chronic_kidney</th>\n",
       "      <th>esrd</th>\n",
       "      <th>renal</th>\n",
       "      <th>heart_failure</th>\n",
       "      <th>kidney_cancer</th>\n",
       "    </tr>\n",
       "    <tr>\n",
       "      <th>enc_id</th>\n",
       "      <th></th>\n",
       "      <th></th>\n",
       "      <th></th>\n",
       "      <th></th>\n",
       "      <th></th>\n",
       "      <th></th>\n",
       "    </tr>\n",
       "  </thead>\n",
       "  <tbody>\n",
       "    <tr>\n",
       "      <th>177</th>\n",
       "      <td>0</td>\n",
       "      <td>0</td>\n",
       "      <td>0</td>\n",
       "      <td>0</td>\n",
       "      <td>1</td>\n",
       "      <td>0</td>\n",
       "    </tr>\n",
       "    <tr>\n",
       "      <th>875</th>\n",
       "      <td>0</td>\n",
       "      <td>0</td>\n",
       "      <td>0</td>\n",
       "      <td>0</td>\n",
       "      <td>0</td>\n",
       "      <td>0</td>\n",
       "    </tr>\n",
       "    <tr>\n",
       "      <th>925</th>\n",
       "      <td>0</td>\n",
       "      <td>0</td>\n",
       "      <td>0</td>\n",
       "      <td>0</td>\n",
       "      <td>1</td>\n",
       "      <td>0</td>\n",
       "    </tr>\n",
       "    <tr>\n",
       "      <th>926</th>\n",
       "      <td>0</td>\n",
       "      <td>0</td>\n",
       "      <td>0</td>\n",
       "      <td>0</td>\n",
       "      <td>0</td>\n",
       "      <td>0</td>\n",
       "    </tr>\n",
       "    <tr>\n",
       "      <th>964</th>\n",
       "      <td>0</td>\n",
       "      <td>0</td>\n",
       "      <td>0</td>\n",
       "      <td>0</td>\n",
       "      <td>0</td>\n",
       "      <td>0</td>\n",
       "    </tr>\n",
       "  </tbody>\n",
       "</table>\n",
       "</div>"
      ],
      "text/plain": [
       "        liver  chronic_kidney  esrd  renal  heart_failure  kidney_cancer\n",
       "enc_id                                                                  \n",
       "177         0               0     0      0              1              0\n",
       "875         0               0     0      0              0              0\n",
       "925         0               0     0      0              1              0\n",
       "926         0               0     0      0              0              0\n",
       "964         0               0     0      0              0              0"
      ]
     },
     "execution_count": 47,
     "metadata": {},
     "output_type": "execute_result"
    }
   ],
   "source": [
    "df_static.head(5)"
   ]
  },
  {
   "cell_type": "code",
   "execution_count": 48,
   "metadata": {},
   "outputs": [],
   "source": [
    "# ckd is only 1 if esrd is 0\n",
    "# ckd_no_esrd = pd.concat([df_static['chronic_kidney'] == 1, df_static['esrd'] == 0], axis=1).all(axis=1)\n",
    "# df_static['chronic_kidney'] = np.where(ckd_no_esrd, 1, 0)"
   ]
  },
  {
   "cell_type": "code",
   "execution_count": 49,
   "metadata": {},
   "outputs": [
    {
     "data": {
      "text/plain": [
       "2292"
      ]
     },
     "execution_count": 49,
     "metadata": {},
     "output_type": "execute_result"
    }
   ],
   "source": [
    "# remove individuals with observation missing pct larger than the threshold\n",
    "df_binned = df_binned.groupby('enc_id').filter(lambda x: (np.where(x.loc[:, signal_name].isna())[0].shape[0]) / x.shape[0] < max_missing_pct)\n",
    "# remove individuals with num training obs less than the a threshold\n",
    "df_binned = df_binned.groupby('enc_id').filter(lambda x: int(np.where(np.invert(np.isnan(x.loc[:, signal_name])))[0].shape[0]*training_pct) >= num_training_obs)\n",
    "# the number of ids available for training\n",
    "num_unique_ids = np.unique(df_binned.loc[:, 'enc_id']).shape[0]\n",
    "num_unique_ids"
   ]
  },
  {
   "cell_type": "code",
   "execution_count": 50,
   "metadata": {},
   "outputs": [
    {
     "data": {
      "text/plain": [
       "0.3174330078713063"
      ]
     },
     "execution_count": 50,
     "metadata": {},
     "output_type": "execute_result"
    }
   ],
   "source": [
    "# overall percentage of missing observations after removal\n",
    "np.where(df_binned.loc[:, signal_name].isnull())[0].shape[0]/df_binned.shape[0]"
   ]
  },
  {
   "cell_type": "code",
   "execution_count": 51,
   "metadata": {},
   "outputs": [],
   "source": [
    "# also remove the individuals with high missing pct and small number of training obs\n",
    "# from df_static and binned_treatment_prev\n",
    "df_static = df_static.loc[np.unique(df_binned.loc[:, 'enc_id']), :]\n",
    "binned_treatment_prev = binned_treatment_prev.groupby('enc_id').filter(lambda x: x.loc[:, 'enc_id'].iloc[0] in np.unique(df_binned.loc[:, 'enc_id']))"
   ]
  },
  {
   "cell_type": "code",
   "execution_count": 52,
   "metadata": {},
   "outputs": [],
   "source": [
    "# check the difference in mean signal values of those with a chronic condition (cc) and those without it\n",
    "def mean_diff_cc(cc):\n",
    "    id_with_cc = df_static.loc[df_static[cc]==1].index.values\n",
    "    df_with_cc = df_binned.groupby('enc_id').filter(lambda x: x['enc_id'].iloc[0] in id_with_cc)\n",
    "    values_with_cc = df_with_cc.groupby('enc_id').apply(lambda x: x[signal_name].dropna().mean())\n",
    "\n",
    "    id_no_cc = df_static.loc[df_static[cc]==0].index.values\n",
    "    df_no_cc = df_binned.groupby('enc_id').filter(lambda x: x['enc_id'].iloc[0] in id_no_cc)\n",
    "    values_no_cc = df_no_cc.groupby('enc_id').apply(lambda x: x[signal_name].dropna().mean())\n",
    "    \n",
    "    return values_with_cc.mean() - values_no_cc.mean()"
   ]
  },
  {
   "cell_type": "markdown",
   "metadata": {},
   "source": [
    "### Data analytics after Preprocessing"
   ]
  },
  {
   "cell_type": "code",
   "execution_count": 53,
   "metadata": {},
   "outputs": [
    {
     "name": "stdout",
     "output_type": "stream",
     "text": [
      "mean diff for liver: 3.1903\n",
      "mean diff for chronic_kidney: 22.325\n",
      "mean diff for esrd: 24.3212\n",
      "mean diff for renal: 25.8446\n",
      "mean diff for heart_failure: 14.7231\n",
      "mean diff for kidney_cancer: 13.328\n"
     ]
    }
   ],
   "source": [
    "for cc in list(chronic_names.keys()):\n",
    "    print('mean diff for {}: {}'.format(cc, round(mean_diff_cc(cc), 4)))"
   ]
  },
  {
   "cell_type": "code",
   "execution_count": null,
   "metadata": {},
   "outputs": [],
   "source": [
    "%%capture\n",
    "'''\n",
    "treatment = 'dialysis'\n",
    "df_with_treatment = df_binned.groupby('enc_id').filter(lambda x: np.count_nonzero(x[treatment]) > 0)\n",
    "initial_value_with_treatment = df_with_treatment.groupby('enc_id').apply(lambda x: x[signal_name].iloc[0])\n",
    "initial_value_all = df_binned.groupby('enc_id').apply(lambda x: x[signal_name].iloc[0])\n",
    "print('pct of patients who receive {} whose initial value are less than mean initial value of the population: {}'\n",
    "      .format(treatment,\n",
    "              round(np.where(initial_value_with_treatment < initial_value_all.mean())[0].shape[0] / initial_value_with_treatment.shape[0], 4)))\n",
    "#print('initial value std from data: {}'.format(round(initial_value.std(), 4)))\n",
    "plt.hist(initial_value_with_treatment, bins=20)\n",
    "'''"
   ]
  },
  {
   "cell_type": "code",
   "execution_count": 54,
   "metadata": {},
   "outputs": [],
   "source": [
    "# pct of patient who have both chronic condition 1 (cc1) and chronic condition 2(cc2) among those who have either\n",
    "def pct_with_both(cc1, cc2):\n",
    "    num_with_cc1 = df_static.loc[df_static[cc1]==1].index.values.shape[0]\n",
    "    num_with_cc2 = df_static.loc[df_static[cc2]==1].index.values.shape[0]\n",
    "    num_with_both = df_static.loc[np.all([df_static[cc1]==1, df_static[cc2]==1], axis=0)].index.values.shape[0]\n",
    "    pct_cc1 = round(num_with_both/num_with_cc1*100, 2)\n",
    "    pct_cc2 = round(num_with_both/num_with_cc2*100, 2)\n",
    "    print('{}% of {} patients also have {}'.format(pct_cc1, cc1, cc2))\n",
    "    print('{}% of {} patients also have {}'.format(pct_cc2, cc2, cc1))"
   ]
  },
  {
   "cell_type": "code",
   "execution_count": 55,
   "metadata": {},
   "outputs": [
    {
     "name": "stdout",
     "output_type": "stream",
     "text": [
      "13.18% of esrd patients also have renal\n",
      "17.17% of renal patients also have esrd\n"
     ]
    }
   ],
   "source": [
    "# check colinearity\n",
    "check_list = ['esrd', 'renal']\n",
    "for i in range(len(check_list)):\n",
    "    for j in range(i+1, len(check_list)):\n",
    "        pct_with_both(check_list[i], check_list[j])"
   ]
  },
  {
   "cell_type": "code",
   "execution_count": 56,
   "metadata": {},
   "outputs": [
    {
     "data": {
      "text/plain": [
       "(1546,)"
      ]
     },
     "execution_count": 56,
     "metadata": {},
     "output_type": "execute_result"
    }
   ],
   "source": [
    "# part of df_binned of patients who have at least one treatment given\n",
    "df_binned_with_treatment = df_binned.groupby('enc_id').filter(lambda x: np.nonzero(x.loc[:, list(treatment_names.keys())].apply(lambda y: np.count_nonzero(y)))[0].shape[0]!=0)\n",
    "df_binned_with_treatment['enc_id'].unique().shape"
   ]
  },
  {
   "cell_type": "code",
   "execution_count": 57,
   "metadata": {},
   "outputs": [
    {
     "data": {
      "text/plain": [
       "(array([323., 498., 416., 277., 203., 153., 122.,  84.,  69.,  39.,  32.,\n",
       "         16.,  19.,  12.,  14.,   5.,   6.,   2.,   1.,   1.]),\n",
       " array([  3.        ,   9.15083333,  15.30166667,  21.4525    ,\n",
       "         27.60333333,  33.75416667,  39.905     ,  46.05583333,\n",
       "         52.20666667,  58.3575    ,  64.50833333,  70.65916667,\n",
       "         76.81      ,  82.96083333,  89.11166667,  95.2625    ,\n",
       "        101.41333333, 107.56416667, 113.715     , 119.86583333,\n",
       "        126.01666667]),\n",
       " <a list of 20 Patch objects>)"
      ]
     },
     "execution_count": 57,
     "metadata": {},
     "output_type": "execute_result"
    },
    {
     "data": {
      "image/png": "[encoded data removed]",
      "text/plain": [
       "<Figure size 432x288 with 1 Axes>"
      ]
     },
     "metadata": {},
     "output_type": "display_data"
    }
   ],
   "source": [
    "# the mean of signal values for each individual\n",
    "signal_mean = df_binned.groupby('enc_id').apply(lambda x: np.mean(x[signal_name].values[np.where(np.invert(np.isnan(x[signal_name])))[0]]))\n",
    "plt.hist(signal_mean, bins=20)"
   ]
  },
  {
   "cell_type": "code",
   "execution_count": 58,
   "metadata": {},
   "outputs": [
    {
     "data": {
      "text/plain": [
       "746"
      ]
     },
     "execution_count": 58,
     "metadata": {},
     "output_type": "execute_result"
    }
   ],
   "source": [
    "# patients with no treatment given\n",
    "no_treatment = df_binned.groupby('enc_id').filter(lambda x: np.nonzero(x.loc[:, list(treatment_names.keys())].apply(lambda y: np.count_nonzero(y)))[0].shape[0]==0)\n",
    "# standard deviation of signal values for patients with no treatment given\n",
    "signal_std_no_treatment = no_treatment.groupby('enc_id').apply(lambda x: np.std(x[signal_name]))\n",
    "# number of patients with no treatment given\n",
    "signal_std_no_treatment.shape[0]"
   ]
  },
  {
   "cell_type": "code",
   "execution_count": 59,
   "metadata": {},
   "outputs": [
    {
     "data": {
      "text/plain": [
       "5.439506253267831"
      ]
     },
     "execution_count": 59,
     "metadata": {},
     "output_type": "execute_result"
    },
    {
     "data": {
      "image/png": "[encoded data removed]",
      "text/plain": [
       "<Figure size 432x288 with 1 Axes>"
      ]
     },
     "metadata": {},
     "output_type": "display_data"
    }
   ],
   "source": [
    "plt.hist(signal_std_no_treatment, bins=20)\n",
    "# mean of the std\n",
    "np.mean(signal_std_no_treatment)"
   ]
  },
  {
   "cell_type": "code",
   "execution_count": 60,
   "metadata": {},
   "outputs": [],
   "source": [
    "# for a given treatment time point, find the time point of the most recent observation PRIOR to \n",
    "# the treatment time point\n",
    "def find_most_recent_obs_before_treatment(treatment_time, obs_times):\n",
    "    min_index = np.argmin(np.absolute(obs_times-treatment_time))\n",
    "    if obs_times[min_index] >= treatment_time:\n",
    "        min_index -= 1\n",
    "    return obs_times[min_index]"
   ]
  },
  {
   "cell_type": "code",
   "execution_count": 61,
   "metadata": {},
   "outputs": [],
   "source": [
    "# percentage of decreasing (or increasing) effect of a single treatment at a single past time point e.g. the second\n",
    "# day before among treatment given to all patients in df\n",
    "def single_treatment_single_effect(df, treatment, past_time_point):\n",
    "    patients = df['enc_id'].unique()\n",
    "    treatment_effect = [] \n",
    "    for patient in patients:\n",
    "        df_patient = df.loc[df['enc_id']==patient]\n",
    "        treatment_time = np.nonzero(df_patient[treatment])[0]\n",
    "        # time points w/ valid observation\n",
    "        obs_times = np.where(np.invert(np.isnan(df_patient[signal_name].values)))[0]\n",
    "        obs = df_patient[signal_name].values\n",
    "        for i in treatment_time:\n",
    "            # if within the window we are considering, there is an observation\n",
    "            # we consider it to be the effect of this treatment\n",
    "            if i+past_time_point in obs_times:\n",
    "                # the most recent observation prior to a treatment time\n",
    "                prev_obs_time = find_most_recent_obs_before_treatment(i, obs_times)\n",
    "                prev_obs = df_patient[signal_name].values[prev_obs_time]\n",
    "                treatment_effect.append(obs[i+past_time_point] - prev_obs)\n",
    "    return np.mean(np.array(treatment_effect))"
   ]
  },
  {
   "cell_type": "code",
   "execution_count": 62,
   "metadata": {},
   "outputs": [
    {
     "name": "stdout",
     "output_type": "stream",
     "text": [
      "avg effect of dialysis 12 hrs prior: -13.5853\n",
      "avg effect of dialysis 24 hrs prior: -11.8736\n",
      "avg effect of dialysis 36 hrs prior: -5.7494\n",
      "avg effect of diuretics 12 hrs prior: 0.0332\n",
      "avg effect of diuretics 24 hrs prior: 0.2263\n",
      "avg effect of diuretics 36 hrs prior: 0.43\n",
      "avg effect of certain antibiotics 12 hrs prior: 0.1932\n",
      "avg effect of certain antibiotics 24 hrs prior: -0.3287\n",
      "avg effect of certain antibiotics 36 hrs prior: -0.3707\n"
     ]
    }
   ],
   "source": [
    "check_list = list(treatment_names.keys())\n",
    "for treatment in check_list:\n",
    "    past_time_points = 3\n",
    "    for i in range(1, past_time_points+1):\n",
    "        avg_diff = single_treatment_single_effect(df_binned_with_treatment, treatment, i)\n",
    "        print('avg effect of {} {} hrs prior: {}'.format(treatment, i*bin_size_num, round(avg_diff, 4)))"
   ]
  },
  {
   "cell_type": "markdown",
   "metadata": {},
   "source": [
    "### Train only on those with no treatments"
   ]
  },
  {
   "cell_type": "code",
   "execution_count": 63,
   "metadata": {},
   "outputs": [],
   "source": [
    "# Train only on those with no treatments\n",
    "#df_static = df_static.loc[df_static.index.isin(no_treatment['enc_id'].unique())]\n",
    "#df_binned = no_treatment\n",
    "#binned_treatment_prev = binned_treatment_prev.groupby('enc_id').filter(lambda x: x.loc[:, 'enc_id'].iloc[0] in np.unique(df_binned.loc[:, 'enc_id']))"
   ]
  },
  {
   "cell_type": "markdown",
   "metadata": {},
   "source": [
    "### Convert to np.array for Model Use"
   ]
  },
  {
   "cell_type": "code",
   "execution_count": 64,
   "metadata": {},
   "outputs": [],
   "source": [
    "# maximum number of bins for an individual\n",
    "# necessary if convert dataframe to np array\n",
    "max_num_bins = int(max(df_binned.loc[:, 'time']) / timedelta(hours=bin_size_num)) + 1"
   ]
  },
  {
   "cell_type": "code",
   "execution_count": 65,
   "metadata": {},
   "outputs": [
    {
     "data": {
      "text/plain": [
       "65"
      ]
     },
     "execution_count": 65,
     "metadata": {},
     "output_type": "execute_result"
    }
   ],
   "source": [
    "max_num_bins"
   ]
  },
  {
   "cell_type": "code",
   "execution_count": 66,
   "metadata": {},
   "outputs": [],
   "source": [
    "# turn static features into np array\n",
    "c_mtx = df_static.values"
   ]
  },
  {
   "cell_type": "code",
   "execution_count": 67,
   "metadata": {},
   "outputs": [],
   "source": [
    "# create matrix storing the signal observations\n",
    "# shape is (number of patient * max_num_bins)\n",
    "y_list = []\n",
    "df_binned.groupby('enc_id').apply(lambda x: y_list.append(x.loc[:, signal_name].values))\n",
    "# for some reason the first group always got appended twice to the list, so delete one\n",
    "y_list.pop(0)\n",
    "y_mtx = np.full((len(y_list), max_num_bins), np.nan)\n",
    "for i, y in enumerate(y_list):\n",
    "    y_mtx[i, :y.shape[0]] = y"
   ]
  },
  {
   "cell_type": "code",
   "execution_count": 68,
   "metadata": {},
   "outputs": [],
   "source": [
    "# create matrix storing treatment (after the first observation) information\n",
    "# shape is (number of patients * max_num_bins * number of treatment categories)\n",
    "x_list = []\n",
    "df_binned.groupby('enc_id').apply(lambda x: x_list.append(x.loc[:, list(treatment_names.keys())].values))\n",
    "x_list.pop(0)\n",
    "X_mtx = np.zeros((len(x_list), max_num_bins, len(treatment_names.keys())))\n",
    "for i, x in enumerate(x_list):\n",
    "    X_mtx[i, :x.shape[0], :] = x"
   ]
  },
  {
   "cell_type": "code",
   "execution_count": 69,
   "metadata": {},
   "outputs": [],
   "source": [
    "# create matrix storing treatment (before the first observation) information\n",
    "# shape is (number of patients * num_past_effects * number of treatment categories)\n",
    "x_prev_list = []\n",
    "binned_treatment_prev.groupby('enc_id').apply(lambda x: x_prev_list.append(x.loc[:, list(treatment_names.keys())].values))\n",
    "x_prev_list.pop(0)\n",
    "X_prev_mtx = np.zeros((len(x_prev_list), num_past_effects, len(treatment_names.keys())))\n",
    "for i, x in enumerate(x_prev_list):\n",
    "    X_prev_mtx[i, :x.shape[0], :] = x"
   ]
  },
  {
   "cell_type": "code",
   "execution_count": 70,
   "metadata": {},
   "outputs": [],
   "source": [
    "#np.savez('../Data/'+signal_name+'_test_preprocessed_data', y_mtx=y_mtx, X_mtx=X_mtx, X_prev_mtx=X_prev_mtx, c_mtx=c_mtx)"
   ]
  },
  {
   "cell_type": "code",
   "execution_count": 71,
   "metadata": {},
   "outputs": [
    {
     "data": {
      "text/plain": [
       "(2292, 65)"
      ]
     },
     "execution_count": 71,
     "metadata": {},
     "output_type": "execute_result"
    }
   ],
   "source": [
    "y_mtx.shape"
   ]
  },
  {
   "cell_type": "markdown",
   "metadata": {},
   "source": [
    "### Model Training\n",
    "* Using Pipeline_Training notebook to train is preferable as for now because\n",
    "    * parallel training is implemented there\n",
    "    * easier to test modification of model (don't have to go through the entire preprocessing again if changes are made to EM.py)\n",
    "* To do that, simple store the preprocessed data, then load from the training notebook"
   ]
  },
  {
   "cell_type": "code",
   "execution_count": null,
   "metadata": {},
   "outputs": [],
   "source": [
    "%%time\n",
    "num_iter = 1 # number of iterations to average over coefficients\n",
    "# store coefficients averaged over multiple runs of EM\n",
    "A = np.zeros((num_iter, num_past_effects, len(treatment_names.keys())))\n",
    "b = np.zeros((num_iter, len(chronic_keywords) + len(demographic_names)))\n",
    "transition_std = np.zeros(num_iter)\n",
    "observation_std = np.zeros(num_iter)\n",
    "initial_state_std = np.zeros(num_iter)\n",
    "initial_state_mean = np.zeros(num_iter)\n",
    "\n",
    "for i in range(num_iter):\n",
    "    em = EM(y_mtx, X_mtx, c_mtx, num_past_effects, K=0, train_pct=training_pct, X_prev_given=True, X_prev = X_prev_mtx)\n",
    "    em.run_EM(20000)\n",
    "    A[i, :, :] = em.A\n",
    "    b[i, :] = em.b\n",
    "    initial_state_mean[i] =  em.init_z\n",
    "    initial_state_std[i] = np.sqrt(em.sigma_0)\n",
    "    transition_std[i] = np.sqrt(em.sigma_1)\n",
    "    observation_std[i] = np.sqrt(em.sigma_2)"
   ]
  },
  {
   "cell_type": "code",
   "execution_count": null,
   "metadata": {},
   "outputs": [],
   "source": [
    "print('Coeffients averaged over {} runs'.format(num_iter))\n",
    "for i, treatment in enumerate(treatment_names.keys()):\n",
    "    print('Coefficient for {}: {}'.format(treatment, np.round(np.average(A, axis=0)[:, i], 4)))\n",
    "static_types = chronic_keywords + demographic_names\n",
    "for j, static in enumerate(static_types):\n",
    "    print('Coefficient for {}: {}'.format(static, np.round(np.average(b, axis=0)[j], 4)))\n",
    "print('initial state mean: {}'.format(np.round(np.average(initial_state_mean), 4)))\n",
    "print('initial state std: {}'.format(np.round(np.average(initial_state_std), 4)))\n",
    "print('transition noise (std): {}'.format(np.round(np.average(transition_std), 4)))\n",
    "print('observation noise (std): {}'.format(np.round(np.average(observation_std), 4)))"
   ]
  },
  {
   "cell_type": "code",
   "execution_count": null,
   "metadata": {},
   "outputs": [],
   "source": [
    "print('Coeffients std')\n",
    "for i, treatment in enumerate(treatment_names.keys()):\n",
    "    print('Coefficient for {}: {}'.format(treatment, np.round(np.std(A, axis=0)[:, i], 4)))\n",
    "static_types = chronic_keywords + demographic_names\n",
    "for j, static in enumerate(static_types):\n",
    "    print('Coefficient for {}: {}'.format(static, np.round(np.std(b, axis=0)[j], 4)))\n",
    "print('initial state mean: {}'.format(np.round(np.std(initial_state_mean), 4)))\n",
    "print('initial state std: {}'.format(np.round(np.std(initial_state_std), 4)))\n",
    "print('transition noise (std): {}'.format(np.round(np.std(transition_std), 4)))\n",
    "print('observation noise (std): {}'.format(np.round(np.std(observation_std), 4)))"
   ]
  },
  {
   "cell_type": "code",
   "execution_count": null,
   "metadata": {},
   "outputs": [],
   "source": [
    "plt.plot([i for i in range(len(em.obs_log_lik))], em.obs_log_lik)\n",
    "plt.xlabel('Iterations')\n",
    "plt.ylabel('Observed data log likelihood')\n",
    "plt.title('EM log likelihood')\n",
    "plt.show()"
   ]
  },
  {
   "cell_type": "code",
   "execution_count": null,
   "metadata": {},
   "outputs": [],
   "source": [
    "plt.plot([i for i in range(len(em.mse))], em.mse)\n",
    "plt.xlabel('Iterations')\n",
    "plt.ylabel('MSE')\n",
    "plt.title('Prediction MSE')\n",
    "plt.show()"
   ]
  },
  {
   "cell_type": "code",
   "execution_count": null,
   "metadata": {},
   "outputs": [],
   "source": [
    "for i, treatment in enumerate(treatment_names.keys()):\n",
    "    print('Coefficient for {}: {}'.format(treatment, np.round(em.A[:, i], 4)))\n",
    "static_types = chronic_keywords + demographic_names\n",
    "for j, static in enumerate(static_types):\n",
    "    print('Coefficient for {}: {}'.format(static, np.round(em.b[j], 4)))\n",
    "print('initial state mean: {}'.format(round(em.init_z, 4)))\n",
    "print('initial state std: {}'.format(round(np.sqrt(em.sigma_0), 4)))\n",
    "print('transition noise (std): {}'.format(round(np.sqrt(em.sigma_1), 4)))\n",
    "print('observation noise (std): {}'.format(round(np.sqrt(em.sigma_2), 4)))"
   ]
  },
  {
   "cell_type": "code",
   "execution_count": null,
   "metadata": {},
   "outputs": [],
   "source": [
    "# return the index in array a whose element is not in b\n",
    "def not_in(a, b):\n",
    "    index = []\n",
    "    for i, ele in enumerate(a):\n",
    "        if ele not in b:\n",
    "            index.append(i)\n",
    "    return np.array(index)\n",
    "\n",
    "have_treatment_index = not_in(df_binned['enc_id'].unique(), no_treatment['enc_id'].unique())"
   ]
  },
  {
   "cell_type": "code",
   "execution_count": null,
   "metadata": {},
   "outputs": [],
   "source": [
    "# return the index (in np array) of patients who have a particular type of treatment\n",
    "def have_index(treatment):\n",
    "    no_treatment = df_binned.groupby('enc_id').filter(lambda x: np.count_nonzero(x[treatment]) == 0)['enc_id'].unique()\n",
    "    return not_in(df_binned['enc_id'].unique(), no_treatment)"
   ]
  },
  {
   "cell_type": "code",
   "execution_count": null,
   "metadata": {},
   "outputs": [],
   "source": [
    "have_index('dialysis')"
   ]
  },
  {
   "cell_type": "code",
   "execution_count": null,
   "metadata": {
    "scrolled": false
   },
   "outputs": [],
   "source": [
    "random_patients = np.random.choice(have_index('dialysis'), size=10, replace=False)\n",
    "for i, patient_num in enumerate(random_patients):\n",
    "    plot(em, patient_num, bin_size_num, signal_name, treatment_types=list(treatment_names.keys()))"
   ]
  }
 ],
 "metadata": {
  "kernelspec": {
   "display_name": "Python 3",
   "language": "python",
   "name": "python3"
  },
  "language_info": {
   "codemirror_mode": {
    "name": "ipython",
    "version": 3
   },
   "file_extension": ".py",
   "mimetype": "text/x-python",
   "name": "python",
   "nbconvert_exporter": "python",
   "pygments_lexer": "ipython3",
   "version": "3.6.5"
  }
 },
 "nbformat": 4,
 "nbformat_minor": 2
}
