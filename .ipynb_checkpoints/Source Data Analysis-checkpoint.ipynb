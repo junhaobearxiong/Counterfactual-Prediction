{
 "cells": [
  {
   "cell_type": "code",
   "execution_count": 9,
   "metadata": {},
   "outputs": [],
   "source": [
    "import pickle\n",
    "import numpy as np\n",
    "import matplotlib.pyplot as plt"
   ]
  },
  {
   "cell_type": "code",
   "execution_count": 2,
   "metadata": {},
   "outputs": [],
   "source": [
    "data = pickle.load(open('Data/unimputed_inr_patient_data.pkl', 'rb'), encoding='latin1')"
   ]
  },
  {
   "cell_type": "code",
   "execution_count": 10,
   "metadata": {},
   "outputs": [
    {
     "data": {
      "text/plain": [
       "{'nsaid_times': [],\n",
       " 'transfusion_times': [array([], dtype=float64), array([], dtype=float64)],\n",
       " 'obs_times': array([120.]),\n",
       " 'event_time': 650.0,\n",
       " 'sepsis': 0,\n",
       " 'chronic_names': ['liver_disease', 'sickle_cell'],\n",
       " 'demographic': array([32.]),\n",
       " 'anticoagulant_times': [],\n",
       " 'marker_name': 'inr',\n",
       " 'aspirin_times': [],\n",
       " 'chronic': array([0., 0.]),\n",
       " 'transfusion_names': ['transfuse_plasma', 'transfuse_platelets'],\n",
       " 'obs_y': array([0.9]),\n",
       " 'nsaid_names': ['acetaminophen_dose',\n",
       "  'celecoxib_dose',\n",
       "  'diclofenac_dose',\n",
       "  'ibuprofen_dose',\n",
       "  'indomethacin_dose',\n",
       "  'ketorolac_dose',\n",
       "  'meloxicam_dose',\n",
       "  'naproxen_dose'],\n",
       " 'excess_alcohol': 0.0,\n",
       " 'inr_orgdf': 0,\n",
       " 'anticoagulant_names': ['warfarin_dose',\n",
       "  'heparin_dose',\n",
       "  'dabigatran_dose',\n",
       "  'edoxaban_dose',\n",
       "  'rivaroxaban_dose',\n",
       "  'apixaban_dose',\n",
       "  'enoxaparin_dose',\n",
       "  'dalteparin_dose',\n",
       "  'fondaparinux_dose'],\n",
       " 'id': 8,\n",
       " 'demographic_names': ['age']}"
      ]
     },
     "execution_count": 10,
     "metadata": {},
     "output_type": "execute_result"
    }
   ],
   "source": [
    "data[0]"
   ]
  },
  {
   "cell_type": "code",
   "execution_count": 27,
   "metadata": {},
   "outputs": [
    {
     "data": {
      "image/png": "[encoded data removed]",
      "text/plain": [
       "<Figure size 432x288 with 1 Axes>"
      ]
     },
     "metadata": {},
     "output_type": "display_data"
    }
   ],
   "source": [
    "num_obs = []\n",
    "for d in data:\n",
    "    num_obs.append(d['obs_times'].shape[0])\n",
    "\n",
    "max_num_obs = max(num_obs)\n",
    "hist = plt.hist(num_obs, bins = max_num_obs, range=(1, max_num_obs))[0]"
   ]
  },
  {
   "cell_type": "code",
   "execution_count": 32,
   "metadata": {},
   "outputs": [
    {
     "data": {
      "text/plain": [
       "95.0"
      ]
     },
     "execution_count": 32,
     "metadata": {},
     "output_type": "execute_result"
    }
   ],
   "source": [
    "np.sum(hist[4:])\n",
    "np.sum(hist[9:])\n",
    "np.sum(hist[14:])\n",
    "np.sum(hist[19:])"
   ]
  },
  {
   "cell_type": "markdown",
   "metadata": {},
   "source": [
    "### Things to consider\n",
    "* Distribution of observational, nsaid, transfusion, anticoagulant, aspirin times\n",
    "* Number of chronic conditions\n",
    "* Distribution of age\n",
    "* Distribution of sepsis"
   ]
  },
  {
   "cell_type": "code",
   "execution_count": null,
   "metadata": {},
   "outputs": [],
   "source": []
  }
 ],
 "metadata": {
  "kernelspec": {
   "display_name": "Python 3",
   "language": "python",
   "name": "python3"
  },
  "language_info": {
   "codemirror_mode": {
    "name": "ipython",
    "version": 3
   },
   "file_extension": ".py",
   "mimetype": "text/x-python",
   "name": "python",
   "nbconvert_exporter": "python",
   "pygments_lexer": "ipython3",
   "version": "3.6.5"
  }
 },
 "nbformat": 4,
 "nbformat_minor": 2
}
