{
 "cells": [
  {
   "cell_type": "code",
   "execution_count": 1,
   "metadata": {
    "scrolled": true
   },
   "outputs": [],
   "source": [
    "%%capture\n",
    "import pickle\n",
    "import numpy as np\n",
    "import math\n",
    "import scipy as sp\n",
    "import matplotlib.pyplot as plt\n",
    "from EM import EM\n",
    "from plot import plot\n",
    "from preprocess import preprocess\n",
    "#from EM_individual_params import EM "
   ]
  },
  {
   "cell_type": "markdown",
   "metadata": {},
   "source": [
    "### Modeling choices (which generates the lowest MSE and the plots in write up)\n",
    "* Cutoff (only consider the data point with at least certain number of observations): 5 --> 2214 data points, 215 bins\n",
    "* Bin size (length of time interval used to bin the time series): 18 hrs\n",
    "* Parameters initialization\n",
    "    * Both treatment and static coefficients: Gaussian with mean 0.1 plus small white noise\n",
    "* Missingness\n",
    "    * After binning the data, only consider the data points with less than 40% missing observations\n",
    "* Chronic conditions and age\n",
    "    * Set to zero"
   ]
  },
  {
   "cell_type": "markdown",
   "metadata": {},
   "source": [
    "Coefficients learned with best population level results\n",
    "* Coefficient for nsaid: [0.31291354 0.11150224 0.02927106]\n",
    "* Coefficient for transfusion_plasma: [0.21646024 0.12142273 0.07316288]\n",
    "* Coefficient for transfusion_platelet: [-0.24024057 -0.41378184 -0.28599656]\n",
    "* Coefficient for anticoagulant: [-0.04605939  0.15568198  0.06412978]\n",
    "* Coefficient for aspirin: [0.25202486 0.1102651  0.03499285]\n",
    "\n",
    "Coefficients (jointly) learned with best population level results\n",
    "* Coefficient for nsaid: [ 0.09144572  0.01808053 -0.00736706]\n",
    "* Coefficient for transfusion_plasma: [-0.29370552 -0.15658492 -0.12820925]\n",
    "* Coefficient for transfusion_platelet: [-0.32318352 -0.44511952 -0.43787362]\n",
    "* Coefficient for anticoagulant: [-0.46557922  0.00142221 -0.02525039]\n",
    "* Coefficient for aspirin: [-0.04017403 -0.04024049 -0.00733096]\n",
    "* Coefficient for chronic kidney failure: 0.27480724324859296\n",
    "* Coefficient for sickle cell: 0.238516267304465\n",
    "* Coefficient for age: 0.01752724784756275"
   ]
  },
  {
   "cell_type": "code",
   "execution_count": 2,
   "metadata": {},
   "outputs": [],
   "source": [
    "# Preprocess Setting\n",
    "bin_size = 60 * 18\n",
    "cutoff = 5\n",
    "missing_pct = .4\n",
    "c_zero = False\n",
    "\n",
    "# EM Setting\n",
    "num_past_effects = 3\n",
    "training_pct = .8\n",
    "single_effect = False"
   ]
  },
  {
   "cell_type": "code",
   "execution_count": 3,
   "metadata": {},
   "outputs": [],
   "source": [
    "data = pickle.load(open('../Data/unimputed_inr_patient_data.pkl', 'rb'), encoding='latin1')"
   ]
  },
  {
   "cell_type": "code",
   "execution_count": 4,
   "metadata": {},
   "outputs": [],
   "source": [
    "y, X, c = preprocess(data, cutoff, bin_size, missing_pct=missing_pct, c_zero=c_zero)"
   ]
  },
  {
   "cell_type": "code",
   "execution_count": 5,
   "metadata": {},
   "outputs": [
    {
     "data": {
      "text/plain": [
       "(2214, 215)"
      ]
     },
     "execution_count": 5,
     "metadata": {},
     "output_type": "execute_result"
    }
   ],
   "source": [
    "y.shape"
   ]
  },
  {
   "cell_type": "markdown",
   "metadata": {},
   "source": [
    "### Reasons for Errors\n",
    "* Assume the a single set of parameters generate all the data. This assumption could be violated since:\n",
    "    1. Each patient respond to treatment differently\n",
    "    2. Different treatment and chronic conditions may have various interaction effects on different individuals\n",
    "* After changing treatment coefficients to be on individual level, the average coefficients are similar to the case of population level coefficients. The fit on some plots improve slightly but not much.  \n",
    "* Assume observed value is well explained by the treatment and chronic variable. whereas in reality there might be other variable that contributes to the observed\n",
    "* Assume linear transition, emission and treatment/chronic effects\n",
    "* Seeing from the data, treatments don't seem to show clear effects on INR, from plots and from calculations."
   ]
  },
  {
   "cell_type": "code",
   "execution_count": 6,
   "metadata": {},
   "outputs": [],
   "source": [
    "em = EM(y, X, c, num_past_effects, 0, train_pct=training_pct, single_effect=single_effect)"
   ]
  },
  {
   "cell_type": "code",
   "execution_count": 7,
   "metadata": {
    "scrolled": false
   },
   "outputs": [
    {
     "name": "stdout",
     "output_type": "stream",
     "text": [
      "max iterations: 500 reached\n",
      "CPU times: user 25min 47s, sys: 87.7 ms, total: 25min 47s\n",
      "Wall time: 25min 47s\n"
     ]
    }
   ],
   "source": [
    "%%time\n",
    "em.run_EM(500)"
   ]
  },
  {
   "cell_type": "code",
   "execution_count": 8,
   "metadata": {},
   "outputs": [
    {
     "data": {
      "text/plain": [
       "1.01714340998109"
      ]
     },
     "execution_count": 8,
     "metadata": {},
     "output_type": "execute_result"
    }
   ],
   "source": [
    "em.get_MSE()"
   ]
  },
  {
   "cell_type": "code",
   "execution_count": 9,
   "metadata": {
    "scrolled": true
   },
   "outputs": [
    {
     "name": "stdout",
     "output_type": "stream",
     "text": [
      "Coefficient for nsaid: [-0.07408245  0.01390443 -0.02136621]\n",
      "Coefficient for transfusion_plasma: [-0.54602964 -0.20416589 -0.23492377]\n",
      "Coefficient for transfusion_platelet: [-0.78690423 -1.07778153 -0.73084188]\n",
      "Coefficient for anticoagulant: [-0.79181835 -0.1506899  -0.06266534]\n",
      "Coefficient for aspirin: [-0.13027704 -0.1326261  -0.05292395]\n",
      "Coefficient for chronic kidney failure: -1.3121359884570776\n",
      "Coefficient for sickle cell: -2.414278413676523\n",
      "Coefficient for age: -0.1025557457370168\n"
     ]
    }
   ],
   "source": [
    "treatment_types = ['nsaid', 'transfusion_plasma', 'transfusion_platelet', 'anticoagulant', 'aspirin']\n",
    "for i, treatment in enumerate(treatment_types):\n",
    "    print('Coefficient for {}: {}'.format(treatment, em.A[:, i]))\n",
    "static_types = ['chronic kidney failure', 'sickle cell', 'age']\n",
    "for j, static in enumerate(static_types):\n",
    "    print('Coefficient for {}: {}'.format(static, em.b[j]))"
   ]
  },
  {
   "cell_type": "code",
   "execution_count": 10,
   "metadata": {
    "scrolled": false
   },
   "outputs": [],
   "source": [
    "random_patients = np.random.randint(0, y.shape[0], 0)\n",
    "for i in random_patients:\n",
    "    plot(em, i, bin_size=bin_size)"
   ]
  },
  {
   "cell_type": "code",
   "execution_count": 12,
   "metadata": {},
   "outputs": [
    {
     "data": {
      "image/png": "[encoded data removed]",
      "text/plain": [
       "<Figure size 432x288 with 1 Axes>"
      ]
     },
     "metadata": {},
     "output_type": "display_data"
    }
   ],
   "source": [
    "plt.plot([i for i in range(1, len(em.log_lik))], em.log_lik[1:])\n",
    "plt.xlabel('Iterations')\n",
    "plt.ylabel('Observed data log likelihood')\n",
    "plt.title('EM log likelihood')\n",
    "plt.show()"
   ]
  }
 ],
 "metadata": {
  "kernelspec": {
   "display_name": "Python 3",
   "language": "python",
   "name": "python3"
  },
  "language_info": {
   "codemirror_mode": {
    "name": "ipython",
    "version": 3
   },
   "file_extension": ".py",
   "mimetype": "text/x-python",
   "name": "python",
   "nbconvert_exporter": "python",
   "pygments_lexer": "ipython3",
   "version": "3.6.5"
  }
 },
 "nbformat": 4,
 "nbformat_minor": 2
}
