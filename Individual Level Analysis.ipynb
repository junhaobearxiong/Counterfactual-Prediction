{
 "cells": [
  {
   "cell_type": "code",
   "execution_count": 2,
   "metadata": {},
   "outputs": [],
   "source": [
    "import pickle\n",
    "import numpy as np\n",
    "import scipy.stats\n",
    "from EM import EM\n",
    "from plot import plot"
   ]
  },
  {
   "cell_type": "code",
   "execution_count": 4,
   "metadata": {},
   "outputs": [],
   "source": [
    "signal_name = 'creatinine'"
   ]
  },
  {
   "cell_type": "code",
   "execution_count": 6,
   "metadata": {},
   "outputs": [],
   "source": [
    "data = np.load(open('../Data/'+signal_name+'_preprocessed_data.npz', 'rb'), encoding='latin1')"
   ]
  },
  {
   "cell_type": "code",
   "execution_count": 8,
   "metadata": {},
   "outputs": [
    {
     "data": {
      "text/plain": [
       "(2434, 65)"
      ]
     },
     "execution_count": 8,
     "metadata": {},
     "output_type": "execute_result"
    }
   ],
   "source": [
    "data['y_mtx'].shape"
   ]
  },
  {
   "cell_type": "code",
   "execution_count": 16,
   "metadata": {},
   "outputs": [],
   "source": [
    "def get_data(patient):\n",
    "    y = data['y_mtx'][patient, :][np.newaxis, :]\n",
    "    X = data['X_mtx'][patient, :, :][np.newaxis, :, :]\n",
    "    c = data['c_mtx'][patient, :][np.newaxis, :]\n",
    "    X_prev = data['X_prev_mtx'][patient, :, :][np.newaxis, :, :]\n",
    "    return (y, X, c, X_prev)"
   ]
  },
  {
   "cell_type": "code",
   "execution_count": 18,
   "metadata": {},
   "outputs": [],
   "source": [
    "# em of each individual\n",
    "idv_em = []"
   ]
  },
  {
   "cell_type": "code",
   "execution_count": 21,
   "metadata": {},
   "outputs": [],
   "source": [
    "# patient is the patient index\n",
    "def em_individual(patient):\n",
    "    y, X, c, X_prev = get_data(patient)\n",
    "    em = EM(y, X, c, J=2, K=0, train_pct=.8, X_prev_given=True, X_prev=X_prev)\n",
    "    em.run_EM(1)\n",
    "    idv_em.append(em)"
   ]
  },
  {
   "cell_type": "code",
   "execution_count": null,
   "metadata": {
    "scrolled": false
   },
   "outputs": [],
   "source": [
    "%%time\n",
    "%%capture\n",
    "for patient in range(data['y_mtx'].shape[0]):\n",
    "    em_individual(patient)"
   ]
  },
  {
   "cell_type": "code",
   "execution_count": 12,
   "metadata": {},
   "outputs": [
    {
     "data": {
      "text/plain": [
       "0.7708313333085737"
      ]
     },
     "execution_count": 12,
     "metadata": {},
     "output_type": "execute_result"
    }
   ],
   "source": [
    "sum(mse)/len(mse)"
   ]
  },
  {
   "cell_type": "markdown",
   "metadata": {},
   "source": [
    "### Results Analysis\n",
    "* Single vs. multi effects\n",
    "    * When using single effect, prediction trajectory of individual level model appears flatter, perhaps contributing to a lower mse\n",
    "* In EM for individual level model, the lowest MSE appears in different iterations for different individuals, but most often it appears after the first iteration. The total MSE increases with more iterations starting from iteration 1 (?!) \n",
    "    * This also happens sometimes in the simulation when run with only one sample. The plot seems to suggest that more iterations sometimes lead to spikes in prediction that doesn't correspond to the actual trajectory (the coefficients don't match up either), thus increasing MSE\n",
    "    * This happens more drastically when we have more missingness (in the simulation)\n",
    "    * Could simply because the model is learning bad coefficients, so as iterations continues it just gets worse. since with more missingness, we have less equations in the linear system so the solution is worse (?) \n",
    "* For population level, the MSE after the first iteration is also pretty close to the best MSE. In the run that produces the result, MSE rises after iterations begin then starts decreasing pretty soon\n",
    "    * But at least in the simulation, MSE generally decreases with iterations or fluctuates around the lowest value"
   ]
  }
 ],
 "metadata": {
  "kernelspec": {
   "display_name": "Python 3",
   "language": "python",
   "name": "python3"
  },
  "language_info": {
   "codemirror_mode": {
    "name": "ipython",
    "version": 3
   },
   "file_extension": ".py",
   "mimetype": "text/x-python",
   "name": "python",
   "nbconvert_exporter": "python",
   "pygments_lexer": "ipython3",
   "version": "3.6.5"
  }
 },
 "nbformat": 4,
 "nbformat_minor": 2
}
