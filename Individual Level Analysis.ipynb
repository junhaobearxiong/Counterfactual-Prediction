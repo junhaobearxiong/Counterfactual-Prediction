{
 "cells": [
  {
   "cell_type": "code",
   "execution_count": 1,
   "metadata": {},
   "outputs": [],
   "source": [
    "import pickle\n",
    "import numpy as np\n",
    "import scipy.stats\n",
    "from preprocess import preprocess\n",
    "from EM import EM\n",
    "from plot import plot"
   ]
  },
  {
   "cell_type": "code",
   "execution_count": 22,
   "metadata": {},
   "outputs": [],
   "source": [
    "# Preprocess Setting\n",
    "bin_size = 60 * 18\n",
    "cutoff = 10\n",
    "missing_pct = .3\n",
    "c_zero = True\n",
    "\n",
    "# EM Setting\n",
    "num_past_effects = 3\n",
    "training_pct = .8\n",
    "single_effect = False\n",
    "max_iter = 500"
   ]
  },
  {
   "cell_type": "code",
   "execution_count": 23,
   "metadata": {},
   "outputs": [],
   "source": [
    "data = pickle.load(open('../Data/unimputed_inr_patient_data.pkl', 'rb'), encoding='latin1')"
   ]
  },
  {
   "cell_type": "code",
   "execution_count": 24,
   "metadata": {},
   "outputs": [],
   "source": [
    "y_pop, X_pop, c_pop = preprocess(data, cutoff, bin_size, missing_pct=missing_pct, c_zero=c_zero)"
   ]
  },
  {
   "cell_type": "code",
   "execution_count": 25,
   "metadata": {},
   "outputs": [
    {
     "data": {
      "text/plain": [
       "(487, 215)"
      ]
     },
     "execution_count": 25,
     "metadata": {},
     "output_type": "execute_result"
    }
   ],
   "source": [
    "y_pop.shape"
   ]
  },
  {
   "cell_type": "markdown",
   "metadata": {},
   "source": [
    "### Results Analysis\n",
    "* Single vs. multi effects\n",
    "    * When using single effect, prediction trajectory of individual level model appears flatter, perhaps contributing to a lower mse\n",
    "* In EM for individual level model, the lowest MSE appears in different iterations for different individuals, but most often it appears after the first iteration. The total MSE increases with more iterations starting from iteration 1 (?!) \n",
    "    * This also happens sometimes in the simulation when run with only one sample. The plot seems to suggest that more iterations sometimes lead to spikes in prediction that doesn't correspond to the actual trajectory (the coefficients don't match up either), thus increasing MSE\n",
    "    * This happens more drastically when we have more missingness (in the simulation)\n",
    "    * Could simply because the model is learning bad coefficients, so as iterations continues it just gets worse. since with more missingness, we have less equations in the linear system so the solution is worse (?) \n",
    "* For population level, the MSE after the first iteration is also pretty close to the best MSE. In the run that produces the result, MSE rises after iterations begin then starts decreasing pretty soon\n",
    "    * But at least in the simulation, MSE generally decreases with iterations or fluctuates around the lowest value"
   ]
  },
  {
   "cell_type": "code",
   "execution_count": 8,
   "metadata": {},
   "outputs": [],
   "source": [
    "def get_data(patient):\n",
    "    y = y_pop[patient, :].reshape(1, y_pop.shape[1])\n",
    "    X = X_pop[patient, :, :].reshape(1, X_pop.shape[1], X_pop.shape[2])\n",
    "    c = np.zeros((1, c_pop.shape[1])) #c_pop[patient, :].reshape(1, c_pop.shape[1]) \n",
    "    return (y, X, c)"
   ]
  },
  {
   "cell_type": "code",
   "execution_count": 9,
   "metadata": {},
   "outputs": [],
   "source": [
    "mse = []"
   ]
  },
  {
   "cell_type": "code",
   "execution_count": 1,
   "metadata": {},
   "outputs": [],
   "source": [
    "# patient is the patient index\n",
    "def em_individual(patient):\n",
    "    print('Patient {}'.format(patient))\n",
    "    y, X, c = get_data(patient)\n",
    "    em = EM(y, X, c, num_past_effects, 0, train_pct=training_pct, single_effect=single_effect)\n",
    "    em.run_EM(max_iter)\n",
    "    print('Prediction MSE: {}'.format(em.get_MSE()))\n",
    "    mse.append(em.get_MSE())\n",
    "    if single_effect:\n",
    "        print('Coefficient A: {}'.format(em.A))\n",
    "    else:\n",
    "        treatment_types = ['nsaid', 'transfusion_plasma', 'transfusion_platelet', 'anticoagulant', 'aspirin']\n",
    "        for i, treatment in enumerate(treatment_types):\n",
    "            print('Coefficient for {}: {}'.format(treatment, em.A[:, i]))\n",
    "        static_types = ['chronic kidney failure', 'sickle cell', 'age']\n",
    "        for j, static in enumerate(static_types):\n",
    "            print('Coefficient for {}: {}'.format(static, em.b[j]))\n",
    "    plot(em, 0, bin_size)"
   ]
  },
  {
   "cell_type": "code",
   "execution_count": 11,
   "metadata": {
    "scrolled": false
   },
   "outputs": [
    {
     "name": "stdout",
     "output_type": "stream",
     "text": [
      "CPU times: user 14.3 s, sys: 15.3 ms, total: 14.3 s\n",
      "Wall time: 14.3 s\n"
     ]
    }
   ],
   "source": [
    "%%time\n",
    "%%capture\n",
    "for patient in range(y_pop.shape[0]):\n",
    "    em_individual(patient)"
   ]
  },
  {
   "cell_type": "code",
   "execution_count": 12,
   "metadata": {},
   "outputs": [
    {
     "data": {
      "text/plain": [
       "0.7708313333085737"
      ]
     },
     "execution_count": 12,
     "metadata": {},
     "output_type": "execute_result"
    }
   ],
   "source": [
    "sum(mse)/len(mse)"
   ]
  }
 ],
 "metadata": {
  "kernelspec": {
   "display_name": "Python 3",
   "language": "python",
   "name": "python3"
  },
  "language_info": {
   "codemirror_mode": {
    "name": "ipython",
    "version": 3
   },
   "file_extension": ".py",
   "mimetype": "text/x-python",
   "name": "python",
   "nbconvert_exporter": "python",
   "pygments_lexer": "ipython3",
   "version": "3.6.5"
  }
 },
 "nbformat": 4,
 "nbformat_minor": 2
}
