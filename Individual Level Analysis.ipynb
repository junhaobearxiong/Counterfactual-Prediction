{
 "cells": [
  {
   "cell_type": "markdown",
   "metadata": {},
   "source": [
    "### Effects of Variables on INR\n",
    "* In healthy people an INR of 1.1 or below is considered normal. An INR range of 2.0 to 3.0 is generally an effective therapeutic range for people taking warfarin for disorders such as atrial fibrillation or a blood clot in the leg or lung. In certain situations, such as having a mechanical heart valve, you might need a slightly higher INR.\n",
    "* If INR is too high, the blood is clotting too slow. https://www.mayoclinic.org/tests-procedures/prothrombin-time/about/pac-20384661\n",
    "* Effects of treatments\n",
    "    * Nsaid: Increase \n",
    "    * Transfusion\n",
    "        * Plasma: Unclear https://www.ncbi.nlm.nih.gov/pubmed/16934060\n",
    "        * Platelets: (Should) Decrease (since it helps form blood clots)\n",
    "    * Anticoagulant: Increase\n",
    "    * Aspirin: Increase https://www.ncbi.nlm.nih.gov/pmc/articles/PMC1492499/ https://bpac.org.nz/BT/2010/November/inr.aspx\n",
    "* Chronics\n",
    "    * Liver disease: Unclear\n",
    "        * \"Both procoagulants and anticoagulants that occur naturally in the body are produced by the liver, affecting your INR\" http://www.ptinr.com/en/home/warfarin-you/general-information/health-conditions/liver-liver-disease-and-warfarin.html\n",
    "    * Sickle cell: Decrease\n",
    "        * \"Sickle cell disorders, such as Hb SS and Hb SC, are associated with a hypercoagulable state that may contribute to the vaso-occlusive episodes observed in the disorders.\" https://www.ncbi.nlm.nih.gov/pubmed/11835343\n",
    "* Interaction\n",
    "    * Warfarin might have interaction with other types of treatments\n"
   ]
  },
  {
   "cell_type": "code",
   "execution_count": 15,
   "metadata": {},
   "outputs": [],
   "source": [
    "import pickle\n",
    "from preprocess import preprocess\n",
    "from EM import EM"
   ]
  },
  {
   "cell_type": "code",
   "execution_count": 3,
   "metadata": {},
   "outputs": [],
   "source": [
    "bin_size = 60 * 18\n",
    "cutoff = 10"
   ]
  },
  {
   "cell_type": "code",
   "execution_count": 6,
   "metadata": {},
   "outputs": [],
   "source": [
    "data = pickle.load(open('../Data/unimputed_inr_patient_data.pkl', 'rb'), encoding='latin1')"
   ]
  },
  {
   "cell_type": "code",
   "execution_count": 16,
   "metadata": {},
   "outputs": [],
   "source": [
    "y_pop, X_pop, c_pop = preprocess(data, cutoff, bin_size)"
   ]
  },
  {
   "cell_type": "markdown",
   "metadata": {},
   "source": [
    "### TO DO\n",
    "* Make seperate notebook for individual level analysis\n",
    "    * Select individuals using population analysis notebook \n",
    "    * Do EM for individual and generate plots and coefficient table\n",
    "* Make note of\n",
    "    * The colors for different treatments\n",
    "* Clean up population analysis notebook\n",
    "* Change write up\n",
    "    * Take note of how I deal with missingness when preprocessing and missingness in Kalman Filter"
   ]
  },
  {
   "cell_type": "code",
   "execution_count": null,
   "metadata": {},
   "outputs": [],
   "source": []
  }
 ],
 "metadata": {
  "kernelspec": {
   "display_name": "Python 3",
   "language": "python",
   "name": "python3"
  },
  "language_info": {
   "codemirror_mode": {
    "name": "ipython",
    "version": 3
   },
   "file_extension": ".py",
   "mimetype": "text/x-python",
   "name": "python",
   "nbconvert_exporter": "python",
   "pygments_lexer": "ipython3",
   "version": "3.6.5"
  }
 },
 "nbformat": 4,
 "nbformat_minor": 2
}
